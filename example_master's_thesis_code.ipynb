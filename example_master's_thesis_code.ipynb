{
  "nbformat": 4,
  "nbformat_minor": 0,
  "metadata": {
    "colab": {
      "provenance": [],
      "gpuType": "T4"
    },
    "kernelspec": {
      "name": "python3",
      "display_name": "Python 3"
    },
    "language_info": {
      "name": "python"
    },
    "widgets": {
      "application/vnd.jupyter.widget-state+json": {
        "a0dbf373f2a748cfb8f5e86cfb17b5fb": {
          "model_module": "@jupyter-widgets/controls",
          "model_name": "HBoxModel",
          "model_module_version": "1.5.0",
          "state": {
            "_dom_classes": [],
            "_model_module": "@jupyter-widgets/controls",
            "_model_module_version": "1.5.0",
            "_model_name": "HBoxModel",
            "_view_count": null,
            "_view_module": "@jupyter-widgets/controls",
            "_view_module_version": "1.5.0",
            "_view_name": "HBoxView",
            "box_style": "",
            "children": [
              "IPY_MODEL_2bc974c39d7840f29da5c432f677a7da",
              "IPY_MODEL_69c0955536ab4c81a41c14bbf905e98e",
              "IPY_MODEL_1c2538cd8e024f0ab14e4c6ce4aeaf1d"
            ],
            "layout": "IPY_MODEL_cde294d94bb14c1094e459ea89d36816"
          }
        },
        "2bc974c39d7840f29da5c432f677a7da": {
          "model_module": "@jupyter-widgets/controls",
          "model_name": "HTMLModel",
          "model_module_version": "1.5.0",
          "state": {
            "_dom_classes": [],
            "_model_module": "@jupyter-widgets/controls",
            "_model_module_version": "1.5.0",
            "_model_name": "HTMLModel",
            "_view_count": null,
            "_view_module": "@jupyter-widgets/controls",
            "_view_module_version": "1.5.0",
            "_view_name": "HTMLView",
            "description": "",
            "description_tooltip": null,
            "layout": "IPY_MODEL_fd4dc143dc1548fbbf1105e147ee205e",
            "placeholder": "​",
            "style": "IPY_MODEL_c4ce89d91a8d4a1b8ce2391f29802c19",
            "value": "Downloading (…)lve/main/config.json: 100%"
          }
        },
        "69c0955536ab4c81a41c14bbf905e98e": {
          "model_module": "@jupyter-widgets/controls",
          "model_name": "FloatProgressModel",
          "model_module_version": "1.5.0",
          "state": {
            "_dom_classes": [],
            "_model_module": "@jupyter-widgets/controls",
            "_model_module_version": "1.5.0",
            "_model_name": "FloatProgressModel",
            "_view_count": null,
            "_view_module": "@jupyter-widgets/controls",
            "_view_module_version": "1.5.0",
            "_view_name": "ProgressView",
            "bar_style": "success",
            "description": "",
            "description_tooltip": null,
            "layout": "IPY_MODEL_ec4c6593113a4046b1984fda5d7b8a6f",
            "max": 718,
            "min": 0,
            "orientation": "horizontal",
            "style": "IPY_MODEL_43ff14d1a2b948bc9d25542392f6ee28",
            "value": 718
          }
        },
        "1c2538cd8e024f0ab14e4c6ce4aeaf1d": {
          "model_module": "@jupyter-widgets/controls",
          "model_name": "HTMLModel",
          "model_module_version": "1.5.0",
          "state": {
            "_dom_classes": [],
            "_model_module": "@jupyter-widgets/controls",
            "_model_module_version": "1.5.0",
            "_model_name": "HTMLModel",
            "_view_count": null,
            "_view_module": "@jupyter-widgets/controls",
            "_view_module_version": "1.5.0",
            "_view_name": "HTMLView",
            "description": "",
            "description_tooltip": null,
            "layout": "IPY_MODEL_11d68b385f734204a643a1ace5766a23",
            "placeholder": "​",
            "style": "IPY_MODEL_a496d5d1b08e40de81828b208a94c66f",
            "value": " 718/718 [00:00&lt;00:00, 18.3kB/s]"
          }
        },
        "cde294d94bb14c1094e459ea89d36816": {
          "model_module": "@jupyter-widgets/base",
          "model_name": "LayoutModel",
          "model_module_version": "1.2.0",
          "state": {
            "_model_module": "@jupyter-widgets/base",
            "_model_module_version": "1.2.0",
            "_model_name": "LayoutModel",
            "_view_count": null,
            "_view_module": "@jupyter-widgets/base",
            "_view_module_version": "1.2.0",
            "_view_name": "LayoutView",
            "align_content": null,
            "align_items": null,
            "align_self": null,
            "border": null,
            "bottom": null,
            "display": null,
            "flex": null,
            "flex_flow": null,
            "grid_area": null,
            "grid_auto_columns": null,
            "grid_auto_flow": null,
            "grid_auto_rows": null,
            "grid_column": null,
            "grid_gap": null,
            "grid_row": null,
            "grid_template_areas": null,
            "grid_template_columns": null,
            "grid_template_rows": null,
            "height": null,
            "justify_content": null,
            "justify_items": null,
            "left": null,
            "margin": null,
            "max_height": null,
            "max_width": null,
            "min_height": null,
            "min_width": null,
            "object_fit": null,
            "object_position": null,
            "order": null,
            "overflow": null,
            "overflow_x": null,
            "overflow_y": null,
            "padding": null,
            "right": null,
            "top": null,
            "visibility": null,
            "width": null
          }
        },
        "fd4dc143dc1548fbbf1105e147ee205e": {
          "model_module": "@jupyter-widgets/base",
          "model_name": "LayoutModel",
          "model_module_version": "1.2.0",
          "state": {
            "_model_module": "@jupyter-widgets/base",
            "_model_module_version": "1.2.0",
            "_model_name": "LayoutModel",
            "_view_count": null,
            "_view_module": "@jupyter-widgets/base",
            "_view_module_version": "1.2.0",
            "_view_name": "LayoutView",
            "align_content": null,
            "align_items": null,
            "align_self": null,
            "border": null,
            "bottom": null,
            "display": null,
            "flex": null,
            "flex_flow": null,
            "grid_area": null,
            "grid_auto_columns": null,
            "grid_auto_flow": null,
            "grid_auto_rows": null,
            "grid_column": null,
            "grid_gap": null,
            "grid_row": null,
            "grid_template_areas": null,
            "grid_template_columns": null,
            "grid_template_rows": null,
            "height": null,
            "justify_content": null,
            "justify_items": null,
            "left": null,
            "margin": null,
            "max_height": null,
            "max_width": null,
            "min_height": null,
            "min_width": null,
            "object_fit": null,
            "object_position": null,
            "order": null,
            "overflow": null,
            "overflow_x": null,
            "overflow_y": null,
            "padding": null,
            "right": null,
            "top": null,
            "visibility": null,
            "width": null
          }
        },
        "c4ce89d91a8d4a1b8ce2391f29802c19": {
          "model_module": "@jupyter-widgets/controls",
          "model_name": "DescriptionStyleModel",
          "model_module_version": "1.5.0",
          "state": {
            "_model_module": "@jupyter-widgets/controls",
            "_model_module_version": "1.5.0",
            "_model_name": "DescriptionStyleModel",
            "_view_count": null,
            "_view_module": "@jupyter-widgets/base",
            "_view_module_version": "1.2.0",
            "_view_name": "StyleView",
            "description_width": ""
          }
        },
        "ec4c6593113a4046b1984fda5d7b8a6f": {
          "model_module": "@jupyter-widgets/base",
          "model_name": "LayoutModel",
          "model_module_version": "1.2.0",
          "state": {
            "_model_module": "@jupyter-widgets/base",
            "_model_module_version": "1.2.0",
            "_model_name": "LayoutModel",
            "_view_count": null,
            "_view_module": "@jupyter-widgets/base",
            "_view_module_version": "1.2.0",
            "_view_name": "LayoutView",
            "align_content": null,
            "align_items": null,
            "align_self": null,
            "border": null,
            "bottom": null,
            "display": null,
            "flex": null,
            "flex_flow": null,
            "grid_area": null,
            "grid_auto_columns": null,
            "grid_auto_flow": null,
            "grid_auto_rows": null,
            "grid_column": null,
            "grid_gap": null,
            "grid_row": null,
            "grid_template_areas": null,
            "grid_template_columns": null,
            "grid_template_rows": null,
            "height": null,
            "justify_content": null,
            "justify_items": null,
            "left": null,
            "margin": null,
            "max_height": null,
            "max_width": null,
            "min_height": null,
            "min_width": null,
            "object_fit": null,
            "object_position": null,
            "order": null,
            "overflow": null,
            "overflow_x": null,
            "overflow_y": null,
            "padding": null,
            "right": null,
            "top": null,
            "visibility": null,
            "width": null
          }
        },
        "43ff14d1a2b948bc9d25542392f6ee28": {
          "model_module": "@jupyter-widgets/controls",
          "model_name": "ProgressStyleModel",
          "model_module_version": "1.5.0",
          "state": {
            "_model_module": "@jupyter-widgets/controls",
            "_model_module_version": "1.5.0",
            "_model_name": "ProgressStyleModel",
            "_view_count": null,
            "_view_module": "@jupyter-widgets/base",
            "_view_module_version": "1.2.0",
            "_view_name": "StyleView",
            "bar_color": null,
            "description_width": ""
          }
        },
        "11d68b385f734204a643a1ace5766a23": {
          "model_module": "@jupyter-widgets/base",
          "model_name": "LayoutModel",
          "model_module_version": "1.2.0",
          "state": {
            "_model_module": "@jupyter-widgets/base",
            "_model_module_version": "1.2.0",
            "_model_name": "LayoutModel",
            "_view_count": null,
            "_view_module": "@jupyter-widgets/base",
            "_view_module_version": "1.2.0",
            "_view_name": "LayoutView",
            "align_content": null,
            "align_items": null,
            "align_self": null,
            "border": null,
            "bottom": null,
            "display": null,
            "flex": null,
            "flex_flow": null,
            "grid_area": null,
            "grid_auto_columns": null,
            "grid_auto_flow": null,
            "grid_auto_rows": null,
            "grid_column": null,
            "grid_gap": null,
            "grid_row": null,
            "grid_template_areas": null,
            "grid_template_columns": null,
            "grid_template_rows": null,
            "height": null,
            "justify_content": null,
            "justify_items": null,
            "left": null,
            "margin": null,
            "max_height": null,
            "max_width": null,
            "min_height": null,
            "min_width": null,
            "object_fit": null,
            "object_position": null,
            "order": null,
            "overflow": null,
            "overflow_x": null,
            "overflow_y": null,
            "padding": null,
            "right": null,
            "top": null,
            "visibility": null,
            "width": null
          }
        },
        "a496d5d1b08e40de81828b208a94c66f": {
          "model_module": "@jupyter-widgets/controls",
          "model_name": "DescriptionStyleModel",
          "model_module_version": "1.5.0",
          "state": {
            "_model_module": "@jupyter-widgets/controls",
            "_model_module_version": "1.5.0",
            "_model_name": "DescriptionStyleModel",
            "_view_count": null,
            "_view_module": "@jupyter-widgets/base",
            "_view_module_version": "1.2.0",
            "_view_name": "StyleView",
            "description_width": ""
          }
        },
        "488efe2cf98240b7ab392d2169236809": {
          "model_module": "@jupyter-widgets/controls",
          "model_name": "HBoxModel",
          "model_module_version": "1.5.0",
          "state": {
            "_dom_classes": [],
            "_model_module": "@jupyter-widgets/controls",
            "_model_module_version": "1.5.0",
            "_model_name": "HBoxModel",
            "_view_count": null,
            "_view_module": "@jupyter-widgets/controls",
            "_view_module_version": "1.5.0",
            "_view_name": "HBoxView",
            "box_style": "",
            "children": [
              "IPY_MODEL_6f2d796b9e094225a406aa73ea6e85d9",
              "IPY_MODEL_58cad2ef0f6d406fbc3c1ce011deae4b",
              "IPY_MODEL_dd26a03c7f0c4371bcaab2b53038cd3d"
            ],
            "layout": "IPY_MODEL_0529d5dcfdbc489f91e46937386a338f"
          }
        },
        "6f2d796b9e094225a406aa73ea6e85d9": {
          "model_module": "@jupyter-widgets/controls",
          "model_name": "HTMLModel",
          "model_module_version": "1.5.0",
          "state": {
            "_dom_classes": [],
            "_model_module": "@jupyter-widgets/controls",
            "_model_module_version": "1.5.0",
            "_model_name": "HTMLModel",
            "_view_count": null,
            "_view_module": "@jupyter-widgets/controls",
            "_view_module_version": "1.5.0",
            "_view_name": "HTMLView",
            "description": "",
            "description_tooltip": null,
            "layout": "IPY_MODEL_a1809ad6c5954686ab48d1eb2d11f3fb",
            "placeholder": "​",
            "style": "IPY_MODEL_d744b5d04af54adcabd45314fa3a5345",
            "value": "Downloading model.safetensors: 100%"
          }
        },
        "58cad2ef0f6d406fbc3c1ce011deae4b": {
          "model_module": "@jupyter-widgets/controls",
          "model_name": "FloatProgressModel",
          "model_module_version": "1.5.0",
          "state": {
            "_dom_classes": [],
            "_model_module": "@jupyter-widgets/controls",
            "_model_module_version": "1.5.0",
            "_model_name": "FloatProgressModel",
            "_view_count": null,
            "_view_module": "@jupyter-widgets/controls",
            "_view_module_version": "1.5.0",
            "_view_name": "ProgressView",
            "bar_style": "success",
            "description": "",
            "description_tooltip": null,
            "layout": "IPY_MODEL_5c0168f4283741839fb7c650be5fcf9f",
            "max": 1519984962,
            "min": 0,
            "orientation": "horizontal",
            "style": "IPY_MODEL_e3449189aff445d7afaed24eb50db6f3",
            "value": 1519984962
          }
        },
        "dd26a03c7f0c4371bcaab2b53038cd3d": {
          "model_module": "@jupyter-widgets/controls",
          "model_name": "HTMLModel",
          "model_module_version": "1.5.0",
          "state": {
            "_dom_classes": [],
            "_model_module": "@jupyter-widgets/controls",
            "_model_module_version": "1.5.0",
            "_model_name": "HTMLModel",
            "_view_count": null,
            "_view_module": "@jupyter-widgets/controls",
            "_view_module_version": "1.5.0",
            "_view_name": "HTMLView",
            "description": "",
            "description_tooltip": null,
            "layout": "IPY_MODEL_909270de1dc747469f01194153e05305",
            "placeholder": "​",
            "style": "IPY_MODEL_0e4a475e7ced4010ba24162f12be5f64",
            "value": " 1.52G/1.52G [00:15&lt;00:00, 82.7MB/s]"
          }
        },
        "0529d5dcfdbc489f91e46937386a338f": {
          "model_module": "@jupyter-widgets/base",
          "model_name": "LayoutModel",
          "model_module_version": "1.2.0",
          "state": {
            "_model_module": "@jupyter-widgets/base",
            "_model_module_version": "1.2.0",
            "_model_name": "LayoutModel",
            "_view_count": null,
            "_view_module": "@jupyter-widgets/base",
            "_view_module_version": "1.2.0",
            "_view_name": "LayoutView",
            "align_content": null,
            "align_items": null,
            "align_self": null,
            "border": null,
            "bottom": null,
            "display": null,
            "flex": null,
            "flex_flow": null,
            "grid_area": null,
            "grid_auto_columns": null,
            "grid_auto_flow": null,
            "grid_auto_rows": null,
            "grid_column": null,
            "grid_gap": null,
            "grid_row": null,
            "grid_template_areas": null,
            "grid_template_columns": null,
            "grid_template_rows": null,
            "height": null,
            "justify_content": null,
            "justify_items": null,
            "left": null,
            "margin": null,
            "max_height": null,
            "max_width": null,
            "min_height": null,
            "min_width": null,
            "object_fit": null,
            "object_position": null,
            "order": null,
            "overflow": null,
            "overflow_x": null,
            "overflow_y": null,
            "padding": null,
            "right": null,
            "top": null,
            "visibility": null,
            "width": null
          }
        },
        "a1809ad6c5954686ab48d1eb2d11f3fb": {
          "model_module": "@jupyter-widgets/base",
          "model_name": "LayoutModel",
          "model_module_version": "1.2.0",
          "state": {
            "_model_module": "@jupyter-widgets/base",
            "_model_module_version": "1.2.0",
            "_model_name": "LayoutModel",
            "_view_count": null,
            "_view_module": "@jupyter-widgets/base",
            "_view_module_version": "1.2.0",
            "_view_name": "LayoutView",
            "align_content": null,
            "align_items": null,
            "align_self": null,
            "border": null,
            "bottom": null,
            "display": null,
            "flex": null,
            "flex_flow": null,
            "grid_area": null,
            "grid_auto_columns": null,
            "grid_auto_flow": null,
            "grid_auto_rows": null,
            "grid_column": null,
            "grid_gap": null,
            "grid_row": null,
            "grid_template_areas": null,
            "grid_template_columns": null,
            "grid_template_rows": null,
            "height": null,
            "justify_content": null,
            "justify_items": null,
            "left": null,
            "margin": null,
            "max_height": null,
            "max_width": null,
            "min_height": null,
            "min_width": null,
            "object_fit": null,
            "object_position": null,
            "order": null,
            "overflow": null,
            "overflow_x": null,
            "overflow_y": null,
            "padding": null,
            "right": null,
            "top": null,
            "visibility": null,
            "width": null
          }
        },
        "d744b5d04af54adcabd45314fa3a5345": {
          "model_module": "@jupyter-widgets/controls",
          "model_name": "DescriptionStyleModel",
          "model_module_version": "1.5.0",
          "state": {
            "_model_module": "@jupyter-widgets/controls",
            "_model_module_version": "1.5.0",
            "_model_name": "DescriptionStyleModel",
            "_view_count": null,
            "_view_module": "@jupyter-widgets/base",
            "_view_module_version": "1.2.0",
            "_view_name": "StyleView",
            "description_width": ""
          }
        },
        "5c0168f4283741839fb7c650be5fcf9f": {
          "model_module": "@jupyter-widgets/base",
          "model_name": "LayoutModel",
          "model_module_version": "1.2.0",
          "state": {
            "_model_module": "@jupyter-widgets/base",
            "_model_module_version": "1.2.0",
            "_model_name": "LayoutModel",
            "_view_count": null,
            "_view_module": "@jupyter-widgets/base",
            "_view_module_version": "1.2.0",
            "_view_name": "LayoutView",
            "align_content": null,
            "align_items": null,
            "align_self": null,
            "border": null,
            "bottom": null,
            "display": null,
            "flex": null,
            "flex_flow": null,
            "grid_area": null,
            "grid_auto_columns": null,
            "grid_auto_flow": null,
            "grid_auto_rows": null,
            "grid_column": null,
            "grid_gap": null,
            "grid_row": null,
            "grid_template_areas": null,
            "grid_template_columns": null,
            "grid_template_rows": null,
            "height": null,
            "justify_content": null,
            "justify_items": null,
            "left": null,
            "margin": null,
            "max_height": null,
            "max_width": null,
            "min_height": null,
            "min_width": null,
            "object_fit": null,
            "object_position": null,
            "order": null,
            "overflow": null,
            "overflow_x": null,
            "overflow_y": null,
            "padding": null,
            "right": null,
            "top": null,
            "visibility": null,
            "width": null
          }
        },
        "e3449189aff445d7afaed24eb50db6f3": {
          "model_module": "@jupyter-widgets/controls",
          "model_name": "ProgressStyleModel",
          "model_module_version": "1.5.0",
          "state": {
            "_model_module": "@jupyter-widgets/controls",
            "_model_module_version": "1.5.0",
            "_model_name": "ProgressStyleModel",
            "_view_count": null,
            "_view_module": "@jupyter-widgets/base",
            "_view_module_version": "1.2.0",
            "_view_name": "StyleView",
            "bar_color": null,
            "description_width": ""
          }
        },
        "909270de1dc747469f01194153e05305": {
          "model_module": "@jupyter-widgets/base",
          "model_name": "LayoutModel",
          "model_module_version": "1.2.0",
          "state": {
            "_model_module": "@jupyter-widgets/base",
            "_model_module_version": "1.2.0",
            "_model_name": "LayoutModel",
            "_view_count": null,
            "_view_module": "@jupyter-widgets/base",
            "_view_module_version": "1.2.0",
            "_view_name": "LayoutView",
            "align_content": null,
            "align_items": null,
            "align_self": null,
            "border": null,
            "bottom": null,
            "display": null,
            "flex": null,
            "flex_flow": null,
            "grid_area": null,
            "grid_auto_columns": null,
            "grid_auto_flow": null,
            "grid_auto_rows": null,
            "grid_column": null,
            "grid_gap": null,
            "grid_row": null,
            "grid_template_areas": null,
            "grid_template_columns": null,
            "grid_template_rows": null,
            "height": null,
            "justify_content": null,
            "justify_items": null,
            "left": null,
            "margin": null,
            "max_height": null,
            "max_width": null,
            "min_height": null,
            "min_width": null,
            "object_fit": null,
            "object_position": null,
            "order": null,
            "overflow": null,
            "overflow_x": null,
            "overflow_y": null,
            "padding": null,
            "right": null,
            "top": null,
            "visibility": null,
            "width": null
          }
        },
        "0e4a475e7ced4010ba24162f12be5f64": {
          "model_module": "@jupyter-widgets/controls",
          "model_name": "DescriptionStyleModel",
          "model_module_version": "1.5.0",
          "state": {
            "_model_module": "@jupyter-widgets/controls",
            "_model_module_version": "1.5.0",
            "_model_name": "DescriptionStyleModel",
            "_view_count": null,
            "_view_module": "@jupyter-widgets/base",
            "_view_module_version": "1.2.0",
            "_view_name": "StyleView",
            "description_width": ""
          }
        },
        "408d5000cfea483ea6d6270fea75c8ba": {
          "model_module": "@jupyter-widgets/controls",
          "model_name": "HBoxModel",
          "model_module_version": "1.5.0",
          "state": {
            "_dom_classes": [],
            "_model_module": "@jupyter-widgets/controls",
            "_model_module_version": "1.5.0",
            "_model_name": "HBoxModel",
            "_view_count": null,
            "_view_module": "@jupyter-widgets/controls",
            "_view_module_version": "1.5.0",
            "_view_name": "HBoxView",
            "box_style": "",
            "children": [
              "IPY_MODEL_85acdf1f0d934867b284738591de1637",
              "IPY_MODEL_68da5415385040f294b355eda16f39fd",
              "IPY_MODEL_f5f5f7301a014a23b34663dfd59b71c7"
            ],
            "layout": "IPY_MODEL_68e5be1f7d5243dfadef32a5727917d3"
          }
        },
        "85acdf1f0d934867b284738591de1637": {
          "model_module": "@jupyter-widgets/controls",
          "model_name": "HTMLModel",
          "model_module_version": "1.5.0",
          "state": {
            "_dom_classes": [],
            "_model_module": "@jupyter-widgets/controls",
            "_model_module_version": "1.5.0",
            "_model_name": "HTMLModel",
            "_view_count": null,
            "_view_module": "@jupyter-widgets/controls",
            "_view_module_version": "1.5.0",
            "_view_name": "HTMLView",
            "description": "",
            "description_tooltip": null,
            "layout": "IPY_MODEL_1517a77a687e4db994bc8ed8b27abac1",
            "placeholder": "​",
            "style": "IPY_MODEL_ef2ca55a8687409f9d2a894b545e2080",
            "value": "Downloading (…)neration_config.json: 100%"
          }
        },
        "68da5415385040f294b355eda16f39fd": {
          "model_module": "@jupyter-widgets/controls",
          "model_name": "FloatProgressModel",
          "model_module_version": "1.5.0",
          "state": {
            "_dom_classes": [],
            "_model_module": "@jupyter-widgets/controls",
            "_model_module_version": "1.5.0",
            "_model_name": "FloatProgressModel",
            "_view_count": null,
            "_view_module": "@jupyter-widgets/controls",
            "_view_module_version": "1.5.0",
            "_view_name": "ProgressView",
            "bar_style": "success",
            "description": "",
            "description_tooltip": null,
            "layout": "IPY_MODEL_b4421e6e2e114fcbad6da44a2fcc92b0",
            "max": 124,
            "min": 0,
            "orientation": "horizontal",
            "style": "IPY_MODEL_9625dcf7c59f47af839c33fcf941a49b",
            "value": 124
          }
        },
        "f5f5f7301a014a23b34663dfd59b71c7": {
          "model_module": "@jupyter-widgets/controls",
          "model_name": "HTMLModel",
          "model_module_version": "1.5.0",
          "state": {
            "_dom_classes": [],
            "_model_module": "@jupyter-widgets/controls",
            "_model_module_version": "1.5.0",
            "_model_name": "HTMLModel",
            "_view_count": null,
            "_view_module": "@jupyter-widgets/controls",
            "_view_module_version": "1.5.0",
            "_view_name": "HTMLView",
            "description": "",
            "description_tooltip": null,
            "layout": "IPY_MODEL_7c242911b1244b81bc13712f86920cb0",
            "placeholder": "​",
            "style": "IPY_MODEL_ee83a6aa475a425d88d17edf32485d43",
            "value": " 124/124 [00:00&lt;00:00, 3.70kB/s]"
          }
        },
        "68e5be1f7d5243dfadef32a5727917d3": {
          "model_module": "@jupyter-widgets/base",
          "model_name": "LayoutModel",
          "model_module_version": "1.2.0",
          "state": {
            "_model_module": "@jupyter-widgets/base",
            "_model_module_version": "1.2.0",
            "_model_name": "LayoutModel",
            "_view_count": null,
            "_view_module": "@jupyter-widgets/base",
            "_view_module_version": "1.2.0",
            "_view_name": "LayoutView",
            "align_content": null,
            "align_items": null,
            "align_self": null,
            "border": null,
            "bottom": null,
            "display": null,
            "flex": null,
            "flex_flow": null,
            "grid_area": null,
            "grid_auto_columns": null,
            "grid_auto_flow": null,
            "grid_auto_rows": null,
            "grid_column": null,
            "grid_gap": null,
            "grid_row": null,
            "grid_template_areas": null,
            "grid_template_columns": null,
            "grid_template_rows": null,
            "height": null,
            "justify_content": null,
            "justify_items": null,
            "left": null,
            "margin": null,
            "max_height": null,
            "max_width": null,
            "min_height": null,
            "min_width": null,
            "object_fit": null,
            "object_position": null,
            "order": null,
            "overflow": null,
            "overflow_x": null,
            "overflow_y": null,
            "padding": null,
            "right": null,
            "top": null,
            "visibility": null,
            "width": null
          }
        },
        "1517a77a687e4db994bc8ed8b27abac1": {
          "model_module": "@jupyter-widgets/base",
          "model_name": "LayoutModel",
          "model_module_version": "1.2.0",
          "state": {
            "_model_module": "@jupyter-widgets/base",
            "_model_module_version": "1.2.0",
            "_model_name": "LayoutModel",
            "_view_count": null,
            "_view_module": "@jupyter-widgets/base",
            "_view_module_version": "1.2.0",
            "_view_name": "LayoutView",
            "align_content": null,
            "align_items": null,
            "align_self": null,
            "border": null,
            "bottom": null,
            "display": null,
            "flex": null,
            "flex_flow": null,
            "grid_area": null,
            "grid_auto_columns": null,
            "grid_auto_flow": null,
            "grid_auto_rows": null,
            "grid_column": null,
            "grid_gap": null,
            "grid_row": null,
            "grid_template_areas": null,
            "grid_template_columns": null,
            "grid_template_rows": null,
            "height": null,
            "justify_content": null,
            "justify_items": null,
            "left": null,
            "margin": null,
            "max_height": null,
            "max_width": null,
            "min_height": null,
            "min_width": null,
            "object_fit": null,
            "object_position": null,
            "order": null,
            "overflow": null,
            "overflow_x": null,
            "overflow_y": null,
            "padding": null,
            "right": null,
            "top": null,
            "visibility": null,
            "width": null
          }
        },
        "ef2ca55a8687409f9d2a894b545e2080": {
          "model_module": "@jupyter-widgets/controls",
          "model_name": "DescriptionStyleModel",
          "model_module_version": "1.5.0",
          "state": {
            "_model_module": "@jupyter-widgets/controls",
            "_model_module_version": "1.5.0",
            "_model_name": "DescriptionStyleModel",
            "_view_count": null,
            "_view_module": "@jupyter-widgets/base",
            "_view_module_version": "1.2.0",
            "_view_name": "StyleView",
            "description_width": ""
          }
        },
        "b4421e6e2e114fcbad6da44a2fcc92b0": {
          "model_module": "@jupyter-widgets/base",
          "model_name": "LayoutModel",
          "model_module_version": "1.2.0",
          "state": {
            "_model_module": "@jupyter-widgets/base",
            "_model_module_version": "1.2.0",
            "_model_name": "LayoutModel",
            "_view_count": null,
            "_view_module": "@jupyter-widgets/base",
            "_view_module_version": "1.2.0",
            "_view_name": "LayoutView",
            "align_content": null,
            "align_items": null,
            "align_self": null,
            "border": null,
            "bottom": null,
            "display": null,
            "flex": null,
            "flex_flow": null,
            "grid_area": null,
            "grid_auto_columns": null,
            "grid_auto_flow": null,
            "grid_auto_rows": null,
            "grid_column": null,
            "grid_gap": null,
            "grid_row": null,
            "grid_template_areas": null,
            "grid_template_columns": null,
            "grid_template_rows": null,
            "height": null,
            "justify_content": null,
            "justify_items": null,
            "left": null,
            "margin": null,
            "max_height": null,
            "max_width": null,
            "min_height": null,
            "min_width": null,
            "object_fit": null,
            "object_position": null,
            "order": null,
            "overflow": null,
            "overflow_x": null,
            "overflow_y": null,
            "padding": null,
            "right": null,
            "top": null,
            "visibility": null,
            "width": null
          }
        },
        "9625dcf7c59f47af839c33fcf941a49b": {
          "model_module": "@jupyter-widgets/controls",
          "model_name": "ProgressStyleModel",
          "model_module_version": "1.5.0",
          "state": {
            "_model_module": "@jupyter-widgets/controls",
            "_model_module_version": "1.5.0",
            "_model_name": "ProgressStyleModel",
            "_view_count": null,
            "_view_module": "@jupyter-widgets/base",
            "_view_module_version": "1.2.0",
            "_view_name": "StyleView",
            "bar_color": null,
            "description_width": ""
          }
        },
        "7c242911b1244b81bc13712f86920cb0": {
          "model_module": "@jupyter-widgets/base",
          "model_name": "LayoutModel",
          "model_module_version": "1.2.0",
          "state": {
            "_model_module": "@jupyter-widgets/base",
            "_model_module_version": "1.2.0",
            "_model_name": "LayoutModel",
            "_view_count": null,
            "_view_module": "@jupyter-widgets/base",
            "_view_module_version": "1.2.0",
            "_view_name": "LayoutView",
            "align_content": null,
            "align_items": null,
            "align_self": null,
            "border": null,
            "bottom": null,
            "display": null,
            "flex": null,
            "flex_flow": null,
            "grid_area": null,
            "grid_auto_columns": null,
            "grid_auto_flow": null,
            "grid_auto_rows": null,
            "grid_column": null,
            "grid_gap": null,
            "grid_row": null,
            "grid_template_areas": null,
            "grid_template_columns": null,
            "grid_template_rows": null,
            "height": null,
            "justify_content": null,
            "justify_items": null,
            "left": null,
            "margin": null,
            "max_height": null,
            "max_width": null,
            "min_height": null,
            "min_width": null,
            "object_fit": null,
            "object_position": null,
            "order": null,
            "overflow": null,
            "overflow_x": null,
            "overflow_y": null,
            "padding": null,
            "right": null,
            "top": null,
            "visibility": null,
            "width": null
          }
        },
        "ee83a6aa475a425d88d17edf32485d43": {
          "model_module": "@jupyter-widgets/controls",
          "model_name": "DescriptionStyleModel",
          "model_module_version": "1.5.0",
          "state": {
            "_model_module": "@jupyter-widgets/controls",
            "_model_module_version": "1.5.0",
            "_model_name": "DescriptionStyleModel",
            "_view_count": null,
            "_view_module": "@jupyter-widgets/base",
            "_view_module_version": "1.2.0",
            "_view_name": "StyleView",
            "description_width": ""
          }
        },
        "f1fb7eca8ad644ae9578d8d6a1fef1a6": {
          "model_module": "@jupyter-widgets/controls",
          "model_name": "HBoxModel",
          "model_module_version": "1.5.0",
          "state": {
            "_dom_classes": [],
            "_model_module": "@jupyter-widgets/controls",
            "_model_module_version": "1.5.0",
            "_model_name": "HBoxModel",
            "_view_count": null,
            "_view_module": "@jupyter-widgets/controls",
            "_view_module_version": "1.5.0",
            "_view_name": "HBoxView",
            "box_style": "",
            "children": [
              "IPY_MODEL_a191ce84afe04d099e6ab6e254dbd801",
              "IPY_MODEL_92debf602cca49839f2541d3c1ef126c",
              "IPY_MODEL_44d29e5e58834de08ef62818f5eb286d"
            ],
            "layout": "IPY_MODEL_37127ff95c9a4628b34bae20f49aa351"
          }
        },
        "a191ce84afe04d099e6ab6e254dbd801": {
          "model_module": "@jupyter-widgets/controls",
          "model_name": "HTMLModel",
          "model_module_version": "1.5.0",
          "state": {
            "_dom_classes": [],
            "_model_module": "@jupyter-widgets/controls",
            "_model_module_version": "1.5.0",
            "_model_name": "HTMLModel",
            "_view_count": null,
            "_view_module": "@jupyter-widgets/controls",
            "_view_module_version": "1.5.0",
            "_view_name": "HTMLView",
            "description": "",
            "description_tooltip": null,
            "layout": "IPY_MODEL_a5a711dfe60a495b81aa3d6c68756af7",
            "placeholder": "​",
            "style": "IPY_MODEL_c1f4c07e051146b9a7a2fcf6ab5042e8",
            "value": "Downloading (…)olve/main/vocab.json: 100%"
          }
        },
        "92debf602cca49839f2541d3c1ef126c": {
          "model_module": "@jupyter-widgets/controls",
          "model_name": "FloatProgressModel",
          "model_module_version": "1.5.0",
          "state": {
            "_dom_classes": [],
            "_model_module": "@jupyter-widgets/controls",
            "_model_module_version": "1.5.0",
            "_model_name": "FloatProgressModel",
            "_view_count": null,
            "_view_module": "@jupyter-widgets/controls",
            "_view_module_version": "1.5.0",
            "_view_name": "ProgressView",
            "bar_style": "success",
            "description": "",
            "description_tooltip": null,
            "layout": "IPY_MODEL_762f424c0d944851a87fe62cb9446d9b",
            "max": 1042301,
            "min": 0,
            "orientation": "horizontal",
            "style": "IPY_MODEL_8800d43a6b0e478191d35383a896279d",
            "value": 1042301
          }
        },
        "44d29e5e58834de08ef62818f5eb286d": {
          "model_module": "@jupyter-widgets/controls",
          "model_name": "HTMLModel",
          "model_module_version": "1.5.0",
          "state": {
            "_dom_classes": [],
            "_model_module": "@jupyter-widgets/controls",
            "_model_module_version": "1.5.0",
            "_model_name": "HTMLModel",
            "_view_count": null,
            "_view_module": "@jupyter-widgets/controls",
            "_view_module_version": "1.5.0",
            "_view_name": "HTMLView",
            "description": "",
            "description_tooltip": null,
            "layout": "IPY_MODEL_1aef804afc4c4a6486648a426a6fd052",
            "placeholder": "​",
            "style": "IPY_MODEL_70bd4ec6db2f4e349a45c3b8cee845b9",
            "value": " 1.04M/1.04M [00:00&lt;00:00, 5.51MB/s]"
          }
        },
        "37127ff95c9a4628b34bae20f49aa351": {
          "model_module": "@jupyter-widgets/base",
          "model_name": "LayoutModel",
          "model_module_version": "1.2.0",
          "state": {
            "_model_module": "@jupyter-widgets/base",
            "_model_module_version": "1.2.0",
            "_model_name": "LayoutModel",
            "_view_count": null,
            "_view_module": "@jupyter-widgets/base",
            "_view_module_version": "1.2.0",
            "_view_name": "LayoutView",
            "align_content": null,
            "align_items": null,
            "align_self": null,
            "border": null,
            "bottom": null,
            "display": null,
            "flex": null,
            "flex_flow": null,
            "grid_area": null,
            "grid_auto_columns": null,
            "grid_auto_flow": null,
            "grid_auto_rows": null,
            "grid_column": null,
            "grid_gap": null,
            "grid_row": null,
            "grid_template_areas": null,
            "grid_template_columns": null,
            "grid_template_rows": null,
            "height": null,
            "justify_content": null,
            "justify_items": null,
            "left": null,
            "margin": null,
            "max_height": null,
            "max_width": null,
            "min_height": null,
            "min_width": null,
            "object_fit": null,
            "object_position": null,
            "order": null,
            "overflow": null,
            "overflow_x": null,
            "overflow_y": null,
            "padding": null,
            "right": null,
            "top": null,
            "visibility": null,
            "width": null
          }
        },
        "a5a711dfe60a495b81aa3d6c68756af7": {
          "model_module": "@jupyter-widgets/base",
          "model_name": "LayoutModel",
          "model_module_version": "1.2.0",
          "state": {
            "_model_module": "@jupyter-widgets/base",
            "_model_module_version": "1.2.0",
            "_model_name": "LayoutModel",
            "_view_count": null,
            "_view_module": "@jupyter-widgets/base",
            "_view_module_version": "1.2.0",
            "_view_name": "LayoutView",
            "align_content": null,
            "align_items": null,
            "align_self": null,
            "border": null,
            "bottom": null,
            "display": null,
            "flex": null,
            "flex_flow": null,
            "grid_area": null,
            "grid_auto_columns": null,
            "grid_auto_flow": null,
            "grid_auto_rows": null,
            "grid_column": null,
            "grid_gap": null,
            "grid_row": null,
            "grid_template_areas": null,
            "grid_template_columns": null,
            "grid_template_rows": null,
            "height": null,
            "justify_content": null,
            "justify_items": null,
            "left": null,
            "margin": null,
            "max_height": null,
            "max_width": null,
            "min_height": null,
            "min_width": null,
            "object_fit": null,
            "object_position": null,
            "order": null,
            "overflow": null,
            "overflow_x": null,
            "overflow_y": null,
            "padding": null,
            "right": null,
            "top": null,
            "visibility": null,
            "width": null
          }
        },
        "c1f4c07e051146b9a7a2fcf6ab5042e8": {
          "model_module": "@jupyter-widgets/controls",
          "model_name": "DescriptionStyleModel",
          "model_module_version": "1.5.0",
          "state": {
            "_model_module": "@jupyter-widgets/controls",
            "_model_module_version": "1.5.0",
            "_model_name": "DescriptionStyleModel",
            "_view_count": null,
            "_view_module": "@jupyter-widgets/base",
            "_view_module_version": "1.2.0",
            "_view_name": "StyleView",
            "description_width": ""
          }
        },
        "762f424c0d944851a87fe62cb9446d9b": {
          "model_module": "@jupyter-widgets/base",
          "model_name": "LayoutModel",
          "model_module_version": "1.2.0",
          "state": {
            "_model_module": "@jupyter-widgets/base",
            "_model_module_version": "1.2.0",
            "_model_name": "LayoutModel",
            "_view_count": null,
            "_view_module": "@jupyter-widgets/base",
            "_view_module_version": "1.2.0",
            "_view_name": "LayoutView",
            "align_content": null,
            "align_items": null,
            "align_self": null,
            "border": null,
            "bottom": null,
            "display": null,
            "flex": null,
            "flex_flow": null,
            "grid_area": null,
            "grid_auto_columns": null,
            "grid_auto_flow": null,
            "grid_auto_rows": null,
            "grid_column": null,
            "grid_gap": null,
            "grid_row": null,
            "grid_template_areas": null,
            "grid_template_columns": null,
            "grid_template_rows": null,
            "height": null,
            "justify_content": null,
            "justify_items": null,
            "left": null,
            "margin": null,
            "max_height": null,
            "max_width": null,
            "min_height": null,
            "min_width": null,
            "object_fit": null,
            "object_position": null,
            "order": null,
            "overflow": null,
            "overflow_x": null,
            "overflow_y": null,
            "padding": null,
            "right": null,
            "top": null,
            "visibility": null,
            "width": null
          }
        },
        "8800d43a6b0e478191d35383a896279d": {
          "model_module": "@jupyter-widgets/controls",
          "model_name": "ProgressStyleModel",
          "model_module_version": "1.5.0",
          "state": {
            "_model_module": "@jupyter-widgets/controls",
            "_model_module_version": "1.5.0",
            "_model_name": "ProgressStyleModel",
            "_view_count": null,
            "_view_module": "@jupyter-widgets/base",
            "_view_module_version": "1.2.0",
            "_view_name": "StyleView",
            "bar_color": null,
            "description_width": ""
          }
        },
        "1aef804afc4c4a6486648a426a6fd052": {
          "model_module": "@jupyter-widgets/base",
          "model_name": "LayoutModel",
          "model_module_version": "1.2.0",
          "state": {
            "_model_module": "@jupyter-widgets/base",
            "_model_module_version": "1.2.0",
            "_model_name": "LayoutModel",
            "_view_count": null,
            "_view_module": "@jupyter-widgets/base",
            "_view_module_version": "1.2.0",
            "_view_name": "LayoutView",
            "align_content": null,
            "align_items": null,
            "align_self": null,
            "border": null,
            "bottom": null,
            "display": null,
            "flex": null,
            "flex_flow": null,
            "grid_area": null,
            "grid_auto_columns": null,
            "grid_auto_flow": null,
            "grid_auto_rows": null,
            "grid_column": null,
            "grid_gap": null,
            "grid_row": null,
            "grid_template_areas": null,
            "grid_template_columns": null,
            "grid_template_rows": null,
            "height": null,
            "justify_content": null,
            "justify_items": null,
            "left": null,
            "margin": null,
            "max_height": null,
            "max_width": null,
            "min_height": null,
            "min_width": null,
            "object_fit": null,
            "object_position": null,
            "order": null,
            "overflow": null,
            "overflow_x": null,
            "overflow_y": null,
            "padding": null,
            "right": null,
            "top": null,
            "visibility": null,
            "width": null
          }
        },
        "70bd4ec6db2f4e349a45c3b8cee845b9": {
          "model_module": "@jupyter-widgets/controls",
          "model_name": "DescriptionStyleModel",
          "model_module_version": "1.5.0",
          "state": {
            "_model_module": "@jupyter-widgets/controls",
            "_model_module_version": "1.5.0",
            "_model_name": "DescriptionStyleModel",
            "_view_count": null,
            "_view_module": "@jupyter-widgets/base",
            "_view_module_version": "1.2.0",
            "_view_name": "StyleView",
            "description_width": ""
          }
        },
        "8dc35ade83f349658379ea9251090b0e": {
          "model_module": "@jupyter-widgets/controls",
          "model_name": "HBoxModel",
          "model_module_version": "1.5.0",
          "state": {
            "_dom_classes": [],
            "_model_module": "@jupyter-widgets/controls",
            "_model_module_version": "1.5.0",
            "_model_name": "HBoxModel",
            "_view_count": null,
            "_view_module": "@jupyter-widgets/controls",
            "_view_module_version": "1.5.0",
            "_view_name": "HBoxView",
            "box_style": "",
            "children": [
              "IPY_MODEL_6411f6bbcd4e4305b639f345edfe58d2",
              "IPY_MODEL_dcdd854edb4f4141bf22f78553539c8a",
              "IPY_MODEL_4b2112cac86e46549d74bbb108d60291"
            ],
            "layout": "IPY_MODEL_b24cbc988ae74c7b9a0973ccccba900d"
          }
        },
        "6411f6bbcd4e4305b639f345edfe58d2": {
          "model_module": "@jupyter-widgets/controls",
          "model_name": "HTMLModel",
          "model_module_version": "1.5.0",
          "state": {
            "_dom_classes": [],
            "_model_module": "@jupyter-widgets/controls",
            "_model_module_version": "1.5.0",
            "_model_name": "HTMLModel",
            "_view_count": null,
            "_view_module": "@jupyter-widgets/controls",
            "_view_module_version": "1.5.0",
            "_view_name": "HTMLView",
            "description": "",
            "description_tooltip": null,
            "layout": "IPY_MODEL_c414ad05c6b54c4fbcf0c26df898ba20",
            "placeholder": "​",
            "style": "IPY_MODEL_b79e869613864108aa6506625a6f236f",
            "value": "Downloading (…)olve/main/merges.txt: 100%"
          }
        },
        "dcdd854edb4f4141bf22f78553539c8a": {
          "model_module": "@jupyter-widgets/controls",
          "model_name": "FloatProgressModel",
          "model_module_version": "1.5.0",
          "state": {
            "_dom_classes": [],
            "_model_module": "@jupyter-widgets/controls",
            "_model_module_version": "1.5.0",
            "_model_name": "FloatProgressModel",
            "_view_count": null,
            "_view_module": "@jupyter-widgets/controls",
            "_view_module_version": "1.5.0",
            "_view_name": "ProgressView",
            "bar_style": "success",
            "description": "",
            "description_tooltip": null,
            "layout": "IPY_MODEL_4c50304d5d4340f48b5b3db5df33a550",
            "max": 456318,
            "min": 0,
            "orientation": "horizontal",
            "style": "IPY_MODEL_fca75066c7784b598a3095c9ed4522b6",
            "value": 456318
          }
        },
        "4b2112cac86e46549d74bbb108d60291": {
          "model_module": "@jupyter-widgets/controls",
          "model_name": "HTMLModel",
          "model_module_version": "1.5.0",
          "state": {
            "_dom_classes": [],
            "_model_module": "@jupyter-widgets/controls",
            "_model_module_version": "1.5.0",
            "_model_name": "HTMLModel",
            "_view_count": null,
            "_view_module": "@jupyter-widgets/controls",
            "_view_module_version": "1.5.0",
            "_view_name": "HTMLView",
            "description": "",
            "description_tooltip": null,
            "layout": "IPY_MODEL_997921e9733f43fbbc6391262a04e834",
            "placeholder": "​",
            "style": "IPY_MODEL_50038de6ea884612b42408ee98c2ecb0",
            "value": " 456k/456k [00:00&lt;00:00, 2.50MB/s]"
          }
        },
        "b24cbc988ae74c7b9a0973ccccba900d": {
          "model_module": "@jupyter-widgets/base",
          "model_name": "LayoutModel",
          "model_module_version": "1.2.0",
          "state": {
            "_model_module": "@jupyter-widgets/base",
            "_model_module_version": "1.2.0",
            "_model_name": "LayoutModel",
            "_view_count": null,
            "_view_module": "@jupyter-widgets/base",
            "_view_module_version": "1.2.0",
            "_view_name": "LayoutView",
            "align_content": null,
            "align_items": null,
            "align_self": null,
            "border": null,
            "bottom": null,
            "display": null,
            "flex": null,
            "flex_flow": null,
            "grid_area": null,
            "grid_auto_columns": null,
            "grid_auto_flow": null,
            "grid_auto_rows": null,
            "grid_column": null,
            "grid_gap": null,
            "grid_row": null,
            "grid_template_areas": null,
            "grid_template_columns": null,
            "grid_template_rows": null,
            "height": null,
            "justify_content": null,
            "justify_items": null,
            "left": null,
            "margin": null,
            "max_height": null,
            "max_width": null,
            "min_height": null,
            "min_width": null,
            "object_fit": null,
            "object_position": null,
            "order": null,
            "overflow": null,
            "overflow_x": null,
            "overflow_y": null,
            "padding": null,
            "right": null,
            "top": null,
            "visibility": null,
            "width": null
          }
        },
        "c414ad05c6b54c4fbcf0c26df898ba20": {
          "model_module": "@jupyter-widgets/base",
          "model_name": "LayoutModel",
          "model_module_version": "1.2.0",
          "state": {
            "_model_module": "@jupyter-widgets/base",
            "_model_module_version": "1.2.0",
            "_model_name": "LayoutModel",
            "_view_count": null,
            "_view_module": "@jupyter-widgets/base",
            "_view_module_version": "1.2.0",
            "_view_name": "LayoutView",
            "align_content": null,
            "align_items": null,
            "align_self": null,
            "border": null,
            "bottom": null,
            "display": null,
            "flex": null,
            "flex_flow": null,
            "grid_area": null,
            "grid_auto_columns": null,
            "grid_auto_flow": null,
            "grid_auto_rows": null,
            "grid_column": null,
            "grid_gap": null,
            "grid_row": null,
            "grid_template_areas": null,
            "grid_template_columns": null,
            "grid_template_rows": null,
            "height": null,
            "justify_content": null,
            "justify_items": null,
            "left": null,
            "margin": null,
            "max_height": null,
            "max_width": null,
            "min_height": null,
            "min_width": null,
            "object_fit": null,
            "object_position": null,
            "order": null,
            "overflow": null,
            "overflow_x": null,
            "overflow_y": null,
            "padding": null,
            "right": null,
            "top": null,
            "visibility": null,
            "width": null
          }
        },
        "b79e869613864108aa6506625a6f236f": {
          "model_module": "@jupyter-widgets/controls",
          "model_name": "DescriptionStyleModel",
          "model_module_version": "1.5.0",
          "state": {
            "_model_module": "@jupyter-widgets/controls",
            "_model_module_version": "1.5.0",
            "_model_name": "DescriptionStyleModel",
            "_view_count": null,
            "_view_module": "@jupyter-widgets/base",
            "_view_module_version": "1.2.0",
            "_view_name": "StyleView",
            "description_width": ""
          }
        },
        "4c50304d5d4340f48b5b3db5df33a550": {
          "model_module": "@jupyter-widgets/base",
          "model_name": "LayoutModel",
          "model_module_version": "1.2.0",
          "state": {
            "_model_module": "@jupyter-widgets/base",
            "_model_module_version": "1.2.0",
            "_model_name": "LayoutModel",
            "_view_count": null,
            "_view_module": "@jupyter-widgets/base",
            "_view_module_version": "1.2.0",
            "_view_name": "LayoutView",
            "align_content": null,
            "align_items": null,
            "align_self": null,
            "border": null,
            "bottom": null,
            "display": null,
            "flex": null,
            "flex_flow": null,
            "grid_area": null,
            "grid_auto_columns": null,
            "grid_auto_flow": null,
            "grid_auto_rows": null,
            "grid_column": null,
            "grid_gap": null,
            "grid_row": null,
            "grid_template_areas": null,
            "grid_template_columns": null,
            "grid_template_rows": null,
            "height": null,
            "justify_content": null,
            "justify_items": null,
            "left": null,
            "margin": null,
            "max_height": null,
            "max_width": null,
            "min_height": null,
            "min_width": null,
            "object_fit": null,
            "object_position": null,
            "order": null,
            "overflow": null,
            "overflow_x": null,
            "overflow_y": null,
            "padding": null,
            "right": null,
            "top": null,
            "visibility": null,
            "width": null
          }
        },
        "fca75066c7784b598a3095c9ed4522b6": {
          "model_module": "@jupyter-widgets/controls",
          "model_name": "ProgressStyleModel",
          "model_module_version": "1.5.0",
          "state": {
            "_model_module": "@jupyter-widgets/controls",
            "_model_module_version": "1.5.0",
            "_model_name": "ProgressStyleModel",
            "_view_count": null,
            "_view_module": "@jupyter-widgets/base",
            "_view_module_version": "1.2.0",
            "_view_name": "StyleView",
            "bar_color": null,
            "description_width": ""
          }
        },
        "997921e9733f43fbbc6391262a04e834": {
          "model_module": "@jupyter-widgets/base",
          "model_name": "LayoutModel",
          "model_module_version": "1.2.0",
          "state": {
            "_model_module": "@jupyter-widgets/base",
            "_model_module_version": "1.2.0",
            "_model_name": "LayoutModel",
            "_view_count": null,
            "_view_module": "@jupyter-widgets/base",
            "_view_module_version": "1.2.0",
            "_view_name": "LayoutView",
            "align_content": null,
            "align_items": null,
            "align_self": null,
            "border": null,
            "bottom": null,
            "display": null,
            "flex": null,
            "flex_flow": null,
            "grid_area": null,
            "grid_auto_columns": null,
            "grid_auto_flow": null,
            "grid_auto_rows": null,
            "grid_column": null,
            "grid_gap": null,
            "grid_row": null,
            "grid_template_areas": null,
            "grid_template_columns": null,
            "grid_template_rows": null,
            "height": null,
            "justify_content": null,
            "justify_items": null,
            "left": null,
            "margin": null,
            "max_height": null,
            "max_width": null,
            "min_height": null,
            "min_width": null,
            "object_fit": null,
            "object_position": null,
            "order": null,
            "overflow": null,
            "overflow_x": null,
            "overflow_y": null,
            "padding": null,
            "right": null,
            "top": null,
            "visibility": null,
            "width": null
          }
        },
        "50038de6ea884612b42408ee98c2ecb0": {
          "model_module": "@jupyter-widgets/controls",
          "model_name": "DescriptionStyleModel",
          "model_module_version": "1.5.0",
          "state": {
            "_model_module": "@jupyter-widgets/controls",
            "_model_module_version": "1.5.0",
            "_model_name": "DescriptionStyleModel",
            "_view_count": null,
            "_view_module": "@jupyter-widgets/base",
            "_view_module_version": "1.2.0",
            "_view_name": "StyleView",
            "description_width": ""
          }
        }
      }
    },
    "accelerator": "GPU"
  },
  "cells": [
    {
      "cell_type": "markdown",
      "source": [
        "**Finetuning GPT2**"
      ],
      "metadata": {
        "id": "6yfH7e-k3qM8"
      }
    },
    {
      "cell_type": "code",
      "source": [
        "import numpy as np\n",
        "import pandas as pd\n",
        "import torch\n",
        "import logging\n",
        "from tqdm import tqdm\n",
        "import math\n",
        "import argparse\n",
        "import os\n",
        "!git clone https://github.com/huggingface/transformers\n",
        "!pip install transformers/\n",
        "from transformers import GPT2Tokenizer, GPT2LMHeadModel\n",
        "from transformers.optimization import AdamW, get_linear_schedule_with_warmup"
      ],
      "metadata": {
        "id": "qDUGKGXy3r6C",
        "colab": {
          "base_uri": "https://localhost:8080/",
          "height": 772
        },
        "outputId": "d4986f44-61de-43f8-af3a-5d79982f8368"
      },
      "execution_count": 6,
      "outputs": [
        {
          "output_type": "stream",
          "name": "stdout",
          "text": [
            "Cloning into 'transformers'...\n",
            "remote: Enumerating objects: 158990, done.\u001b[K\n",
            "remote: Counting objects: 100% (484/484), done.\u001b[K\n",
            "remote: Compressing objects: 100% (259/259), done.\u001b[K\n",
            "remote: Total 158990 (delta 235), reused 332 (delta 176), pack-reused 158506\u001b[K\n",
            "Receiving objects: 100% (158990/158990), 160.35 MiB | 26.42 MiB/s, done.\n",
            "Resolving deltas: 100% (119244/119244), done.\n",
            "Processing ./transformers\n",
            "  Installing build dependencies ... \u001b[?25l\u001b[?25hdone\n",
            "  Getting requirements to build wheel ... \u001b[?25l\u001b[?25hdone\n",
            "  Preparing metadata (pyproject.toml) ... \u001b[?25l\u001b[?25hdone\n",
            "Requirement already satisfied: filelock in /usr/local/lib/python3.10/dist-packages (from transformers==4.34.0.dev0) (3.12.2)\n",
            "Requirement already satisfied: huggingface-hub<1.0,>=0.15.1 in /usr/local/lib/python3.10/dist-packages (from transformers==4.34.0.dev0) (0.17.1)\n",
            "Requirement already satisfied: numpy>=1.17 in /usr/local/lib/python3.10/dist-packages (from transformers==4.34.0.dev0) (1.23.5)\n",
            "Requirement already satisfied: packaging>=20.0 in /usr/local/lib/python3.10/dist-packages (from transformers==4.34.0.dev0) (23.1)\n",
            "Requirement already satisfied: pyyaml>=5.1 in /usr/local/lib/python3.10/dist-packages (from transformers==4.34.0.dev0) (6.0.1)\n",
            "Requirement already satisfied: regex!=2019.12.17 in /usr/local/lib/python3.10/dist-packages (from transformers==4.34.0.dev0) (2023.6.3)\n",
            "Requirement already satisfied: requests in /usr/local/lib/python3.10/dist-packages (from transformers==4.34.0.dev0) (2.31.0)\n",
            "Requirement already satisfied: tokenizers!=0.11.3,<0.14,>=0.11.1 in /usr/local/lib/python3.10/dist-packages (from transformers==4.34.0.dev0) (0.13.3)\n",
            "Requirement already satisfied: safetensors>=0.3.1 in /usr/local/lib/python3.10/dist-packages (from transformers==4.34.0.dev0) (0.3.3)\n",
            "Requirement already satisfied: tqdm>=4.27 in /usr/local/lib/python3.10/dist-packages (from transformers==4.34.0.dev0) (4.66.1)\n",
            "Requirement already satisfied: fsspec in /usr/local/lib/python3.10/dist-packages (from huggingface-hub<1.0,>=0.15.1->transformers==4.34.0.dev0) (2023.6.0)\n",
            "Requirement already satisfied: typing-extensions>=3.7.4.3 in /usr/local/lib/python3.10/dist-packages (from huggingface-hub<1.0,>=0.15.1->transformers==4.34.0.dev0) (4.5.0)\n",
            "Requirement already satisfied: charset-normalizer<4,>=2 in /usr/local/lib/python3.10/dist-packages (from requests->transformers==4.34.0.dev0) (3.2.0)\n",
            "Requirement already satisfied: idna<4,>=2.5 in /usr/local/lib/python3.10/dist-packages (from requests->transformers==4.34.0.dev0) (3.4)\n",
            "Requirement already satisfied: urllib3<3,>=1.21.1 in /usr/local/lib/python3.10/dist-packages (from requests->transformers==4.34.0.dev0) (2.0.4)\n",
            "Requirement already satisfied: certifi>=2017.4.17 in /usr/local/lib/python3.10/dist-packages (from requests->transformers==4.34.0.dev0) (2023.7.22)\n",
            "Building wheels for collected packages: transformers\n",
            "  Building wheel for transformers (pyproject.toml) ... \u001b[?25l\u001b[?25hdone\n",
            "  Created wheel for transformers: filename=transformers-4.34.0.dev0-py3-none-any.whl size=7683006 sha256=8212687e14cc403640e3907b3dcad375e7780a06f2acb0e87a71e431d70a8683\n",
            "  Stored in directory: /tmp/pip-ephem-wheel-cache-gd64pfq3/wheels/7c/35/80/e946b22a081210c6642e607ed65b2a5b9a4d9259695ee2caf5\n",
            "Successfully built transformers\n",
            "Installing collected packages: transformers\n",
            "  Attempting uninstall: transformers\n",
            "    Found existing installation: transformers 4.33.1\n",
            "    Uninstalling transformers-4.33.1:\n",
            "      Successfully uninstalled transformers-4.33.1\n",
            "Successfully installed transformers-4.34.0.dev0\n"
          ]
        },
        {
          "output_type": "display_data",
          "data": {
            "application/vnd.colab-display-data+json": {
              "pip_warning": {
                "packages": [
                  "transformers"
                ]
              }
            }
          },
          "metadata": {}
        }
      ]
    },
    {
      "cell_type": "code",
      "source": [
        "parser = argparse.ArgumentParser()\n",
        "parser.add_argument('--seed', type=int, default=88888)\n",
        "parser.add_argument(\"--model_name\", default=\"gpt2-medium\", type=str)\n",
        "parser.add_argument(\"--max_seq_length\", default=512, type=int)\n",
        "parser.add_argument(\"--train_batch_size\", default=4, type=int)\n",
        "parser.add_argument(\"--valid_batch_size\", default=4, type=int)\n",
        "parser.add_argument(\"--num_train_epochs\", default=4, type=int)\n",
        "parser.add_argument(\"--warmup\", default=0.1, type=float)\n",
        "parser.add_argument(\"--learning_rate\", default=5e-5, type=float)\n",
        "\n",
        "args, _ = parser.parse_known_args()"
      ],
      "metadata": {
        "id": "bwMgsKUkeQWy"
      },
      "execution_count": 2,
      "outputs": []
    },
    {
      "cell_type": "code",
      "source": [
        "excel_file = '/content/IDEST_database.xlsx'\n",
        "idest_df = pd.read_excel(excel_file)\n",
        "selected_cols = ['text_english', 'tags']\n",
        "df_selected = idest_df[selected_cols]\n",
        "df_selected['tags'] = df_selected['tags'].str.replace(';', ' and')\n",
        "df_selected"
      ],
      "metadata": {
        "colab": {
          "base_uri": "https://localhost:8080/",
          "height": 527
        },
        "id": "fPCPwTAReQZX",
        "outputId": "9a35a626-53b3-4290-db54-83bafe1e5d62"
      },
      "execution_count": 8,
      "outputs": [
        {
          "output_type": "stream",
          "name": "stderr",
          "text": [
            "<ipython-input-8-e35a78a4daaa>:5: SettingWithCopyWarning: \n",
            "A value is trying to be set on a copy of a slice from a DataFrame.\n",
            "Try using .loc[row_indexer,col_indexer] = value instead\n",
            "\n",
            "See the caveats in the documentation: https://pandas.pydata.org/pandas-docs/stable/user_guide/indexing.html#returning-a-view-versus-a-copy\n",
            "  df_selected['tags'] = df_selected['tags'].str.replace(';', ' and')\n"
          ]
        },
        {
          "output_type": "execute_result",
          "data": {
            "text/plain": [
              "                                          text_english  \\\n",
              "0    It’s a Friday night, and I’m leaving home for ...   \n",
              "1    I arrive home from a party and sit in front of...   \n",
              "2    It’s an ordinary weekly meeting at my workplac...   \n",
              "3    It’s a summer day, and I’m on a hiking trip. I...   \n",
              "4    I’m standing near the edge of the stage in the...   \n",
              "..                                                 ...   \n",
              "245  The only problem we had with this new house th...   \n",
              "246  Selim was my childhood friend. We were very cl...   \n",
              "247  I have three dogs and two cats. I and five ani...   \n",
              "248  Barbecue is not something we do often or somet...   \n",
              "249  It was my seventh day at the hospital. Nobody ...   \n",
              "\n",
              "                          tags  \n",
              "0                      driving  \n",
              "1                         hair  \n",
              "2             work and meeting  \n",
              "3            hiking and nature  \n",
              "4          public presentation  \n",
              "..                         ...  \n",
              "245        family and accident  \n",
              "246  friend and mental illness  \n",
              "247            pets and noises  \n",
              "248                     family  \n",
              "249        hospital and family  \n",
              "\n",
              "[250 rows x 2 columns]"
            ],
            "text/html": [
              "\n",
              "  <div id=\"df-1a30428c-7432-45be-af99-52b9c682113c\" class=\"colab-df-container\">\n",
              "    <div>\n",
              "<style scoped>\n",
              "    .dataframe tbody tr th:only-of-type {\n",
              "        vertical-align: middle;\n",
              "    }\n",
              "\n",
              "    .dataframe tbody tr th {\n",
              "        vertical-align: top;\n",
              "    }\n",
              "\n",
              "    .dataframe thead th {\n",
              "        text-align: right;\n",
              "    }\n",
              "</style>\n",
              "<table border=\"1\" class=\"dataframe\">\n",
              "  <thead>\n",
              "    <tr style=\"text-align: right;\">\n",
              "      <th></th>\n",
              "      <th>text_english</th>\n",
              "      <th>tags</th>\n",
              "    </tr>\n",
              "  </thead>\n",
              "  <tbody>\n",
              "    <tr>\n",
              "      <th>0</th>\n",
              "      <td>It’s a Friday night, and I’m leaving home for ...</td>\n",
              "      <td>driving</td>\n",
              "    </tr>\n",
              "    <tr>\n",
              "      <th>1</th>\n",
              "      <td>I arrive home from a party and sit in front of...</td>\n",
              "      <td>hair</td>\n",
              "    </tr>\n",
              "    <tr>\n",
              "      <th>2</th>\n",
              "      <td>It’s an ordinary weekly meeting at my workplac...</td>\n",
              "      <td>work and meeting</td>\n",
              "    </tr>\n",
              "    <tr>\n",
              "      <th>3</th>\n",
              "      <td>It’s a summer day, and I’m on a hiking trip. I...</td>\n",
              "      <td>hiking and nature</td>\n",
              "    </tr>\n",
              "    <tr>\n",
              "      <th>4</th>\n",
              "      <td>I’m standing near the edge of the stage in the...</td>\n",
              "      <td>public presentation</td>\n",
              "    </tr>\n",
              "    <tr>\n",
              "      <th>...</th>\n",
              "      <td>...</td>\n",
              "      <td>...</td>\n",
              "    </tr>\n",
              "    <tr>\n",
              "      <th>245</th>\n",
              "      <td>The only problem we had with this new house th...</td>\n",
              "      <td>family and accident</td>\n",
              "    </tr>\n",
              "    <tr>\n",
              "      <th>246</th>\n",
              "      <td>Selim was my childhood friend. We were very cl...</td>\n",
              "      <td>friend and mental illness</td>\n",
              "    </tr>\n",
              "    <tr>\n",
              "      <th>247</th>\n",
              "      <td>I have three dogs and two cats. I and five ani...</td>\n",
              "      <td>pets and noises</td>\n",
              "    </tr>\n",
              "    <tr>\n",
              "      <th>248</th>\n",
              "      <td>Barbecue is not something we do often or somet...</td>\n",
              "      <td>family</td>\n",
              "    </tr>\n",
              "    <tr>\n",
              "      <th>249</th>\n",
              "      <td>It was my seventh day at the hospital. Nobody ...</td>\n",
              "      <td>hospital and family</td>\n",
              "    </tr>\n",
              "  </tbody>\n",
              "</table>\n",
              "<p>250 rows × 2 columns</p>\n",
              "</div>\n",
              "    <div class=\"colab-df-buttons\">\n",
              "\n",
              "  <div class=\"colab-df-container\">\n",
              "    <button class=\"colab-df-convert\" onclick=\"convertToInteractive('df-1a30428c-7432-45be-af99-52b9c682113c')\"\n",
              "            title=\"Convert this dataframe to an interactive table.\"\n",
              "            style=\"display:none;\">\n",
              "\n",
              "  <svg xmlns=\"http://www.w3.org/2000/svg\" height=\"24px\" viewBox=\"0 -960 960 960\">\n",
              "    <path d=\"M120-120v-720h720v720H120Zm60-500h600v-160H180v160Zm220 220h160v-160H400v160Zm0 220h160v-160H400v160ZM180-400h160v-160H180v160Zm440 0h160v-160H620v160ZM180-180h160v-160H180v160Zm440 0h160v-160H620v160Z\"/>\n",
              "  </svg>\n",
              "    </button>\n",
              "\n",
              "  <style>\n",
              "    .colab-df-container {\n",
              "      display:flex;\n",
              "      gap: 12px;\n",
              "    }\n",
              "\n",
              "    .colab-df-convert {\n",
              "      background-color: #E8F0FE;\n",
              "      border: none;\n",
              "      border-radius: 50%;\n",
              "      cursor: pointer;\n",
              "      display: none;\n",
              "      fill: #1967D2;\n",
              "      height: 32px;\n",
              "      padding: 0 0 0 0;\n",
              "      width: 32px;\n",
              "    }\n",
              "\n",
              "    .colab-df-convert:hover {\n",
              "      background-color: #E2EBFA;\n",
              "      box-shadow: 0px 1px 2px rgba(60, 64, 67, 0.3), 0px 1px 3px 1px rgba(60, 64, 67, 0.15);\n",
              "      fill: #174EA6;\n",
              "    }\n",
              "\n",
              "    .colab-df-buttons div {\n",
              "      margin-bottom: 4px;\n",
              "    }\n",
              "\n",
              "    [theme=dark] .colab-df-convert {\n",
              "      background-color: #3B4455;\n",
              "      fill: #D2E3FC;\n",
              "    }\n",
              "\n",
              "    [theme=dark] .colab-df-convert:hover {\n",
              "      background-color: #434B5C;\n",
              "      box-shadow: 0px 1px 3px 1px rgba(0, 0, 0, 0.15);\n",
              "      filter: drop-shadow(0px 1px 2px rgba(0, 0, 0, 0.3));\n",
              "      fill: #FFFFFF;\n",
              "    }\n",
              "  </style>\n",
              "\n",
              "    <script>\n",
              "      const buttonEl =\n",
              "        document.querySelector('#df-1a30428c-7432-45be-af99-52b9c682113c button.colab-df-convert');\n",
              "      buttonEl.style.display =\n",
              "        google.colab.kernel.accessAllowed ? 'block' : 'none';\n",
              "\n",
              "      async function convertToInteractive(key) {\n",
              "        const element = document.querySelector('#df-1a30428c-7432-45be-af99-52b9c682113c');\n",
              "        const dataTable =\n",
              "          await google.colab.kernel.invokeFunction('convertToInteractive',\n",
              "                                                    [key], {});\n",
              "        if (!dataTable) return;\n",
              "\n",
              "        const docLinkHtml = 'Like what you see? Visit the ' +\n",
              "          '<a target=\"_blank\" href=https://colab.research.google.com/notebooks/data_table.ipynb>data table notebook</a>'\n",
              "          + ' to learn more about interactive tables.';\n",
              "        element.innerHTML = '';\n",
              "        dataTable['output_type'] = 'display_data';\n",
              "        await google.colab.output.renderOutput(dataTable, element);\n",
              "        const docLink = document.createElement('div');\n",
              "        docLink.innerHTML = docLinkHtml;\n",
              "        element.appendChild(docLink);\n",
              "      }\n",
              "    </script>\n",
              "  </div>\n",
              "\n",
              "\n",
              "<div id=\"df-e339ccf9-5230-4631-a053-3a184eda5f1e\">\n",
              "  <button class=\"colab-df-quickchart\" onclick=\"quickchart('df-e339ccf9-5230-4631-a053-3a184eda5f1e')\"\n",
              "            title=\"Suggest charts.\"\n",
              "            style=\"display:none;\">\n",
              "\n",
              "<svg xmlns=\"http://www.w3.org/2000/svg\" height=\"24px\"viewBox=\"0 0 24 24\"\n",
              "     width=\"24px\">\n",
              "    <g>\n",
              "        <path d=\"M19 3H5c-1.1 0-2 .9-2 2v14c0 1.1.9 2 2 2h14c1.1 0 2-.9 2-2V5c0-1.1-.9-2-2-2zM9 17H7v-7h2v7zm4 0h-2V7h2v10zm4 0h-2v-4h2v4z\"/>\n",
              "    </g>\n",
              "</svg>\n",
              "  </button>\n",
              "\n",
              "<style>\n",
              "  .colab-df-quickchart {\n",
              "      --bg-color: #E8F0FE;\n",
              "      --fill-color: #1967D2;\n",
              "      --hover-bg-color: #E2EBFA;\n",
              "      --hover-fill-color: #174EA6;\n",
              "      --disabled-fill-color: #AAA;\n",
              "      --disabled-bg-color: #DDD;\n",
              "  }\n",
              "\n",
              "  [theme=dark] .colab-df-quickchart {\n",
              "      --bg-color: #3B4455;\n",
              "      --fill-color: #D2E3FC;\n",
              "      --hover-bg-color: #434B5C;\n",
              "      --hover-fill-color: #FFFFFF;\n",
              "      --disabled-bg-color: #3B4455;\n",
              "      --disabled-fill-color: #666;\n",
              "  }\n",
              "\n",
              "  .colab-df-quickchart {\n",
              "    background-color: var(--bg-color);\n",
              "    border: none;\n",
              "    border-radius: 50%;\n",
              "    cursor: pointer;\n",
              "    display: none;\n",
              "    fill: var(--fill-color);\n",
              "    height: 32px;\n",
              "    padding: 0;\n",
              "    width: 32px;\n",
              "  }\n",
              "\n",
              "  .colab-df-quickchart:hover {\n",
              "    background-color: var(--hover-bg-color);\n",
              "    box-shadow: 0 1px 2px rgba(60, 64, 67, 0.3), 0 1px 3px 1px rgba(60, 64, 67, 0.15);\n",
              "    fill: var(--button-hover-fill-color);\n",
              "  }\n",
              "\n",
              "  .colab-df-quickchart-complete:disabled,\n",
              "  .colab-df-quickchart-complete:disabled:hover {\n",
              "    background-color: var(--disabled-bg-color);\n",
              "    fill: var(--disabled-fill-color);\n",
              "    box-shadow: none;\n",
              "  }\n",
              "\n",
              "  .colab-df-spinner {\n",
              "    border: 2px solid var(--fill-color);\n",
              "    border-color: transparent;\n",
              "    border-bottom-color: var(--fill-color);\n",
              "    animation:\n",
              "      spin 1s steps(1) infinite;\n",
              "  }\n",
              "\n",
              "  @keyframes spin {\n",
              "    0% {\n",
              "      border-color: transparent;\n",
              "      border-bottom-color: var(--fill-color);\n",
              "      border-left-color: var(--fill-color);\n",
              "    }\n",
              "    20% {\n",
              "      border-color: transparent;\n",
              "      border-left-color: var(--fill-color);\n",
              "      border-top-color: var(--fill-color);\n",
              "    }\n",
              "    30% {\n",
              "      border-color: transparent;\n",
              "      border-left-color: var(--fill-color);\n",
              "      border-top-color: var(--fill-color);\n",
              "      border-right-color: var(--fill-color);\n",
              "    }\n",
              "    40% {\n",
              "      border-color: transparent;\n",
              "      border-right-color: var(--fill-color);\n",
              "      border-top-color: var(--fill-color);\n",
              "    }\n",
              "    60% {\n",
              "      border-color: transparent;\n",
              "      border-right-color: var(--fill-color);\n",
              "    }\n",
              "    80% {\n",
              "      border-color: transparent;\n",
              "      border-right-color: var(--fill-color);\n",
              "      border-bottom-color: var(--fill-color);\n",
              "    }\n",
              "    90% {\n",
              "      border-color: transparent;\n",
              "      border-bottom-color: var(--fill-color);\n",
              "    }\n",
              "  }\n",
              "</style>\n",
              "\n",
              "  <script>\n",
              "    async function quickchart(key) {\n",
              "      const quickchartButtonEl =\n",
              "        document.querySelector('#' + key + ' button');\n",
              "      quickchartButtonEl.disabled = true;  // To prevent multiple clicks.\n",
              "      quickchartButtonEl.classList.add('colab-df-spinner');\n",
              "      try {\n",
              "        const charts = await google.colab.kernel.invokeFunction(\n",
              "            'suggestCharts', [key], {});\n",
              "      } catch (error) {\n",
              "        console.error('Error during call to suggestCharts:', error);\n",
              "      }\n",
              "      quickchartButtonEl.classList.remove('colab-df-spinner');\n",
              "      quickchartButtonEl.classList.add('colab-df-quickchart-complete');\n",
              "    }\n",
              "    (() => {\n",
              "      let quickchartButtonEl =\n",
              "        document.querySelector('#df-e339ccf9-5230-4631-a053-3a184eda5f1e button');\n",
              "      quickchartButtonEl.style.display =\n",
              "        google.colab.kernel.accessAllowed ? 'block' : 'none';\n",
              "    })();\n",
              "  </script>\n",
              "</div>\n",
              "    </div>\n",
              "  </div>\n"
            ]
          },
          "metadata": {},
          "execution_count": 8
        }
      ]
    },
    {
      "cell_type": "code",
      "source": [
        "def combinetext(prompt, story):\n",
        "    prompts=prompt\n",
        "    stories=story\n",
        "    assert len(prompts)==len(stories)\n",
        "    combine=[]\n",
        "    for i in range(len(prompts)):\n",
        "        combine.append('From the first-person perspective, write an emotional narrative with maximum 200 words about: ' + prompts[i].rstrip()+' <sep> '+\" \".join(stories[i].split()[:300]))\n",
        "    return combine\n",
        "\n",
        "def cleanpunctuation(s):\n",
        "    s=s.replace(' '+'n\\'t','n\\'t')\n",
        "    s=s.replace(' '+'\\'s','\\'s')\n",
        "    s=s.replace(' '+'\\'re','\\'re')\n",
        "    s=s.replace(' '+'\\'ve','\\'ve')\n",
        "    s=s.replace(' '+'\\'ll','\\'ll')\n",
        "    s=s.replace(' '+'\\'am','\\'am')\n",
        "    s=s.replace(' '+'\\'m','\\'m')\n",
        "    s=s.replace(' '+'\\' m','\\'m')\n",
        "    s=s.replace(' '+'\\'m','\\'m')\n",
        "    s=s.replace(' '+'\\' ve','\\'ve')\n",
        "    s=s.replace(' '+'\\' s','\\'s')\n",
        "    s=s.replace('<newline>','\\n')\n",
        "    return s"
      ],
      "metadata": {
        "id": "fNZ9ollYeZed"
      },
      "execution_count": 4,
      "outputs": []
    },
    {
      "cell_type": "code",
      "source": [
        "fullData=combinetext(df_selected['tags'], df_selected['text_english'])\n",
        "fullData=list(map(cleanpunctuation,fullData))"
      ],
      "metadata": {
        "id": "Fk1j8DUDeZh1"
      },
      "execution_count": 5,
      "outputs": []
    },
    {
      "cell_type": "code",
      "source": [
        "fullData"
      ],
      "metadata": {
        "colab": {
          "base_uri": "https://localhost:8080/"
        },
        "id": "98bq3aTTrKSb",
        "outputId": "cc35cd6e-5d73-4438-9702-358b89db9594"
      },
      "execution_count": 6,
      "outputs": [
        {
          "output_type": "execute_result",
          "data": {
            "text/plain": [
              "['From the first-person perspective, write an emotional narrative with maximum 200 words about: driving <sep> It’s a Friday night, and I’m leaving home for the gym, which is located next to a shopping mall, so I park my car in the mall’s lot. I’m in a good mood because I can start my weekend more relaxed after a workout. After my workout, the lot is now full of cars. I walk to my car and notice families all around me with their children and shopping carts. I’m glad I did my shopping for the weekend yesterday and avoided long lines at the supermarket. I can just go home and start my weekend. I reach my car, open the door and get behind the wheel. I throw my gym bag onto the front seat and take out my cell phone. I want to check messages and incoming calls before I start driving. After checking my phone, I start my car, glance into the rearview mirror and drive out of the parking lot to go home.',\n",
              " 'From the first-person perspective, write an emotional narrative with maximum 200 words about: hair <sep> I arrive home from a party and sit in front of a mirror to brush my hair. I went to a hairdresser before the party and received an amazing hairdo. They used a lot of hairspray at the hairdresser’s, so it’s going to be difficult to untangle my hair. They also back-combed my hair into an elegant beehive, which makes it even more difficult to handle. It would be a shame to undo such a fantastic hairdo, but I want to untangle my hair before going to bed. I know that in the morning, it would be even more difficult to untangle. I brush my hair carefully, starting from the sides. I hold my hair from the roots while I work through it. This way, brushing hurts less. When I have worked through my hair on the sides, I start untangling the back using a mirror. I work through my hair in small sections and my hair straightens and untangles surprisingly easily. I rub my scalp with my fingers for a moment, as it is a bit tender after the tight hairdo.',\n",
              " 'From the first-person perspective, write an emotional narrative with maximum 200 words about: work and meeting <sep> It’s an ordinary weekly meeting at my workplace, and we’re all gathered in the meeting room. Our team leader is in charge of the meeting, and occasionally, others take part in the conversation. The meeting’s tempo is easygoing, and the atmosphere is very concentrated. We go through the agenda, which includes goals for the next few months and employees’ roles and tasks. This time, I don’t have an active role, and I can concentrate more on listening. On the table in front of me is a cup of hot coffee and my calendar, which I use for taking notes. I pick up a pen and follow the slide show projected on the wall while sipping my coffee. A colleague next to me leans toward me and whispers something. I need to struggle to hear her. I nod in understanding and answer in a low voice, covering my mouth with my hand. I then turn my attention back to the speaker and the ongoing presentation.',\n",
              " 'From the first-person perspective, write an emotional narrative with maximum 200 words about: hiking and nature <sep> It’s a summer day, and I’m on a hiking trip. I’m well prepared with a map, compass and flashlight. I also have a half-eaten snack in my backpack. I hike along the familiar paths in a national park, and every now and then, I check the map to make sure I’m headed in the right direction. Sand rattles under my shoes, and the pine trees around me emit a fragrant scent. After hiking a while, I decide to turn back and re-trace my steps. I want to get home without having to walk much in the dark. Luckily, summer days are long, and I know that I have several hours before darkness falls. As night falls, the shadows become longer and the birds stop singing. Suddenly, I need to use my flashlight to check my map, but using that and the compass, I easily find the right path, so I pack up my aforementioned items and continue.',\n",
              " 'From the first-person perspective, write an emotional narrative with maximum 200 words about: public presentation <sep> I’m standing near the edge of the stage in the wings, hidden from the audience, awaiting the signal. I’ve been preparing my speech for months, and my time has come. The host introduces me, and I can feel the anxiety flow through my body. The audience is clapping, and I know that’s my signal. My legs are shaking when I walk across the stage into the bright spotlight, which blinds me for a moment. I blink in a panic, and when my eyes adjust to the light, I can see a sea of people in front of me. Everybody is looking at me. My movements feel unnatural as I walk toward the lectern. I open my bag to get out my papers, and I sneak glimpses of the audience. They are waiting silently and stare at me. My throat is dry, and I cough. My hand stops when I realize that my papers are not in my bag. I look at my empty bag in shock, and sweat is dripping from my forehead. I’ve lost all my notes, pictures, everything! What am I going to do now? I look at the audience, and they are just staring back at me. They must see how I’m shaking and sweating. I mumble something and laugh nervously.',\n",
              " 'From the first-person perspective, write an emotional narrative with maximum 200 words about: party and jealousy <sep> I’m at a party, and the atmosphere is fantastic. People are in a good mood, and the food and drinks are great. The party is in a big house, and there is joyful banter aplenty in every room. Somewhere, a live band is playing. I’m sitting on a sofa with my partner, and my best friend and I decide to get some more drinks. I also want to enjoy the party alone for a moment and look around the house. I walk upstairs and admire the beautiful décor of the house. What a great evening. I sip my drink and decide to return to my friends and partner, then suggest we go listen to the band. I start walking downstairs, but slow down when I see two people leaning into each other in the shadows of a corner in the hall. I freeze on the stairs when I realize who these two people are: my partner and my best friend. I’m paralyzed and don’t know what to think or do. I can’t believe it! I feel the blood running out of my face as I watch them share a secret kiss. I grasp my glass in disbelief.',\n",
              " 'From the first-person perspective, write an emotional narrative with maximum 200 words about: phone and house moving <sep> Plenty of moving boxes remain in my home as I sit on a chair, concentrating on unpacking a box. I’m relieved that I marked each box with the room from which the contents came. I am now unpacking kitchen boxes. I cut the tape on the box and remove items. I consider where I should place every item and put them there. The radio is on in the background, and I listen to the music absent-mindedly. I hear a phone ring somewhere, and I recognize it as mine. I cannot remember where I put my phone. In the middle of the boxes, it is hard to locate the ringing sound. I lift some boxes and look for my phone. The ringing continues as I continue looking. “Perhaps I forgot it in the pocket of my coat,” I think to myself, as I search through the boxes.',\n",
              " 'From the first-person perspective, write an emotional narrative with maximum 200 words about: romance and nature <sep> I’m walking in the park, hand in hand with my loved one. It’s a beautiful summer Sunday afternoon, and I feel relaxed and happy. We’re in the park for a picnic, and we’re looking for a place to settle on the ground and enjoy food and each other’s company. We find a secluded spot under a big linden tree, and we spread our blanket under the tree. The place is perfect because the tree’s shade shelters us from the scorching hot sun and curious eyes. We kick off our shoes and lie on the soft blanket. Our picnic basket is full of different delicacies: strawberries, cakes and sparkling wine. My partner pops open the bottle of bubbly while I dig out the glasses. We raise our glasses, smiling, and exchange a light kiss. I taste the sweet, sparkling wine on your lips. “What a perfect day,” I think. We lie on the blanket and curl up against each other. A light wind blows over us as we lovingly look into each other’s eyes.',\n",
              " 'From the first-person perspective, write an emotional narrative with maximum 200 words about: harrassment <sep> I join my friends in loud applause when the last band finishes playing. Part of the audience is still in a lively party mood when we start zigzagging our way through the crowd toward the exit. We walk toward the gates, and little by little, fewer people are around. I see in the distance a big, drunken man stumbling toward us. I don’t pay attention to him because I’m so involved in our conversation. Suddenly, the man is right next to us, and he falls against me. He smells like cigarettes and booze, and I jump away from him. I cannot hold back a sneer. The man is stumbling around, his eyes half closed, then he suddenly throws up on me. I wince in horror as the foul-smelling vomit splashes on me. It sprays on the front of my coat and on my jeans. I feel nauseous, and I feel my own vomit raising in my throat. The man’s yellow vomit drips from my coat onto my shoes and my bare hand.',\n",
              " 'From the first-person perspective, write an emotional narrative with maximum 200 words about: grocery store and panic attack <sep> I’ve been waiting for a very long time in line at a packed grocery store, and I’m in a hurry to go home because I still have lots of work to do. I start sweating under my thick winter jacket. People bump into me from the front and back, and occasionally, somebody bisects the line toward another cashier. I try to peek over other people’s shoulders, but the line is not moving. I am uncomfortable, I feel like I’m trapped in the middle of a sea of people. I wipe sweat from my forehead and feel dizzy. I try to move a little to get more space, but the mass of other people is just pressing harder against me. My cheeks are glowing red, and I’m gasping for air. I reach to look over at other people. The line still hasn’t moved, and I start to get a headache. Now I really feel like I’m trapped. Sounds fade in the background, becoming distant noise, and I know that another attack is coming. “This time, I will die,” I think to myself, in a panic.',\n",
              " 'From the first-person perspective, write an emotional narrative with maximum 200 words about: rollercoaster <sep> It’s a sunny summer day, and I’m at an amusement park with my friends. The atmosphere is light as we laugh the time away. The rides and game machines play their tunes, and you can hear joyful screaming and laughter here and there. We decide to ride a roller coaster, and we line up for the next ride while chatting cheerfully and eating our final puffs of cotton candy. The cars finally rattle toward us, the safety bars rise, and the previous passengers get out. Bravely, we choose the first car. The roller coaster smells like old wood. The cars begin traveling through some mellow turns, with a few small climbs, then we start our ascent toward the highest point. The cars lurch upward, and the city spreads out beneath us. I laugh and sigh in awe. What a scene, and what a fantastic wind! The first steep descent looms. We inch forward, closer and closer to the drop. I grasp my friend’s hand and laugh. Here we go! My stomach turns as the roller coaster cars dive. Thrilled, I scream and throw my hands in the air.',\n",
              " 'From the first-person perspective, write an emotional narrative with maximum 200 words about: snake and nature <sep> I’m walking in a forest, breathing in the crisp autumn air. The cold nights have turned the trees’ leaves into beautiful shades of red and yellow. Some leaves already have fallen, and the wind has shaped them into big piles. I smile when I remember how we used to jump and play in the leaves when we were children. I look around, and on the spur of the moment, I decide to walk into a pile of leaves. I can feel the familiar rustling of the leaves under my feet, but I freeze suddenly when I step on something soft. It is slithering under my foot and I quickly pull my foot out. I take a couple of steps back, and I can see the head of a snake emerging from the leaf pile. Its long, slimy body soon follows the head. I gasp for air and try to back up, but the leaves make moving awkward, and I lose my balance. The snake’s mouth is open, and its fangs are out. I stumble away, but I’m too slow. The snake already is flexing its long body and attacking. I feel a sudden, sharp pain on my foot.',\n",
              " 'From the first-person perspective, write an emotional narrative with maximum 200 words about: winning and sports <sep> My favorite soccer team is playing today, and I’m sitting in the audience with thousands of other fans. The game has been painful to watch, as my team has been losing since the first goal was scored. Just a moment ago, my team tied the game, and now my body is excited in a completely different way. My heart is pounding, and I feel not only thrilled, but also hopeful. I chew gum nervously as my team fights on the field, and that same spirit transfers into me. In the final minutes of the game, my team gets a free kick from a good location. I exhale, clench my fists then open them. These are the crucial moments. I repeat cheers to my team in my mind. On the field, a player is preparing for a kick, runs toward the ball, and kicks. It’s a goal! The audience jumps up from the benches and explodes with a deafening roar. We won! My team took charge of the game and won!',\n",
              " 'From the first-person perspective, write an emotional narrative with maximum 200 words about: dentist <sep> I’m at the dentist’s office for a filling that I had been postponing for too long. I lie in the dentist’s chair with safety goggles on and my mouth open. The dentist leans over me and starts examining my teeth. My neck and shoulders are hurting because I’m nervous and tighten my muscles unconsciously. I try to relax my body and breathe calmly. I feel like I’m not getting enough oxygen because I cannot breathe through my mouth. I feel uncomfortable. The dentist is using a metal tool to scrape my teeth and murmurs grumpily. I clench my sweaty fists around the back rest of the chair and struggle to stay still. My chin is hurting, and I taste plastic and metal in my mouth. The dentist gets up and turns around in his chair. I reach to see what is happening next. The drill starts buzzing and I put my head back on the chair and close my eyes. I feel dizzy.',\n",
              " 'From the first-person perspective, write an emotional narrative with maximum 200 words about: grocery store <sep> I’m in a grocery store and push the shopping cart along the aisle. I have arrived just before rush hour, so there’s no crowd or much noise. I only hear typical grocery-store noises and ads blaring from the loud speakers. I glance at my shopping list, which I wrote that morning. I already bought the ingredients for dinner earlier, so all I need on this trip is some items for the fridge. From the fruit section, I pick up some bananas and a few apples. I weigh the fruit and put it in the shopping cart. From the cold shelves, I pick up a couple of milk cartons and some yogurt. From the next shelf, I get some butter and a piece of cheese. I continue to the bread shelves, then stop to decide whether I should get my usual loaf or try some novelty bread from the bakery. I end up trying the novelty bread and put it in my shopping cart. “I should pick up some drinks for the weekend,” I think to myself as I continue.',\n",
              " 'From the first-person perspective, write an emotional narrative with maximum 200 words about: cleaning <sep> It’s a rainy Sunday, and my roommate and I decide to make it cleaning day. It’s been a while since the last cleaning, and we both agree that it’s time to do it. We drink coffee at the kitchen table and discuss how we should divide the tasks. We agree that I will start by doing the dishes and that my roommate will vacuum the floors. I turn on the radio and put on a pair of rubber gloves. My roommate digs out the vacuum cleaner, while I fill the sink with warm water. On one side of the sink, I add lemon-scented dish soap, with the other side used as rinsing water. I start cleaning the dishes and whistling to the music on the radio. When I finish washing, rinsing, and drying the dishes, I put them in the cupboard. Finally, I rinse and dry our coffee cups and porridge kettle that had been soaking. The vacuum cleaner stops, so now I can hear the music better. I put the porridge kettle away in the kitchen drawer before beginning my next chore.',\n",
              " 'From the first-person perspective, write an emotional narrative with maximum 200 words about: parking lot and harrassment <sep> It’s late at night when I leave to go home. Earlier in the day, I left my car in a parking garage full of cars, in the last row. Now the garage is empty and dark. I can hear only the hum of air conditioning and the buzz of strip lighting. I can see my lonely car in the far-away corner, and I feel anxious about walking through the parking garage. I know that nothing is going to happen, but I still clench my keys tightly. Walking to my car seems to take forever, and I walk faster. I just want to get to my car as quickly as possible. Suddenly, I hear steps behind me. I take a quick breath of air and feel panic rising inside me. I don’t look back and speed up. I see a long shadow on my right, and I realize that somebody is following me. I turn the keys in my sweaty hands and try to take out the car key. The steps behind me are getting faster and the shadow next to me is getting longer. My heart beats fast, and I start running. I hear my stalker start running after me.',\n",
              " 'From the first-person perspective, write an emotional narrative with maximum 200 words about: skiing and nature <sep> It’s a sunny day in the mountains, and I’ve just taken a ski lift to the top. The sky is bright blue, and the sun is warming my face. It’s a perfect temperature for skiing. I stop for a moment to take in the wintry scenery. The snow-topped mountain peaks stretch toward the horizon. There are no trees at these altitudes, just some old, dead pines here and there. I see a ski hut at the bottom of the slope and decide to go there. The thought of a steaming cup of hot chocolate makes my mouth water. I push myself in motion and feel fantastically free when I slide down the slope. I first gather some speed, then make a controlled turn, which slows me down a little. My movements are relaxed and effortless. Powdery snow whirls behind me as I speed up again after the turn. I zigzag smoothly down the hill, the wind caressing my face.',\n",
              " 'From the first-person perspective, write an emotional narrative with maximum 200 words about: romance and sexual <sep> Even though we have been together for some time, I feel like I’ve just fallen in love. When we’re apart, I often think of you and smile to myself. I want to share even the smallest things with you because you seem to think about everything the same way that I do. When I’m thinking of our next meeting, I feel a gnawing in my stomach. I cannot wait to see you again. When we’re together, the air is filled with love. With you, I feel like I’m home. I know that we will meet today, and I’ve been waiting for it eagerly all day. I hear the door open, and I’m filled with tingling expectations. You step inside and take off your coat. You look at me and smile. Your smile is contagious. I get up from the sofa and walk toward you. I shiver when our bodies touch each other. I reach out my hands, and I want to touch and kiss you everywhere. You grab me, and I melt in your hands. You whisper into my ear, “I love you.”',\n",
              " 'From the first-person perspective, write an emotional narrative with maximum 200 words about: swimming and sports <sep> I’m swimming long distance today, and I’m already well into my training. My body has warmed up and is full of energy. The pool lane reserved for fitness swimmers is almost empty, as I want to concentrate on my swimming without other swimmers bothering me. I crawl forward with regular and confident strokes. My movements are already so automatic that I need not think about them and can just do them. I let the water flow around me, and I concentrate on my breathing rhythm. I keep my pace steady because I want to preserve my strength to ensure I can finish my long-distance workout plan. Through the goggles, I can see the end of the lane approaching, and I prepare for the turn by turning my head to the side and taking in the last breath for the last time. I reach a good distance from the end and turn myself around underwater. I put my feet on the wall of the pool and push myself in motion. I dart forward and glide as far as I can before I start the slow strokes again.',\n",
              " 'From the first-person perspective, write an emotional narrative with maximum 200 words about: snake <sep> I’m spending an afternoon at the zoo. There’s a cold wind outside, so I decide to go indoors. I check out the reptile house first, then the birds. I enter the reptile house, and tropical, humid, warm air hits my face. I look around at the terrariums, then follow the marked route. I walk along the corridors and peek into the terrariums, which contain lizards and frogs of differing colors and sizes. Every now and then, I stop for a longer time to peer through the windows because some of the reptiles are so well camouflaged that they are hard to see. The biggest terrarium is in the corner, which contains a giant snake wrapped around a tree in the shadows. The snake seems to be sleeping, and I admire its beautiful stripes and shiny scales. I’m startled when it suddenly opens its yellow eyes and looks directly at me. I step away reflexively. The snake’s double-tipped tongue starts licking the air.',\n",
              " 'From the first-person perspective, write an emotional narrative with maximum 200 words about: home and TV <sep> It’s a quiet night, and I don’t have much to do. I sit on the sofa with the remote control and click through TV channels. Tonight, I want to be by myself and take it easy. I end up watching a sitcom. I never followed the show, but I’ve seen some episodes here and there, so the characters are vaguely familiar. The show seems entertaining, and I relax. During a commercial break, I click through other channels. I stop for a moment to watch a documentary about Northeast Asian tigers. It doesn’t interest me enough, so I continue clicking, coming across a Finnish drama series, a movie and a news show. I decide to return to the sitcom just as the show returns from commercial break. I take up a more comfortable, stretched-out position on the sofa and continue watching the show with the remote in my hand.',\n",
              " 'From the first-person perspective, write an emotional narrative with maximum 200 words about: winning and sports <sep> It’s hockey playoff time, and my team has made it into the semifinals. If we win this game, we’re in the finals. My teammates and I fight really hard, and by the third period, the game is tied 2-2. No one scores during this final period, so the game goes into overtime. Everything is on the line now. After playing for a few minutes, I manage to pass the defense thanks to a nice pass from a teammate, and I’m alone against the goalie. My attention now is focused only on the puck and the goalie. The audience is going crazy, but they seem like they’re far away. For a moment, the pain in my muscles and lungs is gone. I give the shot everything I have, and the puck slams into the upper corner of the goal. I raise my hands up in the air. All my insecurities and pressure are gone at that very moment, and I feel incredible pride and joy. I did it! The audience roars and cheers, and I can see my teammates’ wide smiles as they skate toward me.',\n",
              " 'From the first-person perspective, write an emotional narrative with maximum 200 words about: street and harrassment <sep> It’s already late as I leave the party to walk home. I’m tired and decide to take a shortcut, as the familiar and safe route would be longer. I turn off the busy road onto a smaller street. I rush from one corner to another, and the noise from the cars and people become more distant with every step. I turn into a narrow alley, which is illuminated only by a dim street light. At that moment, the street lamp makes a rattling sound and goes out. I am now so far away from the city center that I only hear my own fast footsteps. I keep my gaze on the ground and increase my speed. I hear steps ahead and raise my eyes. It’s dark, but I see a suspicious group of men turn into the alley and walk briskly toward me. I stop and turn around to retreat. “This was a bad idea,” I think. I take a couple of steps, but I freeze because three others are approaching from that direction. My heart is pounding, and I wrap my coat tighter around me. I look behind me, then in front. I see somebody take out a knife. The group is approaching me, laughing ominously, and I feel my heart pumping hard in my ears.',\n",
              " 'From the first-person perspective, write an emotional narrative with maximum 200 words about: birthday <sep> It’s my birthday, and I’m sitting in a restaurant with my partner and some friends. The atmosphere is cheerful, and the conversation is lively. I’m happy that nobody has to hurry off anywhere, and we have time to sit together and talk. The table raises a toast to my birthday, and I laugh when my friends sing “Happy Birthday” to me off-key. I’m so grateful for my friends and my partner. The waiter brings our orders, and some of my friends hand me their gifts. Delighted, I open the gifts and thank my friends. Finally, while we’re eating our delicious desserts, it’s my partner’s turn to give me a gift. I feel butterflies in my stomach. I have been wondering all week what he might have come up with this time. I open the package excitedly. I cannot believe my eyes! In the package is a gift that I always secretly wished for. “Oh, thank you!” I shout in surprise and reach out to kiss my love.',\n",
              " 'From the first-person perspective, write an emotional narrative with maximum 200 words about: winning and sports <sep> My volleyball team is playing against a difficult opponent, and the game has not been going too well. I try to concentrate, even though I can feel frustration and pressure throbbing in my head. My thigh and shoulder muscles hurt. Our opponent is leading the match, and I know that we need to turn this game around soon, or we’ll lose. Our opponent is putting pressure on us with their serves, and they try a strike. At that moment, an opposing player prepares for a jump. I take off toward the net and jump into the air almost at the same time as my opponent, who hits a fantastic strike. I reach out, straining my upper-body muscles, and manage to defend against the attack. I did it! A feeling of relief runs through my body when my feet touch the ground. I saved my team from an embarrassing loss. I walk back to my place, sweat running down my face. My closest teammates pat me on the back. This is exactly the game-changing move we needed to win this match.',\n",
              " 'From the first-person perspective, write an emotional narrative with maximum 200 words about: home and food <sep> It’s Saturday morning, and I awaken well-rested. I put on my slippers and get the newspaper from the hall. I then walk into the kitchen, turn on the coffee maker and start preparing breakfast. I cut two slices of bread, spread some margarine on them and cut some cucumber and tomato slices to put on them. While preparing my morning sandwich, I think about today’s events. I carry the breakfast to the kitchen table and open the newspaper before I sit down. First, I check the weather forecast. I hear that the coffee maker has stopped, so I return to the kitchen. I pour coffee into my usual mug and mix in some milk and sugar. I return to the table, sit down and take a bite of my sandwich. I drink my coffee while turning the pages of the newspaper, glancing at the headlines and looking for something interesting to read. I stop at a witty column. I take up a comfortable position in my chair, sip my coffee, and immerse myself in reading.',\n",
              " 'From the first-person perspective, write an emotional narrative with maximum 200 words about: gym and sports <sep> I have just completed an endurance-training workout at the gym, and I intend to do a couple of weightlifting exercises before I leave. I walk toward the corner of the gym, to the abdominal bench. I put my towel on the bench and sit on the machine. I put my feet on the foot rest and find a good position. I still have some energy left, and I decide to do three sets of 15 repetitions each. I intend to rest between sets to settle my breathing and let my muscles recover. The first repetitions are easy, but soon my abs start to burn. During the last set, I must work really hard as the burning in my abs gets worse and worse. I struggle with the final movements, trying to maintain good technique, because at this point, it is getting harder to keep my technique together. My pace slows down, and my abs are shaking with exhaustion. However, I manage to finish all the sets.',\n",
              " 'From the first-person perspective, write an emotional narrative with maximum 200 words about: romance and sexual <sep> I know that you are waiting for me at home. We haven’t seen each other for two weeks, and I’ve missed you terribly. I’ve waited for this moment all day, and I run the final steps to the door. When I enter, you greet me and hold me without saying a word. We fall into a long and passionate kiss as you take me into the apartment. I don’t care about taking off my coat or shoes because I cannot think about anything else but you. We grasp each other tighter and kiss passionately. When we step apart for a moment, I can see your eyes glowing. Your smile makes me smile, too, and there is a warm feeling inside me. We fall on the sofa, and I feel your lips on my neck and on my face. You smell good. Your warm hands touch my hair, my face, and the back of my neck. “Oh, how I have missed you,” I think to myself. I grope at your clothes passionately, and we’re both out of breath.',\n",
              " 'From the first-person perspective, write an emotional narrative with maximum 200 words about: home and food <sep> I open the fridge and look for something to eat. I feel like eating something light, but tasty. There is a carton of milk in the door and a packet of margarine on the upper shelf. In the vegetable box, there are some tomatoes and a cucumber I just bought. I take the milk, margarine and vegetables to the kitchen counter and close the fridge. I reach up on my tiptoes to get the granola box and bread from the cupboard, then place them on the counter as well. I cut a few thick slices of bread and put them in the toaster, then put the rest of the loaf in a bag. While the bread is in the toaster, I cut some tomato and cucumber slices. I get a bowl from the cupboard and pour granola and milk into it. When the bread is toasted, I put the bread on a plate and spread margarine and the sliced vegetables on them. I carry the granola and sandwich to the table and sit down to enjoy my meal.',\n",
              " 'From the first-person perspective, write an emotional narrative with maximum 200 words about: friend and accident <sep> I’m walking home from the movies with a friend. We’re deep into a conversation about the film when we stop at a stoplight. The light turns green, and we start crossing the street. Suddenly, my phone rings, and we stop talking. My friend is a couple of steps ahead of me when I stop to dig out my cell phone. My friend stops in the middle of the crosswalk to wait for me. It’s my boss’s number on the screen, and I decide to answer promptly. I wonder why he would be calling me, so I start going over last week’s work in my mind. Suddenly, I hear the loud sound of brakes. I flinch and look up and see a car coming from behind a corner, heading straight for my friend. Everything happens quickly, and I manage to close my eyes just as there is a horrible thump when the car hits her. I open my eyes and stare blankly forward. I can hear my boss on the phone, but it’s a distant voice and I cannot recognize the words. I can see my friend lying on the crosswalk in a distorted position, looking like a ragdoll that was thrown there. Her leg is crushed, and red blood pools in the street.',\n",
              " 'From the first-person perspective, write an emotional narrative with maximum 200 words about: snake and nature <sep> I’m camping with my friends on a summer weekend. After hiking for an entire day, we stop for the night and set up camp beside a beautiful lake. We put up our tent in a small clearing near the woods and crawl into our sleeping bags, exhausted. It is midnight when I suddenly wake up in the darkness. It takes a while to remember where I am. I feel some movement next to my thigh and feel a shiver up my spine. I try to stay still, even though my heart is pounding, and drops of sweat appear on my forehead. I carefully look into my sleeping bag. Something moves inside it, and I blink my eyes to get used to the darkness. Slowly, my sight gets sharper, and I can see a long, shiny snake resting on my thigh. It’s hissing and licking its tongue. I gasp for air, and I can no longer hold back my panic. I scream and try to get out of the sleeping bag. I feel like I’m stuck because I zipped the sleeping bag all the way to the top.',\n",
              " 'From the first-person perspective, write an emotional narrative with maximum 200 words about: gym and sports <sep> I’m at the gym in the middle of the day, and I’m glad that only a few other people are there with me. Now I can really concentrate on my exercises. I put my drinking bottle and towel on the rack and adjust the bike saddle’s height. There is music in the background, and somewhere, I can hear weights being moved around. I sit on the bike and start to pedal, having set the resistance to light, starting with a slow warm-up. I can feel my legs relaxing after a day of sitting at my desk. When my muscles warm up, I increase the resistance and start pedaling faster. I concentrate only on my legs’ rolling movements and increase my pace. I lean over to get the towel off the rack and wipe my forehead. I roll my shoulders and neck and feel the tension slowly being released. I sip water from my bottle and continue pedaling.',\n",
              " 'From the first-person perspective, write an emotional narrative with maximum 200 words about: winning and lottery <sep> It’s Saturday night and time for the national lottery. The TV host is introducing the official jury when I sit down in front of the TV, as usual, with a pen and my lottery ticket to check my numbers. The machine starts, and the numbers come out one by one. I circle the numbers on my ticket and feel excited: one, two, three, four, five, and now already six correct numbers! My heart starts beating fast, and I cannot sit still due to the excitement anymore, so I stand up and run my fingers through my hair. Is this true? I’m waiting for the last number in disbelief. The last number on my ticket is 20. “Please be number 20, be 20, be 20…,” I think to myself. The last number is revealed, and it’s 20. Unbelievable! Shaking, I check all the numbers again. I hear the TV host state that there is one winning ticket. I look at my ticket, then at the TV, and I cannot believe my luck. I have just won 4 million euros! I shout out loud and jump up and down with joy.',\n",
              " 'From the first-person perspective, write an emotional narrative with maximum 200 words about: family and illness <sep> I’m spending the night with my family. We have just finished dinner, which my mother prepared, and I’m glad that the atmosphere is relatively relaxed and happy. My father sits in his chair, quiet and pale, and even though he has been like that for several months now, I still haven’t become used to it. Tonight, everybody is trying to forget recent sorrows and instead concentrate on each other’s good company. After the meal, we get up and start carrying the dishes into the kitchen, chatting in a very cozy atmosphere. My father gets up to wipe the table, even though my mother tries to stop him. I’m taking the big pot to the kitchen when my father slams his hands on the table to get support. My father gasps for air and coughs. I quickly put the pot down on a side table and run to my father. He clutches his chest and falls to the floor, unable to breathe.',\n",
              " 'From the first-person perspective, write an emotional narrative with maximum 200 words about: food <sep> I’m looking for a fast-food place for dinner because I didn’t have time for lunch. I don’t know the city that well, and I’m becoming impatient. Hunger growls in my stomach. I see a burger kiosk, and I decide to go there, as there is nothing better available. I order my burger, and I stand aside to wait. While I’m waiting, I look around and notice that it is not one of the cleanest burger joints I’ve seen. There is grime on the deep fryer and stove, and the cook is not wearing plastic gloves. There’s a foul smell in the air as well. “That’s OK,” I think to myself. I’m so hungry. Finally, I get my burger and walk away. After removing the wrapping, I take a big bite of the burger, and the taste of disgusting, rotten meat fills my mouth. I feel sick, and I spit out the greasy piece of meat. I take a closer look at the burger, and I grin when I see the gray rotten meat.',\n",
              " 'From the first-person perspective, write an emotional narrative with maximum 200 words about: cleaning <sep> I work at a company that cleans rental cabins. I’m on my way to clean a cabin that the previous tenants failed to clean properly before leaving a couple of weeks ago. I have a bad feeling about this because tenants often leave these cabins in terrible shape. I arrive at the cabin, and a rotten smell hits me as I open the door. I stop and let out a long, deep breath, then close my eyes as I start to feel nauseous. I make myself step inside. I try to hold my breath as I walk into the kitchen. A trash bin has fallen to the floor, and its contents have spilled onto the floor, staining the carpet. Maggots are crawling over the leftover food. I try not to think about what the other rooms must look like. I just know that I need to clean up this mess.',\n",
              " 'From the first-person perspective, write an emotional narrative with maximum 200 words about: gaming <sep> A couple of days ago, I bought a new computer game that has received really good reviews. I’ve been wanting to play it, and I finally managed to get a free night, which I dedicated to playing the game. I arrive home, change into comfortable clothes and relax in front of the computer. The computer starts up quickly, and I squint in front of the bright display. I download the game and go through the instructions on the controls. The game is fairly simple and easy to learn, and it doesn’t take me long to get into the game. After a few minutes, I’m completely immersed in the game, concentrating so much on it that I don’t see or hear anything else. I kept forgetting to check the time, which seems to fly by. I’m glad nobody interrupted my gaming so that I could become fully immersed.',\n",
              " 'From the first-person perspective, write an emotional narrative with maximum 200 words about: work <sep> I sit in an open office, immersed in my work. It’s a tranquil afternoon at my workplace – phones ringing every now and then, fingers tapping on keyboards, and the coffee maker gurgling. My boss walks into the corridor and stops to say “Hi” to me. I stop working, and we chat a little. My boss mentions a previous project, which I finalized. I’m proud of my work. Suddenly, my boss smiles and offers his hand: “We’ve been very happy with your work.” I shake his hand, slightly puzzled. My cheeks get red, and my heart is pounding. The boss continues: “The board has decided that now would be a good time for a raise – we can talk about that in my office later today.” I can’t hold back a wide smile. I tell him how much I like my job and how happy I am to be appreciated. My boss smiles, nods, and continues walking. I look around, and one of my colleagues gives me a thumbs-up, while another shouts out his congratulations. I grin happily in response, then return to work.',\n",
              " 'From the first-person perspective, write an emotional narrative with maximum 200 words about: friends <sep> I’m spending the night out with friends. I’ve been waiting for this all week: good food and drinks, and the fantastic company of my friends. The atmosphere is relaxed and joyful, and nobody has to hurry off anywhere. We’ve known each other for a long time, and we go over all the funny things that have happened over the years. We also start planning future adventures and throw around ideas, such as backpacking trips to Asia and sailing courses in South America. Throughout the night, the stories get better and wilder. I can feel how I can really relax in my friends’ company. One of my friends starts to tell a funny story, and we start joking about it. The story continues and gets wilder, and soon, the whole group bursts out laughing, seemingly forever. I laugh so hard that I have tears in my eyes. How lucky I am to have people like this around me!',\n",
              " 'From the first-person perspective, write an emotional narrative with maximum 200 words about: accident <sep> It’s a bright wintry day, and it’s been snowing heavily since the morning. The sidewalks are covered in snow because they haven’t been plowed yet. There is a narrow path in the middle of the sidewalk, but it’s slippery. The street is busy with people driving home from work. A woman walks toward me, and I step on the edge of the sidewalk to let her pass. I don’t notice that the curb is covered with snow, my foot slips, and I lose my balance. In a panic, I wave my arms in the air and try to regain my balance, but I fall. My vision is shaky, but I see cars, white snow and black asphalt. I fall into the street, and as a reflex, I put down my hands and feel sand and ice biting into the skin on my palms. Car brakes are screeching, and I hear a woman scream. In panic, I try to get up. My heart is pounding, and my palms hurt. I raise my eyes and see a truck in an uncontrollable side slide heading straight for me. I get up on my knees, but my other foot slips again.',\n",
              " 'From the first-person perspective, write an emotional narrative with maximum 200 words about: concert <sep> My favorite band is performing in Finland, and I’m at the concert with a good friend. We arrived at the club early to get good seats near the stage, and we’re only a few rows back. The audience is in a good mood, and excitement fills the air. Occasionally, people start clapping and shouting for the band to come on stage. However, the stage remains dark and empty. My friend and I exchange anticipatory gazes, then I join the others in cheering when the guitarist and drummer climb on the stage. Suddenly, the lights go on, and the whole audience starts to cheer. I clap my hands excitedly and struggle to peer over people’s heads to see the band better. Soon, the audience turns into a sea of dancing and jumping people. I love the songs, and I know them all by heart. My arms and legs are not tired from dancing or jumping, and I close my eyes and let the music take over my body.',\n",
              " 'From the first-person perspective, write an emotional narrative with maximum 200 words about: romance and sexual <sep> I wake up on a slow weekend morning and stretch out my limbs, which are slightly stiff after sleeping, and turn to look for you. Your eyes are still closed, but you give me a sleepy smile, so I know that you’re awake. Morning light sifts through the window blinds and lands on your skin, and I touch those parts where the light is touching. You open your eyes, and we smile at each other. You wrap your arms around me and pull me into your lap. This is a good place to be. We kiss softly and slowly. I can feel your naked body on mine when you stroke my back gently. You let your hands slide lower, and I’m getting aroused. Your touch is familiar and confident. I sigh with pleasure. My body responds to your movements first slowly, then faster.',\n",
              " 'From the first-person perspective, write an emotional narrative with maximum 200 words about: winning and sports <sep> It’s time for the tennis match’s defining round. I know my opponent well, and that he will not give up easily. My muscles are tired, but I’m not giving up. It’s my turn to serve, and I hit the ball toward my opponent. He returns it, and for some time, we hit the ball back and forth. My opponent makes a beautiful shot on my left side, then to the right, then again to the left. I barely manage to return the ball in time. I know that I’m being led by my opponent. I need to take control quickly, or otherwise, I’ll lose. Out of breath, I run to the other side of the field. This time, I was faster, and my return is not weak. With all my body weight behind this shot, I gather the remains of my strength and shoot a perfect backhand drive. The joy of a successful performance surges inside me as the racket hits the ball. I know instantly that it was a winning drive. The ball hits the opponent’s field, and he cannot make it in time. I raise my fist in victory as the referee declares me the winner.',\n",
              " 'From the first-person perspective, write an emotional narrative with maximum 200 words about: harrassment <sep> I’m standing near the entrance to the train station, waiting for my friend. A couple of drunks are sitting on the stairs, and I try to become invisible so that I won’t attract their attention. One of them shouts something, and I avoid looking at them. I hear grunting as one of them gets up and starts walking toward me. The pungent smell of urine and filth is distinct from afar. I move restlessly a few steps to the side, but the man is stumbling straight toward me. His face is scarred and sweaty, and his greasy hair is glued on his temples. I flinch when he grasps my sleeve. He’s explaining something in a rambling way, and spit spurts out from between his yellow teeth. The smell of old sweat and booze is so strong that I turn my face away. The man is jerking at my sleeve, and I feel uncomfortable. I try to hold my breath and not show how nauseous I feel.',\n",
              " 'From the first-person perspective, write an emotional narrative with maximum 200 words about: mother and love <sep> I see her again, comfortably seated in her armchair close to the window. Asleep, she seemed so serene to me. The radio was playing \"La Java Bleue,\" her favorite song. I watched her from afar, and barely dared to breathe, afraid of disturbing her. That day, she was wearing this little blue dress we gave her for her last birthday. I was getting close, baby steps, to give her a kiss on her cheek. She finally woke up, and smiled at me. I sat snugly on her lap, and embraced her with my little arms. Nestled against her, my head against her chest, I smelled her unique perfume and finally could rest myself. Then, I told her about my school day, my adventures with this little girl that was causing trouble for me. She listened very carefully, let me explain without judging me, always finding a way to reassure me, and find the right words to make me smile again. So much love and joy was shared that day ...',\n",
              " 'From the first-person perspective, write an emotional narrative with maximum 200 words about: volunteer and animals <sep> Today, as usual, I went to the animal shelter. However this time it was the decisive moment to become a volunteer. Initially my goal was to take information, so on my arrival I thought of only that. I was shown the premises, the various volunteers already present and their activities. I saw them wash the dogs and I accompanied them on their walk in the nearby park. On my return, I met with the leaders, secretaries and other members of the association and ended with the marketing director who gave me a speech on the importance of my mission and the need for me to invest in the animals and for their good. The manager insisted that it would take a lot of love and affection for the animals and it was then that I said to myself that later I would have my own animal shelter.',\n",
              " 'From the first-person perspective, write an emotional narrative with maximum 200 words about: travelling <sep> I am of Cambodian origin, I like mangas, the Korean series, Thai, Japanese and everything related to Asian culture. I am love traveling and not just for fun but to meet different cultures, different people from me. All my life I only wanted one thing and on my 25th birthday, I received an envelope with a plane ticket for a tourist trip to the cities of Asia. Imagine my surprise when the city of my origins appeared in front of my eyes on this small trip dedicated specifically to the cultural activities that were proposed to me. My head was turning in all directions, I felt myself going so far that I could fly up there in the sky among the great white birds. My life would finally change to become thrilling, full of adventures, fabulous, intoxicating stories. Internally, I saw life in pink, but my cheeks looked like red tomatoes.',\n",
              " 'From the first-person perspective, write an emotional narrative with maximum 200 words about: weather <sep> Who loves the sun? Me, all my life, but as we know in the North, in Picardy the sun is not often there. As usual, before going to bed I looked at the weather: sunny with intermittent clouds and 25 degrees Celsius. After seeing this good news I went to my wardrobe and took out shorts, a floral t-shirt and a pair of sandals. After hanging my vest on my coat door I went to bed. I could finally close my eyes in tranquility, and dream of the day that would await me. Unfortunately, when I woke in the morning I had the bad surprise that it was raining and that we could not distinguish or even expect any rays of sun for the whole day. Therefore, annoyed, I had to go back to my wardrobe, store my clothes I took out the day before, to get out the warmest ones to face this day; I went out carrying an umbrella.',\n",
              " 'From the first-person perspective, write an emotional narrative with maximum 200 words about: police and family and death <sep> On an ordinary day, I was in my kitchen preparing spaghetti Bolognese, when the police rang at my house. As I watched them come through my garden gate, the worst possible unimaginable things flashed into my head, and an inner narrative never ceased to repeat \"what do they want? but what could I have done?\" Suddenly they knocked at the door and while apprehensive of opening the door I trembled and wondered what they would to announce to me. My body was filled with chills, fear, and anxiety as, as best I could, opened the front door. The news they told me was such a shock that I lost my balance, and everything surrounding me went black. When I came round, the police officers repeated their speech in cold blood, and suddenly I burst into tears. I was henceforth alone facing life without my grandmother and the words \"all my condolences\" resounded like a dagger deeply embedded in my heart.',\n",
              " 'From the first-person perspective, write an emotional narrative with maximum 200 words about: harassment <sep> This time there was no doubt I was being followed. I knew this uncontrollable, unpredictable feeling of anguish and apprehension at the thought of having someone follow my steps. But I had this impression every time I went through this alley every night at 6 pm when I left school. Night fell early in spite of the arrival of spring, and darkness was not lacking in this dim and deserted alley. I hurried every night, always with the same invasive and stressful feeling of being followed. I felt it every day or at least when I was alone in an empty place like that. But that night, it had never been so intense. An icy silence reigned and I perceived the frail clap of my steps on the dark ground. I listened attentively to perceive a noise, a clap or a simple murmur that would confirm my hypothesis, but I heard nothing. I heard only the sound of the wind and my breathing.',\n",
              " \"From the first-person perspective, write an emotional narrative with maximum 200 words about: nature and driving <sep> I open one eye, and a bright blue sky invites me to rise quickly. I stand up: the lake is in front of me, more beautiful than ever, with ducklings walking behind their mother. A memorable night, spent under the stars, contemplating Orion and the Great Bear. With one bound, I get up to go and prepare lunch on the rusty camp stove. I prepare a coffee to refresh my ideas. Our camping trip is almost over. We have only to put away, in Jerome's old sky-blue Mustang, all our bags and camping equipment that my father let us borrow. We clean our grandfather's ground and I get in the car, passenger side, as always. After changing the radio several times, I hear Caliente. I stop my radio station quest, because I like this song. We begin to sing, I let myself be carried by the music that warms me and by the wind coming in through the window that refreshes me.\",\n",
              " \"From the first-person perspective, write an emotional narrative with maximum 200 words about: pet <sep> When I was a little girl, one day I was having a party with my mom and her friends. I went down to the cellar to get drinks and that's where I saw blood on the floor. I looked at where it had come from, and I saw it was a wounded weasel. I quickly took the drinks to my mom. Then I went to look for a doll's bed in my room to keep the weasel warm. I took in the first aid box to cure the animal. As soon as the weasel was cared for, I went to show it to my mother. My mom said to put it out because it was horrible and disgusting, and she was too busy talking to her friends. I was not happy. I went outside but I felt sorry for the weasel because it was raining and there was a storm. So I hid it in a cardboard box in my room. A month later my mom was cleaning my room while I was at school. She saw the weasel, she began to scream and I never saw the snout of that animal again. I was really sad because I had become attached to it.\",\n",
              " 'From the first-person perspective, write an emotional narrative with maximum 200 words about: family and death <sep> I see her there, very close to me. My memory shouts to me that she would have put her hand on my shoulder whispering to me: \"Be strong, as you always have been.\" This image she had of me, to always idealize me, I never understood. And today, putting her in the ground, I realize that this mystery will remain forever. To fix his tombstone ornamented with immaculate gold letters does not bring me any answer, my father will probably bring me no advantage. Yet he knows everything, everything about the trap in which my mother fell into, but refuses me any detail. But I saw him, death, freezing the face of this woman whom I loved and admired more than anything. I know that sooner or later I would find her killer, with or without the support of the police. I would shed light on all this history and avenge her memory. No matter what it costs me. I have but one goal in life ... this one.',\n",
              " 'From the first-person perspective, write an emotional narrative with maximum 200 words about: family and prison <sep> The air appears cooler once this door has passed, this concrete trodden, this alarm deactivated. My free wrists shout their victory, and that phantom feeling of being hindered day and night will eventually leave me, I know. Their thin faces cut out of steel strips, I see them, far behind these gates, free, anxious, but impatient. Will they hold me to it? To have \"abandoned\" them? They are far too young to understand the fight that brought me here: maybe someday they will. My heart skips a beat when they shout \"Mom.\" I then step up my pace as new locks bar the road, which the matron opens one by one. A step, and I will be free. One more, that of deliverance. When finally it is there, I cross it, the threshold of the prison from which I have just been released. My children are there, close by, and are already stretching out their arms full of affection; I am back, and all my love with me.',\n",
              " 'From the first-person perspective, write an emotional narrative with maximum 200 words about: doomsday <sep> It had been almost two weeks since I had last reached my parents on the phone. \"Mom, how is life at home, I could not reach you, on TV, they say that the lines are less and less stable and that the satellites have transmission problems.\" \"Your father has not left his bed, two neighbors are already ... whatever, how are you?\" my mother asked, worried. \"I\\'m OK, I\\'m hot, as many people are. Do you think that it\\'s true, this story on the solar wind? A few boats have tried to cross; I can try to come back!\" \"No, stay safe, do not worry, we ... ... love … you.\" We had been cut off, and as I turned my head to watch the last TV in town that still broadcast images, I saw my country burning. The solar wind had reached the Earth and half of the continents were about to disappear. It was the last time I heard them, saw them, or my country.',\n",
              " \"From the first-person perspective, write an emotional narrative with maximum 200 words about: waiting and airport <sep> I have been at the airport for a while: you're not here yet. I look around me, searching the space, hoping to see you at last. Time passes inexorably: why are you always late? How unbelievable it is to make the other person wait like this! What has happened? Why are you not here? Everything is running through my head, I cannot stop my heart pounding in my chest, my stomach turning. What if you are not coming? What am I going to do? I cannot think about it. Me, without you, over there, so far, alone on the plane amongst strangers. Where are you? I cannot leave, I can't take that plane, you know that, right? Do you know? Everything screams inside me: what are you doing? Why aren't you there? Everything is a jumble inside me. The steward calls the passengers to the boarding gate. Tears are rolling down my face, I am petrified, devastated by your absence. Come, I beg you, come!\",\n",
              " 'From the first-person perspective, write an emotional narrative with maximum 200 words about: birth and family <sep> It was 6 am when I heard the phone ringing. I had a strange feeling, probably linked with the news I was about to discover. I quickly woke up to dash downstairs, because this call puzzled me. The noise I was making woke up the whole household even if I was taking care not to disturb the others. I then entered the biggest room of the house, the living room, to pick up the phone. It was Aunt Alice calling to tell us a very happy piece of news. She told me that a second little cousin had been born and that Auntie Jess, her mommy, had called her Dalia. After hanging up, I rushed upstairs this time, to tell everybody the news.',\n",
              " 'From the first-person perspective, write an emotional narrative with maximum 200 words about: surprise and friends <sep> On leaving high school, all my best friends spread out to pursue studies in different places. We would meet at the weekend but one of them, Léa, had moved to the UK for 6 months. As soon as we learned when she was coming back, we decided to surprise her and catch her at the station. We made a banner decorated for the occasion. When her train arrived at the station, we unfolded it and we all hid behind it. When we spotted her coming down the platform, she was looking for her parents, but as soon as she saw us and read the banner, she started to cry and hugged us one by one. The group was complete at last, and we enjoyed those two weeks as much as we could before resuming our studies.',\n",
              " \"From the first-person perspective, write an emotional narrative with maximum 200 words about: running and competition <sep> 1960, I was 15, I used to go regularly to the athletics stadium. Each time it was a great pleasure. Sport gives me a sensation of well-being. But the most intense moment is the day of a competition. Early waking, bus journey. Purpose: be ready for the race – training, registration, numbers. I do the sprint. Start in 10 minutes. Time to place the starting block, adjust it, make a few starts, the heart starts to beat harder. The start is approaching, I take off my tracksuit, I jump on the track to get my muscles warm and ready. First, my body is shaking, concentration is at its peak, my heart is beating harder and harder. I am alone on the track, I forget the other lanes. Ready! My legs seem to weaken, I don't know if I will be able to move: Steady! My weight is pressed into my hands, I am no longer breathing. Go! All doubts are gone, I am running, I can only hear my breath.\",\n",
              " \"From the first-person perspective, write an emotional narrative with maximum 200 words about: horse and death <sep> Today, I went to the equestrian center to ride a horse. It was then that I noticed that my favorite horse was not in his box. Worried, I searched everywhere, without success. I finally found someone who told me that this horse was dead. He had been taken to the butcher because he was no longer fit for the club's requirements: he had become too difficult to handle for the riders. I thought my heart was going to explode, my sorrow was so strong. I fled, my steps were random, I did not know where I was going, but that did not matter to me. Even being knocked down by a car did not matter to me at that time. I was so sad: what would I do without him? When I felt bad, spending time with this horse was enough to ease all my tensions, but now he was gone. It was difficult to imagine and especially terribly unfair. He was still young: he still had good years to live.\",\n",
              " 'From the first-person perspective, write an emotional narrative with maximum 200 words about: pregnany and illness and death <sep> I met a man at a party: it was love at first sight. We decided to live together several months later and considered family life, so we decided to have a child. I got pregnant: it was the best day of my life. On the other hand, after 6 months of pregnancy, I learned that I had cancer. I did not have much time to live if I did not make a decision on my care. All my dreams of forming a family collapsed. I had no choice, but I had to make a very hard decision: treat my cancer and therefore be unable to keep the child in the face treatment that would have deadly repercussions on him, or not undergo chemotherapy and resist until the end in order to be able to bring my child into the world. I chose to say nothing to the one I love and to offer him the most beautiful gift that could exist in exchange for my own death.',\n",
              " 'From the first-person perspective, write an emotional narrative with maximum 200 words about: friendship <sep> I was sitting against a wall, alone. The others were playing, walking, running, but not paying attention to me. No one spoke. From time to time, someone gave me a slight smile; others looked at me with an air of pity. But most of them avoided looking me and ignored me. Another day, when I was still sitting against this wall, another boy came to sit next to me. He was well-dressed. He began to talk about everything and nothing. It had been a long time since anyone had come to speak to me: the only words that had been addressed to me for a long time were insults or mockery. During the discussion, the well-dressed boy explained that when he was a child, he was often alone, sitting against a wall. The adults were looking for other children to talk to him, as they thought that the other children were cruel to leave him alone. After 10 minutes, he left, leaving me changed and promising to return to this wall tomorrow.',\n",
              " 'From the first-person perspective, write an emotional narrative with maximum 200 words about: family and memories <sep> I was 4 or 5 years old. We lived in the countryside, a house with a big garden. In my memories, the living room was a huge, stark and cold room where we barely went, but it was December 25th! Exceptionally, the record player was out of the cupboard with the traditional LP of Christmas songs, close to the bay window. When my dad turned on the record player, we were only lacking snow to make it a real party. And while I was looking outside, glued to the window, slowly falling from the sky, huge, the first snowflakes of winter, under my amazed sight. This memory was too dear to me, too wonderful to dare to call into question. A few months ago, a few days before she died, I told this memory to my mother, having doubts about its truth. She told me then that an old uncle was at our place that day, and thanked her for giving him one of the most beautiful presents through the amazed, look of a little girl, her eyes starry.',\n",
              " 'From the first-person perspective, write an emotional narrative with maximum 200 words about: hiking and nature <sep> Autumn and pleasures. I enjoy a hike: Pleasures for the senses this morning, pleasure for the eyes this trip, while nothing is decided yet, and I walk in the sunny undergrowth. What surprises will there be on this beautiful day! What do I see there? What makes me think nature has awoken? What aroma do I sense? Could you imagine it? Under golden leaves chubby, well-wrapped and completely hidden, five pretty porcini mushrooms, kings of the forest, were hiding. I start to dream about my dinner: Oh beauty, oh the beautiful dish! Well-colored, probably well-packed, but the great feast of my hike, well exceeding my expectations of my morning. Not only did I look at my trophy, I admired their layout, I guessed their velvet feel, I already smelled my beautiful plate in my old fireplace: in short, my eyes were almost imprisoned by such a beauty born on a morning of such a lovely day.',\n",
              " \"From the first-person perspective, write an emotional narrative with maximum 200 words about: boyfriend and sensitivity <sep> I am a very sensitive person, who can go from laughter to tears in a few seconds. Moments spent with my boyfriend increase my emotions. With him, I can go from one extreme to another. In the same day I can have crazy laughs and a few hours after I'm crying. I cannot control my emotions, which means I burst into tears very easily and over nothing. My boyfriend is not very expressive and he does not go to comfort me. He prefers to avoid problems. But I am a person who needs someone to take care of me when I am feeling very sensitive. However, I'm not sensitive about everything. I have never cried or been touched by a sad movie, because I know that in general it is not reality. I am more touched by a human being, because I can imagine the pain that others feel.\",\n",
              " \"From the first-person perspective, write an emotional narrative with maximum 200 words about: siblings <sep> The happiness of becoming a big sister for the first time in your life is such a magical feeling ... At that time I was only 2 years old and I did not understand the feeling of happiness that I was going to experience when I took you in my arms on our mother's bed at the maternity hospital, this Wednesday, November 19th, 1998. You were very small and cute in your little bed. I even remember telling Dad that when I got home, I wanted to put you in my doll stroller, because you were too small to walk. I loved you so much and then, at the age of 6, our little brother was born. For my part I was for a second time overcome by happiness and for the first time you could feel this need to protect this little being ... The happiness of being a big sister. For nothing in the world would I allow you to disappear from my life. I love you so much Oceane and Leo. My pride.\",\n",
              " 'From the first-person perspective, write an emotional narrative with maximum 200 words about: independence and freedom <sep> My name is Elodie Durand, and I have always had an ambition since I was little to become independent and free. On January 1st, 2015, this day becomes reality: in two weeks I will go on an adventure with my two childhood friends, our goal being to open up the world, to discover other cultures. I want to rediscover the true happiness that presents itself in the moment, far from all the distressing banalities imposed on us by society. I want to go far away from this consumer society, its new technologies, far away from individualism and the total dissatisfaction of human beings. I was not made for this society, where we are condemned to act according to societal norms. I wish to control my life and act according to my desires: my destiny is in my hands, and if it is necessary to provoke destiny, I will provoke it to arrive at my ends.',\n",
              " 'From the first-person perspective, write an emotional narrative with maximum 200 words about: robbery and hostage <sep> He is facing me, I only see his black eyes and his gun on my forehead. An electric blast goes through my body, from my toes to the top of my skull. Drops of sweat are going down my back, my mouth is dry, my heart rate rises and I feel the fear paralyzing me. How could I have imagined this morning when I woke up that my day would take this turn? I could have started at the butcher, or the fishmonger, but no, here I am, in this grocery in the center of town, with this guy holding me harder and harder. It is 11:46 and my life is about to end. He screams, forces me to the countertop, my legs barely supporting me. My breath comes faster and faster and jerky, tears are rolling down my face, fright can be read on my face. Everything is blurred around me, and it is hard for me to hear his words. \"The cash or I shoot her dead!\" are the only words I perceive. When the gunfire sounds, the world around me freezes, and I collapse.',\n",
              " \"From the first-person perspective, write an emotional narrative with maximum 200 words about: bus and man and vomit <sep> I try to sit as far as possible from my bus neighbor: he smells terribly bad ... Not a simple, pungent smell, not an ordinary cheese smell; no, a throaty smell, mix of rotten fish and dried vomit ... Hm, precisely, I observe it and this supposition seems to me more and more plausible. His greenish complexion and his foul breath suggest that he is not at his best. I do not seem to be the only one disgusted by this terrible smell. On the other side, a little girl is holding her nose. The bus takes a turn. My neighbor takes a deep breath, but it's too late. Stirred by a contraction of his abdomen, he vomits with force. His head is thrown back. He puts his hand in front of his mouth, but that is not enough to stop this yellow liquid. The lumps of his food slip between his fingers to find themselves on my knees. It's my turn to be shaken by spasms and rush to the exit.\",\n",
              " \"From the first-person perspective, write an emotional narrative with maximum 200 words about: horses and birth <sep> I'm late, I have to leave in eleven minutes and I have not even showered. It's hard in the morning right now, I'm struggling to part with my quilt and get out of bed: fatigue accumulates. I want a serene day. I go to the bay window to take a look outside. The horses are calm, everyone is waking up slowly. Come on, quick, shower! I wash myself quickly, dry and start getting dressed. An arm stuck in the sleeve of my sweater, I advance to the door to let out the dogs. Mechanically, I look around before opening, and there ... It has happened! My mare, my equine half, is lying on the ground, the foal's legs already protruding. I remain paralyzed for a few seconds and I shake myself to get my spirits back. Call the vet, put on a coat ... And I run to join the future mother. The dogs will wait to go out. A few minutes of effort, support, and that's it, my wonder is there. The adventure begins ...\",\n",
              " \"From the first-person perspective, write an emotional narrative with maximum 200 words about: skiing and memories <sep> Today, for the first time, I return to a place where I used to spend all my winters. It's been eleven years since I last set foot in this pretty little ski resort. As I was used to doing at that time, with Nicolas, my favorite ski instructor, I used the same ski runs to recall the wonderful memories which mark my childhood. Of course, it was only about the green and blue tracks, because when I used to come, I was a novice skier. I am at a much higher level now, but all that matters to me is to hit the tracks of my childhood. Going down these tracks, I take the time to admire the landscape as I did with Nicolas, and I naturally start to sing the same tunes that we sang before. Passing the ski lift where I so often used to fall, I start laughing alone.\",\n",
              " \"From the first-person perspective, write an emotional narrative with maximum 200 words about: anxiety <sep> Is there a drug to appease me? A pretty powerful drug? Or a word to reassure me when I'm in a delirious phase? Could the comfort of a buddy or an attractive woman get me away or even heal me from a past that haunts me? I really tried everything to get away from a hectic life, gnawed, sleepless nights asking in a hesitant voice: Have I made the right choices? Cold and scary awareness. Sometimes I would fall asleep and wake up the next year. I enclosed the problems under a blanket of lead. When they rise to the surface, fear often paralyzes me. Then the anxiety strikes. So many times I have cherished my demons, for them to come back, to investigate without questioning me about the life I lead, if I take with me those crazy laughs, those memories of scenes. I neglected my family and even lost the girl I love.\",\n",
              " \"From the first-person perspective, write an emotional narrative with maximum 200 words about: love <sep> I want to talk about love. It gives me a sense of wellness. Is it only the fact of loving, or that person by my side? Love, friendship, presence, sharing, admiration is a whole that gives the impression that everything else is futile. We feel invincible, indestructible. It's an incredible feeling. I would like to be in that state for the rest of my life. Love is not always easy to live with. It can be sweet and bitter; it can rhyme with happiness as with unhappiness. I think the present moment has to be savored. Every day, I measure the chance that I have of being with this person: she makes me grow, accompanies me in happy moments as well as in difficult moments. Love is grateful, I am grateful for this happiness, this wellness and this continuous joy. We must learn to receive but also to give for the sole pleasure of benevolence.\",\n",
              " 'From the first-person perspective, write an emotional narrative with maximum 200 words about: city and walk <sep> On leaving college with my friends, I noticed that the buses were no longer running. This disruption was due to the arrival of the President of the Republic in our charming city. So I decided to go home with my friends, since we lived more than three miles away. We were in the middle of winter and yet there was a beautiful sun and the temperatures were unusually mild, which made the trip rather enjoyable. Moreover, as there were several of us, we chatted and laughed, so that the journey passed quickly. Once we arrived in the city center, it was time for us to separate, because we lived in very different places. I found myself alone, thinking that the rest of the journey would henceforth be more painful. But I was totally mistaken. I passed through little streets that I did not know, along the river. I felt like I was rediscovering my city. It was a nice walk.',\n",
              " \"From the first-person perspective, write an emotional narrative with maximum 200 words about: depression <sep> I was a very active young woman; I couldn't help but go out every weekend to go shopping, visit museums, and stroll downtown. Staying locked up at home was not for me: I hated it. When I was younger, when everyone was laughing at my first name and how overweight I was, I had become used to isolating myself from the outside world and stayed cloistered at home. But now I have revenge to take on life. I have become stronger and I am no longer afraid to leave my house. I even have a few friends whom I see from time to time. Yesterday, a Saturday with beautiful weather, I could not get out because of the homework I had to do. I expected to catch up today. Opening my eyes this morning, I was all excited: I had planned a boat ride. But my pleasure was short-lived. When I opened my shutters, I realized that there was a storm.\",\n",
              " 'From the first-person perspective, write an emotional narrative with maximum 200 words about: family and moving <sep> I remember. I remember six years ago, the journey that marked my life. We left, my parents and I, for a destination that was unknown to me, distant, which would separate me by ten thousand miles of my family and my friends: New Caledonia. We lived there for three years, and despite my reluctance, it was probably the most beautiful period of my life. I began my adolescence there, and learned what it really was to live. I remember being continually happy and filled with a thirst for adventure. It is undoubtedly this long but yet too short journey that forged the person that I am today. I constantly discovered new places, more like paradise than the others, and it never bored me. It is a country where everyone lives in a community, where the local population allows us to discover its culture and customs if we engage in conversation. Open-mindedness was perhaps the greatest lesson I learned.',\n",
              " \"From the first-person perspective, write an emotional narrative with maximum 200 words about: losing and sports <sep> In my bubble. I can't hear anything around me except the voice of the referee and the coach. I'm feeling short of breath, exhausted, but I keep getting up, fighting to reach my goal. I hear my coach on the chair pushing me, giving me the solutions. I look at him desperately, I am led: he says nothing but I understand his look. I try to catch my breath, and at that moment I give all I have left. I hear him behind me, I hear the encouragement I had lacked up to that point. I hear the clock, the seconds passing by. I put everything into this last action, all my strength. And I hear that famous beep. End of time. I lie on the floor, my hands on my head, dejected. I realize that I have just missed the dream of my life. A podium that escapes me, a dream wiped out in four minutes. My coach knows my disappointment: I allow myself to let out tears of rage and hatred toward myself.\",\n",
              " \"From the first-person perspective, write an emotional narrative with maximum 200 words about: ghost <sep> I had a day off and I decided to go out and take a walk in the woods. I didn't know the area, and I found an old building that seemed abandoned. As I entered the house, I felt like somebody was watching me. As I walked into a room I felt a chill, a distant silhouette was emerging through the only window, and I heard a humming sound that was gradually getting louder. As my stomach squeezed, a gust of wind snapped the door of a wardrobe. Next to it was a mirror, and with horror I saw that someone was standing behind me. Completely paralyzed, I watched him go through me, then disappear. When I was going home, I noticed that nobody answered my hellos or looked at me. As I went to bed, passing in front of my mirror, I had an intense sensation of uneasiness: the only reflection I saw was that of this someone that had just taken me from my existence, my own life.\",\n",
              " 'From the first-person perspective, write an emotional narrative with maximum 200 words about: family <sep> All my life, I heard my parents tell me that lying was wrong. Having always been curious, one day I went to my parents\\' room, I was then 10 or 12 years old, I liked to wear my mother\\'s clothes, especially her dresses, which with my small size gave me the impression of wearing a long dress, I loved it. But on that day, I came across a suitcase in which there were letters addressed to me: they were signed \"your daddy J-C who loves you.\" I didn\\'t understand: my daddy was called B. I took them away and hid them in my room. I read them all, one by one, all the letters that Mr. J-C had written for my Christmas, my birthdays. I remember crying but I didn\\'t know exactly why. I am 24 years old, the letters have been in the same suitcase all this time, my mother and B. don\\'t know that I know, and I dream of this Mr. J-C. I want to know who I am.',\n",
              " 'From the first-person perspective, write an emotional narrative with maximum 200 words about: nature <sep> My skin relaxed and warmed, like when we stretch naked in the sun, in the middle of summer, after swimming. I surrendered myself to this delightful sensation. I bowed my head, took a deep breath and closed my eyes. I felt wonderfully well, as if I were drifting in a pure and fresh wave, except that I was immersed in the light. Soon a strange exaltation overwhelmed me, my mind suddenly united with all that was around me in an intangible and timeless bond. I was at one with the trees, grass, insects and animals, without forgetting the air and the water ... I was no longer an isolated being, but a harmonious part of a whole. The connection that existed between beings and things appeared to me in a new light, my own person seeming to me both insignificant and omnipotent. Seeing the world through the eyes of all the creatures around me was disconcerting, but wonderful.',\n",
              " \"From the first-person perspective, write an emotional narrative with maximum 200 words about: death and moving <sep> A new life began for me and my mother. This change of life was due to the sudden death of my father in a car accident on his way home from work. After his death, my mother could no longer remain in this town, this house, this kitchen, where everything reminded her of her husband, all her memories stifled her. We decided to move away from this place full of painful memories, and to settle in the South of France, thinking that the sun, the heat and the cicadas would help us to start a new life without pain. For my mother, the change of scenery was pleasant and helped her to forget. But this change didn't have the same effect on me, who didn't want to move. I wanted to stay near my father, in his house, as it helped me to think of the good memories I had with him. But I made the choice to say nothing to my mother, because for her, to remain in this house was too painful.\",\n",
              " 'From the first-person perspective, write an emotional narrative with maximum 200 words about: winning and sports <sep> My best memory happened shortly before my birthday. I was playing handball at a high level. I was 14 years old. That day, it was the qualifying match for the French Championship. My coach came to me proposing that I played this match, this qualification. He trusted me, letting me play in my favorite position. He told me that he was not going to let me play the whole game, since I was too young compared to my opponents. In fact, I played three-quarters of the game. In the stands my father looked at me with eyes and a smile I had never seen before. I knew he was proud of me. My coach and supporters were screaming for me to score a goal because of my age, my height and my build-up against my opponents. These screams gave me a strength that allowed me to score, and to get my team into the French Championship. This day will remain the most beautiful of my life.',\n",
              " \"From the first-person perspective, write an emotional narrative with maximum 200 words about: accident and operation <sep> A few months ago I had a fall from a horse. The firemen rescued me, and told me I should not move. So I understood that something abnormal had happened. On arrival at the hospital, after examinations, questions from doctors, waiting ... the verdict came: a fractured vertebra. As I realized what was happening, the anguish began to rise. I was told of an operation or a corset. I had to make the choice quickly. Following the advice of the surgeon, I accepted the operation. Worried, I was then taken to the operating theater, where a very strange universe appeared before my eyes. I fall asleep, entrusting my body to this doctor. When I woke up, I didn't know if the operation had gone well or not, but I didn't feel any pain. A few hours later, the surgeon reassured me and told me that everything went well. Determined, I re-learned to move and walk, despite the difficulties that this represented.\",\n",
              " 'From the first-person perspective, write an emotional narrative with maximum 200 words about: family and death <sep> My name is Caroline. I have a sister to whom I am very close called Florentine. Despite our age difference, we are extremely close. We share a common passion for horses. So we spend most of our time together. Today, as every day, I went to school, but in the late morning I got a call from a number that I didn\\'t know. I picked up and a voice said: \"Mademoiselle, are you Florentine\\'s sister, we have terrible news to tell you and it is very difficult.\" I felt my stress levels rise and said, \"What\\'s going on?\" The answer was like a stab in the heart: \"Your sister just had a car accident and she succumbed to her injuries.\" In my head everything was clouded. I didn\\'t know what to say, I collapsed to the ground and burst into tears. Nothing worse could happen to me. I am capable of only one thing, emptying my body of all its tears. I just lost half of myself.',\n",
              " \"From the first-person perspective, write an emotional narrative with maximum 200 words about: new year and family <sep> One year … for the whole year, every day I was waiting for that moment. A whole year passed, watching all over again the beautiful pictures that my mother had taken! I had imagined that moment dozens of times. But now this was it, I finally had the chance to enjoy the evening and go to bed later than usual. That was great! I didn't know the reason, but that didn't matter. My heart seemed to beat more quickly when it became dark. Is it going to be much longer? The darker it got, the longer the minutes seemed. How miserable! Mom and Dad were there, as well as my grandparents, sitting next to me, but they didn't seem that eager, chatting peacefully. For them, the waiting wasn't hard. How unfair ... Suddenly, I heard the first firework being shot into the sky! How thrilling: this was the beginning! My eyes looked up to the sky. How wonderful these fireworks were!\",\n",
              " \"From the first-person perspective, write an emotional narrative with maximum 200 words about: uncertainty <sep> I don't say anything. I listen, or pretend at least, because I don't want to listen anymore. But I also pretend not to listen. I don't know if I want to change or stay myself. I don't know if I want to make my family happy or unhappy, so I put everything aside, I store my thoughts and leave them behind. I would like to stop thinking about these small problems that may be unnecessary or will change nothing in the end. But they are there, and I have to listen again when I'm surely in denial. I want to get out of the room, say what I think, shout, or show them that I'm tired and hurt. Tell them I'm unconventional and I don't mind. But basically I remember that I've already told them, that this scene has already happened, and that nothing seems to change, only there is more and more trouble and guilt. They want to forget it. This is repeated all the time.\",\n",
              " 'From the first-person perspective, write an emotional narrative with maximum 200 words about: overcoming anxiety <sep> This morning I got up with a ball in my stomach. Apprehension? In fact this morning as every day I got up and I confronted my fear. The fear of facing the world and trying to overcome my terrible shyness. Yet every morning I get up again and again. Because this world that we sometimes find painful simultaneously offers the opportunity to discover ever more beautiful things, as simple as they can be. So it is from the slightest smile, the slightest look, the slightest exchange with a stranger, a friend, family that I draw my strength to advance day after day. That is why tomorrow I shall rise with the same ball in my stomach and I will continue to offer you my sincere affection so that it buds in you the same happiness that invades me sometimes and grows when I am with you, my family, my friends and even you whom I do not yet know.',\n",
              " 'From the first-person perspective, write an emotional narrative with maximum 200 words about: circus <sep> I have been doing circus for three years in a small circus company. With my group I even went on a tour in Italy, we performed at campsites to vacationers who very satisfied with our show. After each show, people came to congratulate us and encourage us to continue. They said that our show and our energy on stage gave them a smile. At each show, my strength to do such physical things increases while keeping my smile. I am indeed very happy to know that it makes the audience happy. I like to know that thanks to us even for half an hour, the people who watch us are totally happy and share this intimate moment with me. This is for me the magic of the circus.',\n",
              " \"From the first-person perspective, write an emotional narrative with maximum 200 words about: family and abuse <sep> It was a Saturday morning, when I learned that my little cousin had been sexually touched by a family friend that everyone knew very well. When I learned it, it was a mixture of sadness for my cousin, because it is my family and family is what is most important in the world, disgust because it is unimaginable to think someone can do something like that, even less to a child of seven. There was also this feeling of hatred, because people like that are garbage. The most frustrating thing in this story is the fact that my little cousin never sleeps alone, has difficulties in school, skin problems, has eczema from head to foot that she cannot get rid of. This trauma will remain engraved in her memory and we her family are there to watch his misfortune and can do nothing, only to see him escape with just a three-month suspended sentence. It's horrible: he's ruined a life.\",\n",
              " \"From the first-person perspective, write an emotional narrative with maximum 200 words about: harrassment <sep> The story I'm going to tell you is something that really happened to me when I was 17 years old. While I was alone sitting on a bench, headphones in my ears, an old lady whose appearance was unpleasant approached me. In a few moments she took my phone and ran away. In a surge of panic, I went after her and shouted help to the people on the street. She stopped running and when I reached her, I did do anything, not being a person of strong character, but rather shy. Nobody helped me. I was terrified by this woman: she had made me totally weak and helpless. I was in a town that I did not know before to take a test. This person made me go right, left, I followed her, crying, not knowing what to do, until two men intervened and forced her to return my phone.\",\n",
              " 'From the first-person perspective, write an emotional narrative with maximum 200 words about: volunteer and Africa <sep> It was during my time as a volunteer in a street children\\'s project in Ghana. We were a handful of guardians who had many children to care for and all of them were very sweet in their own way. But one child was especially dear to my heart, a little girl of eight years old who always shouted enthusiastic rejoicings and almost crushed me with joy when she saw me entering the place in the morning. So I immediately noticed when one day she didn\\'t come to the project anymore, and I decided to check on her. She lives in a small container with her grandmother, who had forbidden her to continue visiting the project, but after some back and forth I convinced her to send the girl back to us. The next day, when I entered the square, she was already standing there and looked at me embarrassed. I took her into my arms and she started to cry, never wanting to let go of me again and after a while she brought out a whimpering \"thank you.\" I will never forget this simple \"thank you\" and the relentless radiance in her eyes when she saw me.',\n",
              " \"From the first-person perspective, write an emotional narrative with maximum 200 words about: dancing and theatre <sep> The theater became silent. I could feel my frantic heartbeat as I stood next to the stage; still hidden from all the people, but soon to be in front of them in the glowing light. Like a rising sun, the stage lit up bit by bit. The music would start playing shortly and then ... I'd dance. Dance – and everything around me would stop existing, except for the melody and me in it. The music began with a dark tone, rose and made me vibrate. I felt charged up. My thoughts raved, my heart fluttered – then the beat began. And suddenly everything was completely quiet. As if in a trance, I moved from the shadows into the light of the stage. I turned in the flow of the music. It was supernatural. It ruled my soul, blurred everything else. My body moved by itself, completely absorbed by the sounds and the forces that swayed with them ... Then the music fell silent, me with it in the last movements. The light died. And with the darkness the clapping of the hall invaded me.\",\n",
              " 'From the first-person perspective, write an emotional narrative with maximum 200 words about: rape and sexual <sep> Uncle Paul had tied me to the bed, naked, by my hands and feet. I could hardly move and tried to free myself by kicking. Paul took off his clothes and then sat astride my stomach. I was terrified and started gasping under his weight. My eyes became damp, and desperate tears flowed over my face. Paul laughed maliciously and started to knead my breasts with his rough hands. He grunted disgustingly and grabbed even harder the louder I moaned in pain. I broke out in a sweat. \"No! No!\" I couldn\\'t stop crying and whimpering. Paul kept moving down my body, putting his head between my legs and biting my labia. I cried out loud in pain, heard Paul moan with lust. I thrashed about and hoped to shake Paul off, but the next moment he lay on me heavily and pushed his fleshy penis firmly into me. I heard from a distance how a desperate, painful cry came out of my throat. Then everything went black.',\n",
              " 'From the first-person perspective, write an emotional narrative with maximum 200 words about: husband and wedding <sep> Seeing Anette in this beautiful white dress makes my heart beat faster. I notice that my eyes are getting wet, blink the tears away and grin at the woman who is walking toward me to tie the knot with me. When Anette finally stands in front of me and takes my hand, a thousand lights shoot through my body and wake up the butterflies in my belly. They flutter and make my face shine even more. I am excited and have damp palms, but I don\\'t care, because I will become the happiest man on Earth shortly. I only have eyes for Anette, who smiles at me and I only catch what the priest says in the background. Finally, we exchange our yesses and the rings. As soon as Anette breathes a \"Yes, I do\" to me, I can\\'t stop my tears, I cry and laugh and cry and laugh. Passionately I take Anette into my arms, bend over her and give her a long kiss in which I put all my feelings and anticipation for our future together.',\n",
              " 'From the first-person perspective, write an emotional narrative with maximum 200 words about: family and christmas <sep> My single, 93-year-old great aunt had a request on my last visit: she hadn\\'t been in the city center for 5 years. She wanted to see the big Christmas tree just once more. When I stopped our taxi directly at Marienplatz, the driver and I helped her get out. With her wrinkled hands, she clenched herself tightly under my arm. I pushed her as carefully as possible through the crowd, which my great aunt obviously hadn\\'t expected and was afraid of. And then we stood in front of the tree and stared at it. \"I kind of remember the tree bigger.\" I looked around in amazement at this comment and found a tear in her proud eyes. \"Let\\'s go. That\\'s enough for me now, I think.\" Soon after, I put her back in the taxi. She held me for a moment, looked at me, with her eyes still wet and just said \"Thank you.\" When I waved to the taxi through the crowd shortly afterward, waving to say goodbye, tears ran down my face. She\\'d be alone again for Christmas.',\n",
              " 'From the first-person perspective, write an emotional narrative with maximum 200 words about: abortion <sep> It\\'s almost time. Soon. Chloe Hulligmann. How will I look? Will I make my parents proud? I want to be a doctor, travel to Africa, fight for human rights. When will the time finally come? Soon. \"Family Hulligmann, the functioning of the uterus and umbilical cord is rescinded, oxygen and food are no longer reaching Chloe. Have you really thought about it thoroughly?\" My mom: \"Yes, we have thought about it for a very long time. It has to be.\" What? Is this about me? Stop! No! Mom, what are you doing? Dad, why are you for this? I\\'ll make you proud, believe me! A tear rolls down my face. I\\'d love to tell them so much. I move to give them a sign. Dad, the value of every life is infinite. Mama, think of my still-to-be-lived life with all my developments and experiences. The doctor sits next to us and ... I had so many dreams, so many unfulfilled ideas. Mommy, Daddy, I wanted to make you so proud. I hope you can forgive yourself sometime, Mama. I love you both! Your Chloe.',\n",
              " \"From the first-person perspective, write an emotional narrative with maximum 200 words about: travelling and death <sep> Remember back at the farm? How we kids used to feed the cows in rubber boots at 6 in the morning? What fun it was. We used to ride out and swim in the fish pond. Remember back in Provence? We had a wonderful yellow villa, a huge garden with a boules alley and a swimming pool with its own diving board. What a pleasure it was. You often sat under a huge tree and read your book. Remember back in Tuscany? We had an avenue as a driveway and a garden which was so dreamlike that we called it a park. At lunchtime, we always had a breath-taking view over all of Montepulciano. It was wonderful then. I put some roses on your grave: they were your favorite flowers. Since you left, we haven't been on holiday, because it'll never be the same again. You're missed, and you've ripped open a deep hole. I hope you're OK where you are now. And maybe we'll travel again sometime, like we did back then.\",\n",
              " \"From the first-person perspective, write an emotional narrative with maximum 200 words about: party and death <sep> I met you at this party. We got along incredibly well right away. In the end, I wanted to give you my number, but I had drunk so much that I couldn't hit the keys of your mobile phone properly. The next day you sent me a friend request on Facebook. I didn't recognize you, and I couldn't remember your name. So, I waited for a while, nothing was going to run away. A couple of days later, I came back to your profile. I Googled your name and found out that it was you. Excited and with butterflies in my belly I wrote to you and apologized for the unintentionally wrong number. A few hours later, I read the news: Student died at frat party. I started to research. I found out the dead guy belonged to your fraternity, that he was your exact age. I'm freezing cold. As if paralyzed, I read that the student bore your name. And again, I trembled so much that I couldn't even hit the keys of my mobile phone.\",\n",
              " 'From the first-person perspective, write an emotional narrative with maximum 200 words about: birth <sep> December 24th, 1985. Yesterday I climbed the cathedral with you (up to the top). You were overdue. They threatened to induce me after the holidays. I wanted to face that on this beautifully sunny day. There were numerous descending tourists: one of them also seemed to be pregnant. We touched each other, belly to belly. Stuck. No escape. No progress. She coming down from the top, me going up from the bottom, with you in me. We looked at each other, laughed at once, detached the bellies skillfully from each other in spite of the abundance and waved us further up or down, under the amused giggle of the following people. At the top, Thomas, you and I enjoyed the grandiose view of the free imperial city with its surroundings. We could even see the Alps. That same evening in the cinema, we felt the signs for the first time. Barely were we at home when there was another one and still another one and another – Thomas raced with us, stormed into the hospital elevator with us: NOW! The alarmed midwife pushed us into the delivery room, where – wham, bam, thank you, mam – you were born on Christmas Eve in the early morning, already strongly manifesting.',\n",
              " \"From the first-person perspective, write an emotional narrative with maximum 200 words about: depression and therapy <sep> After some consideration, I decided to start psychotherapy. I wanted to tackle my sadness, my self-hate and my problems maintaining a regular everyday life. I always had the feeling of being a bad person and I was very afraid to get this confirmed in therapy. But now I had found a therapist with whom I had built up some trust and we had sent a claim for reimbursement to the health insurance company. I got a message from my mother saying that I have to change my address for the health insurance company. She had received the confirmation for the therapy and opened it. I felt so betrayed, so exposed. I had the feeling that all my efforts were getting trampled. I could almost see my trust in the therapist bursting like a bubble of soap. I was so angry at myself, the health insurance company and my mother. My mother was very sorry, but I just felt lost and depressed and my mother's being sorry weighed down on me even more.\",\n",
              " \"From the first-person perspective, write an emotional narrative with maximum 200 words about: flowers and illness <sep> I was sick, lying in bed with the flu, feeling weak, tired, and coughing my lungs out of my body. My friends were on vacation: I hadn't seen anyone in days. Then the doorbell rang. I was so tired and in my pajamas. I didn't want to get up, especially as the doorbell often rings when packages have to be delivered for my neighbors ... But the bell rang again, longer. So, I got up after all, but I was a bit annoyed, I mean, I was sick – leave me alone! There was someone standing at the door with a large bouquet of flowers. I opened the door and tried to let her in, but she wanted to give me the flowers! I just said it couldn't be. But there was no confusion, there was even a card! Inside, I unpacked the flowers and they were the most beautiful flowers I could have imagined, red roses, wonderful roses. And a sweet card with a little insider joke that made me laugh. I was still sick, still coughing, but someone was thinking of me.\",\n",
              " \"From the first-person perspective, write an emotional narrative with maximum 200 words about: rejection and adoption <sep> School's over. I'll never see my friends there again. They're watching me go. I step through the gate and close my jacket, because the wind is blowing past me and I start to freeze. I'm thinking about persuading the woman from Child Protective Services to let me stay. But my surrogate mother doesn't like me. Nobody at home likes me. I just was a little happy at school. My real parents gave me away as a little baby. I feel all alone in the world. I'd like to run away, look for a new family and never feel as an outcast again. At that point, a man ran past me and knocked me over. Ouch: I fell on the cold asphalt. I sat up and fought back tears. Desperately I opened my backpack and looked for my teddy bear. Oh, no, I forgot about him. My Stupsi was still at home on my bed.\",\n",
              " 'From the first-person perspective, write an emotional narrative with maximum 200 words about: abuse and sexual and destruction and nature <sep> I watch how trees crash down with the noise of a roaring motor saw. Birds flee from their nests. Nature is forced to retreat by the construction work. Where one tree falls after another, a golden hotel for the rich is to be built. Nature must give way. Especially because the building contractor wants to take possession of it. Just as he forces me to love him and obey him. He takes care of his beer belly and smokes one cigarette after another. He also carries a bald head and irksome squeaky boots. He likes to stub out his cigarette on the trees that are to be cut down because of him. For him, nature is a condition that needs to be eliminated. Evening after evening, he goes to the same little bar, just to grope the waitress there without restraint. She only allows this because she fears for her job. The man has her, just like myself, in his hand. Even if this hand is a very dirty one.',\n",
              " 'From the first-person perspective, write an emotional narrative with maximum 200 words about: family and christmas <sep> I sigh deeply. My breath rises into the sky in white clouds. They mix with the steam of the hot sausages on the plate. As is customary at Christmas, there\\'s no one on the streets. I sigh again, deeper, louder, like there\\'s a chance someone could hear it and pity me. Breathing heavily, I stomp through the village until I stop in front of my father\\'s big barn. I smile as I think about the times when Markus and I spent all our time here. Again, I sigh, this time carefully and hardly audible. I put the plate down and push the barn door open with a powerful jerk. \"Get out of here!\" Markus calls out to me. I ignore him. Without saying a word, I move the beer bottles aside and place the plate and a small packet on the box which serves as a bedside table. \"Come home,\" I whisper. \"Please!\" But my brother doesn\\'t move. As every year at Christmas, I leave the barn alone and head back to my apartment to spend Christmas Eve without Markus.',\n",
              " \"From the first-person perspective, write an emotional narrative with maximum 200 words about: escape and earthquake <sep> It starts quickly and too strongly. The vibrating changes into jerking immediately. I sit on my bed, looking up from my diary, at the ceiling that floats back and forth. The plaster crumbles to the ground. I understand what's happening, but I can't move. Where's Pablo? He wanted to write an email to his family. The wall of the house breaks down and I see the people running into the street. Run! Down the stairs. Through the door – it's blocked. The other one! Out. Someone takes charge. Everybody with a car here, everybody without one there! He's not there. I run through the crowd. Pablo? Where there were houses, there's nothing left but rubble. I get pushed into one of the cars. My gaze is toward the outside. The quake doesn't stop. And Pablo is nowhere. From a distance, you can hear a helicopter. The car stops. A little later, we get in the helicopter and take off. My eyes are stuck to the ever-smaller people still on the streets in the shattered city. Then I see him, looking after the chopper.\",\n",
              " 'From the first-person perspective, write an emotional narrative with maximum 200 words about: uncertainty and illness <sep> In exactly thirteen minutes, I would know the answer. Know if my life would change fundamentally. I asked myself idly while my gaze followed the second hand constantly on its way, which was better in the end. Ignorance, which meant a constant fluctuation between worry and hope, or certainty – with its irreversible consequence. But now I was sitting here at the end of a long, white-painted corridor waiting. Then I heard faint steps come toward me. A pale little boy, probably six years old, with a baseball cap on his head and a teddy bear in his arm, sat down on the empty seat next to me. \"Do you also have to see the doctor?\" He pointed to the door across from us. \"Yes,\" I replied. \"If all is well with my blood, I can go home again next week! Do you also have leukemia?\" he asked. \"I don\\'t know yet,\" I said quietly when the door opened and I was called in. I was already in the doctor\\'s office when the little boy came in and pressed the teddy bear into my hand: \"You take it, and everything will be all right!\"',\n",
              " \"From the first-person perspective, write an emotional narrative with maximum 200 words about: family and death <sep> With pink tulips in my hand I walked along the gravel road. It was morning, the sun was shining in my face, and a hint of spring was in the air. As I walked to the usual place, I thought you'd probably like the flowers. Of course, I first told you how everybody was doing, that the exam went quite well last week and that only yesterday someone asked about you. That everything was fine with the house and Grandma was able to cope more or less with the situation. And that you're missed. Always. Since that day in August, the morning you didn't experience with us anymore. Again, I am overcome with the fear of forgetting. Forgetting what you were like, what your voice sounded like, and what you would have said if you were standing in front of me now. That's why I come every week to talk to you, in the wishful thinking that howsoever, you'll catch it and I'll stay in touch with you. So that you may remain a tangible part of my life. But the fear remains of completely losing you by forgetting.\",\n",
              " 'From the first-person perspective, write an emotional narrative with maximum 200 words about: birth and baby and illness <sep> I open the car window a crack. My wife inhales sharply at regular intervals. I\\'d like to relieve her of the pain. Even the mental pain. \"We\\'re so young, can we even bear this responsibility?\" she whispers. My throat closes. I put my hand on her lap. \"Yes, we can. We\\'re going to make it.\" I know that doesn\\'t reassure her. I had imagined the trip to the hospital so differently. Happier, full of anticipation, with slight discomfort: after all, it is a birth. But so much discomfort? So much uncertainty? So much fear of the future? Down\\'s syndrome. Why? I cast a quick glance to the sky. It\\'s covered in stars. I breathe in the cool air and turn into the car park entrance. Nine hours later. On the horizon, the sun rises and colors it in a rich orange. There it is, the first scream. My heart beats faster, my emotions go crazy – there she is. Linda – the beautiful one. All the worries are gone, there\\'s just the three of us.',\n",
              " 'From the first-person perspective, write an emotional narrative with maximum 200 words about: funeral and neighbor <sep> The priest thanked me for coming to the funeral. \"No children, the distant relatives didn\\'t even know him,\" he explained to me. The community had paid for the funeral. No one had come. I hardly knew him, either. The man had been my neighbor for the last five years. He also seemed to have had little contact with the other house inhabitants, only in passing they greeted him without obligation. Occasionally he had played a Beatles record loudly, otherwise he was never noticed. I had noticed that no music had been heard for a long time. I only knew his name from the bell sign: I saw it written out today for the first time. Somehow, I was afraid we might have the same first name. I promised the priest that I would visit the grave occasionally. A few months later, I come back from work in the evening. I\\'m annoyed that the neighbor\\'s girl is still taking piano lessons. I demonstratively turn on the radio. All of a sudden, I\\'m ashamed. I\\'d already forgotten him. I am crying. Eleanor Rigby is playing on the radio.',\n",
              " \"From the first-person perspective, write an emotional narrative with maximum 200 words about: death and pet and family <sep> Two years ago, my cat Harry got very sick. When my parents came home from the vet, they told me that he had severe lung cancer and that it had already metastasized. I was incredibly sad and cried a lot. Sometime before Harry, my grandfather had a bad cough over and over again and was treated with antibiotics several times. I had this in the back of my mind when I heard about my cat. Not four days after my cat was found to have the disease, he had to be put to sleep. Shortly after the death of the cat, my grandfather's diagnosis reached me: Aggressive lung cancer. I was in a Voluntary Social Year at the time and had to go to a one-week seminar shortly after my cat died and my grandfather fell ill with lung cancer. I always lived in the fear that the very next moment I would get the news that my grandfather had died. Less than six months later, my grandpa died. I could hardly bear the fact that my cat had died like a forerunner, of the same illness as my grandfather a short time later.\",\n",
              " \"From the first-person perspective, write an emotional narrative with maximum 200 words about: wedding and accident and death <sep> Today is the most beautiful day of my life, they said. I wake up and look at the clock: It's just past six o' clock. If I want to be on time for my hairdressing appointment at 6:30, I should get up now. But I don't have the drive, I don't have the desire. I'm so tired, so listless. As if my body is there, but my mind is somewhere else. I'm used to getting up early; it doesn't matter that today is Saturday. Out of habit, I get up like I always do. I get up and go to the bathroom, where I look in the mirror. In my eyes, I see an emptiness. I see what was triggered in me last night. It was the day before our wedding. We wanted to go to the lake once again, together, where the engagement was. It was the day I lost him because he was speeding in the car ahead of me. Because he lost control in the car ahead of me. And because he drove into the tree in the car ahead of me. Desperately I hit the mirror with my naked fist and drive to the lake. Because today is the most beautiful day of my life, they said.\",\n",
              " 'From the first-person perspective, write an emotional narrative with maximum 200 words about: family and crime and rape <sep> My conscience won\\'t let me sleep. I\\'m lying on the bed with my eyes wide open and my gaze dead. It\\'s been three days now. It\\'s the third night that I haven\\'t slept a wink. When I get out of bed, I almost collapse. \"How can a man become so weak in such a short amount of time?\" I ask myself. I carefully put one foot in front of the other and walk to the mirror. A cold shiver overcomes me as I see my own reflection. A broken man is standing before me. My face is pale. My eyes are red. My body is frail. It is not the first time I have thought of putting an end to my suffering. But I can\\'t. My granddaughter needs me. She has no one but me. The thoughts of my granddaughter make all the anger come back. \"That fucking bastard!\" I scream inside. \"He always stared at her. A girl of nine years old.\" In the neighborhood, there was a lot of talk about him. It was all true what was said about him. Now I knew that with certainty. \"He shouldn\\'t have touched her. I had to do it.\"',\n",
              " \"From the first-person perspective, write an emotional narrative with maximum 200 words about: death and illness and family <sep> I looked at the shiny linoleum floor. I had already walked over it countless times, run over it in panic or stood on it trembling. But I never noticed it. It had been my constant, unnoticed companion for the last two months in hospital, and my daughter's as well. It was also the only one that had witnessed her fight with leukemia in its entirety. Often the only one who was there when she awoke from twilight sleep crying because the cancer made her bleed from a new orifice. I fixated it with a stare as if it could take away the nagging doubts that struck me on this unspeakable day. It could never forgive this lack of grief, I thought. There was little left to do in the next few days. The grave would have been reserved long ago, the priest's call would have been a mere formality. What would I do with this impending void, now that I don't have to stare at the life indicators at the sickbed day after day? I stepped through the squeaky front door onto the asphalt and thought of death.\",\n",
              " 'From the first-person perspective, write an emotional narrative with maximum 200 words about: stress and family and food <sep> I\\'ve had a very stressful day. I had to rush from one appointment to the next, I didn\\'t have a quiet minute and even had to skip lunch. When I finally got out of my car at home, my stomach grumbled. With the thought of having to cook and wait even longer, my mood dropped to its lowest point of the day. But when I unlocked my apartment door, a delicious scent came to me. \"Hello, darling!\" My mother came up to me and kissed me on the cheek. \"I was just in the neighborhood and thought I\\'d surprise you with your favorite dish. Come wash your hands and sit at the table.\" The fact that I was able to satisfy my hunger faster than expected and that I was able to tell my mother all about my strenuous day made me so happy that I hugged her furiously to hide my stupid tears of joy.',\n",
              " \"From the first-person perspective, write an emotional narrative with maximum 200 words about: dog and attack <sep> One summer evening I was jogging along my favorite track in the forest. I don't know where the dog came from, I just felt a sudden jolt and severe pain in my right leg. Yanked so suddenly out of the running movement, I fell forward and heard a terrible cracking noise. That was probably the breaking of my left arm, which I fell on with all my weight. The fall didn't bother the dog. He continued to grip my leg and kept shaking it vigorously. I was lying on my stomach and couldn't see the dog, I just heard his threateningly deep growl. I was paralyzed with fear and horror and could not defend myself despite the pain. The dog dragged me several meters, until the owner arrived and got the dog to let go of me with several blows. I don't remember what happened right after that. My scars and fractures have healed in the meantime, but today when I hear a sound which only remotely resembles a growl, the sweat of fear breaks out.\",\n",
              " 'From the first-person perspective, write an emotional narrative with maximum 200 words about: home and roommate <sep> My roommate isn\\'t one of those guys who values cleanliness and order. He leaves his dirty clothes everywhere, never rinses the dishes and I don\\'t even want to start with the stench that comes out of his room. But what he has achieved today caps it all off. We both spent the Easter holidays with our parents, so our apartment was empty. My roommate left one day after me and I came back one day before him. As I entered our apartment, a penetrating smell of decomposition wafted toward me and the air was filled with fat, humming flies. The moron had left an open pack of minced meat standing in the kitchen in summery temperatures! And even with the window tilted open! When I saw this teeming mass of decomposing flesh and the white maggot bodies, I vomited into the sink in a flood. I\\'m staying at a friend\\'s place tonight. I\\'ll leave the cleaning up to the \"fly breeder.\"',\n",
              " \"From the first-person perspective, write an emotional narrative with maximum 200 words about: thunderstorm and home and pet <sep> I love it when I'm at home on a summer evening and a violent thunderstorm starts suddenly. Outside it gets cold, wet and uncomfortable. Especially on weekends I take the thunderstorm as an occasion to treat myself to a few really cozy hours. I make myself a hot chocolate that fills the whole living room with a delicious smell. Then I push the comfortable armchair close to the window and muffle myself into a cuddly blanket. This way I can watch the storm outside safe and protected. From time to time, I sip my chocolate and feel how the pleasant sweetness spreads warmly in my body. When it gets dark, I light candles and listen to the sound of the rain. But it gets really heavenly when my cat decides not to hide from the thunder anymore and to share the cozy hours with me. When he rolls up on my lap, purring, I stroke his soft fur and enjoy life while the world outside is washed clean.\",\n",
              " \"From the first-person perspective, write an emotional narrative with maximum 200 words about: baby <sep> I still remember the first weeks after the birth very well. I couldn't stop looking at him. He was so perfect, with his little button nose and his big wide eyes, his little feet and tiny toes. I was sure he was the prettiest and sweetest baby in the whole world. When I lay next to him and he slept, I couldn't take my eyes off him. I watched him lying there, so peacefully, sucking on his pacifier. And I listened to his soft, even breath. I couldn't get enough of cuddling up tightly with him, being very close to him. I had to cry often because it was so indescribably beautiful. I've never felt such a deep love for anyone before as I do for him. He is my life, my everything. Just the thought that something might happen to him turns my stomach. I'm so incredibly happy that I get to be his mother.\",\n",
              " \"From the first-person perspective, write an emotional narrative with maximum 200 words about: depression and death and friend <sep> I met a very good friend I hadn't seen for a very long time. He told me that his long-time companion had died in a traffic accident and that after that he was so badly off that he couldn't work for a long time. He could not stop thinking about the accident and wondering whether his companion had suffered very much. He also often wondered whether he could have avoided having his companion drive to work by car that morning. For a long time, these thoughts did not let him go, so that he became unable to work and also lost his job. When he lost his job, things went completely downhill, because he had the feeling that he no longer had anything to hold on to. This is the situation he's in right now and reports at the moment, not knowing how things should continue.\",\n",
              " 'From the first-person perspective, write an emotional narrative with maximum 200 words about: home and TV and illness <sep> My doctor told me that I was infected with a severe and tedious flu. For 2 weeks now, I have been lying in bed, frustrated and bored, and I can\\'t do anything or meet anyone. I can\\'t receive visitors because I don\\'t want to infect my friends. So, I lie in bed, already with back pain from lying down, and think about how nice it would be to go out and enjoy the sun. But these thoughts frustrate me even more. Then I think, \"Stop whining, it\\'s just a flu,\" but the long wait for an improvement is dragging on endlessly and patience has never been my strength. So, I take a few more pills, for the pain in my limbs and the fever, that my doctor gave me and try to distract myself by watching television. But during the day they seem to run only boring programs and talk shows, which I don\\'t even want to see bored and lying in bed with the flu.',\n",
              " \"From the first-person perspective, write an emotional narrative with maximum 200 words about: illness and friend <sep> A good friend has an unknown but very serious illness. He's at the final stage, nearing death. I visit him often at the hospital. Nevertheless, it is always very difficult for me to visit him. I always feel very sad before the visit because I have the feeling that he is deteriorating a bit more every day. I am also very angry because I feel that the illness leaves less and less of my friend. I don't understand why it hit him, of all people. When I am at the hospital, I try to get rid of these negative thoughts so that I can cheer him up. But when I walk out of the hospital after the visit and take the stairs to the exit, I am relieved to leave the hospital on the one hand, but feel bad to have to leave my friend there, and I have to bear in mind that my friend will probably not leave this hospital alive.\",\n",
              " 'From the first-person perspective, write an emotional narrative with maximum 200 words about: wedding and death <sep> The wonderful scent of lavender reminded me of Estela\\'s house in Chile. Her house always smelled good, like lavender, just like her. I felt overwhelmed by a mixture of sadness and longing. She was a very pretty girl, though she did not speak. She had many suitors who would do anything for her to speak: they sang, they played, they told jokes, but she did not utter a single word, until when a very poor boy came and fell in love with her. The boy took Estela to the beach and asked her to help him paint some pictures. She did so, without saying a single word. After many days of hard work with the silent help of Estela, she saw that the boy was destroying everything he had done and then asked him, \"What are you doing?\" The boy just smiled at her and she smiled back. Finally, Estela had spoken! On the day of their wedding, the house was beautiful, decorated with lavender. It smelled so good! The worst was yet to come. When Estela was walking down the aisle, radiant, beautiful, with a lavender branch in her hands, an old suitor, who had not succeeded in making Estela talk, appeared and killed her. She fell into the arms of her fiancé and, smiling, the last thing she said was, \"You were the only one who did not give up on me. Thank you for that.\" The branch fell from her hands and a scent of lavender spread all over the room.',\n",
              " 'From the first-person perspective, write an emotional narrative with maximum 200 words about: travelling and family <sep> I was so happy that day that I had to do something good and different. I called my sister, one of the people in this world with whom I always think of sharing something when I am happy. I invited her to travel to a surprise destination. She immediately said yes. I told her to meet me at the airport and that I had already bought the tickets. I was so glad I could share my happiness with someone I really like that, on my way home, I began to think about the true meaning of this feeling. And I wondered if leaving the country would be really necessary, given that I could do so much in the place where I was. Even so, I went home and checked our reservation to the only place wherein I know we would feel even happier. This place was our country, São Tomé e Príncipe. A paradise in the center of the world. I arrived at the airport and my sister was already there. We gave each other a huge hug. After an 8 hour-flight, we arrived at our destination and our happiness could not have been greater. We would have the opportunity to meet again all those we had left behind so many years ago. As soon as we got off the plane, we understood better the meaning of the expression: \"Home is where our heart is,\" and ours was definitely, and will always be, in São Tomé.',\n",
              " 'From the first-person perspective, write an emotional narrative with maximum 200 words about: child and mental illness <sep> I always liked the amusement park. I love going to the haunted houses and being scared by the actors there, though I find their attempts a bit amateurish. I created my first haunted house when I was 12 years old. I painted the walls in red, hung up sausages, and put eggs decorated like eyes inside the fridge. My haunted house must have been immensely realistic as, when my neighbors called the police complaining about the stink, the cops would not even come to the doorway. They called me outside and asked me where my parents were. I told them that my parents had gone on holiday and that I had been living alone for about a week. So the officers took me to the police station and asked me some questions. A few hours later, they took me to a large house full of children. I stayed there for two years, until I decided to create my second, and so far my last, haunted house. Now I am in a white cushioned room. I cannot paint the walls, I cannot get sausages, and, even if I could find eggs, I would not be able to decorate them.',\n",
              " 'From the first-person perspective, write an emotional narrative with maximum 200 words about: romance <sep> I found a slim girl sheltering from the rain. I offered her my umbrella and made my way home under the merciless rain. The next day, on my way to work, I found her again. When she saw me, she smiled. That smile ... Only that smile. As if it were the sun breaking the weeping of the clouds. When I saw it, and when I see it, I forget everything. There are no more problems. There is no more pain. There is no more anger. I tried to pull myself together and, after a few seconds that seemed to me an eternity, I managed to speak to her. I asked her what her name was, and why she was at the same place where I had found her the day before. She told me, with a shy smile, that she lived nearby, and that she was waiting for me. My heart began to beat like a drum. Then I asked her why she was waiting for me. She told me that she wanted to give me back my umbrella. I laughed while she looked at me with a puzzled look. I thanked her for her kindness, took my umbrella, and continued on my way. I have never seen her again. I like to think that one day I will see that smile again. That mythical smile that stopped everything around her.',\n",
              " 'From the first-person perspective, write an emotional narrative with maximum 200 words about: romance <sep> The sun burned and the line of the horizon blurred between the sea and the sky. I half-shut my eyes. I realized I was thinking of you. Among some ideas that crossed my mind, I promised that, as soon as I saw you, I would tell you that I missed you. I swore to give you a kiss and a long hug, because I like it and because I need it. I also thought about cooking for you, in your house, as I had said a long time ago. So you would keep still, looking at me in your kitchen, opening and closing drawers as if that space would already be mine. I would try not to break anything. However, I would not swear, for I was born clumsy, and I could possibly break a crystal glass, like I did the last time. On the other hand, I would know that, even if I did something wrong, I could look at you with a very serious face and blame you, whilst I would hear you saying yes, taking the blame just to please me. The sun burned. I opened my eyes and smiled as soon as I saw you arriving. I got up and waved, still in the same place, because you were walking toward me. I wrapped my arms around you and laid my head on your neck. I felt myself comforted by a hug with the right tightness. I then felt your smell and it warmed me inside. It felt good, and it seemed only right to conclude that, at that moment, I was feeling at home.',\n",
              " 'From the first-person perspective, write an emotional narrative with maximum 200 words about: romance <sep> Although my eyes were fixed on the screen, I was seriously focused on the sunset behind the bar. The sky was on fire and I had not seen anything like it in a long time. I wiped my face with one hand and stood up. I ordered a fresh water to take away and decided to go home. You were almost back from traveling. Finally. At home, I shook out the rugs, I opened the door for the dogs to go out, I lowered all the blinds and I put the kettle on. Without thinking, I followed the routine that marked your absence. I looked at your photograph and smiled shyly, as if you were watching me. There was something about the way you looked at me that made me laugh. Always. The dogs warned me of your arrival, I leaned forward toward the window and peeked, stretching my neck as much as I could. I grabbed a shawl, put it over my shoulders, and walked toward you. You smiled at me from the car. I waved. It was warmer than before. You kissed my forehead and looked up for my hands, making ironic jokes about how you had never felt them so cold. I grimaced and turned to open the door. The dogs entered first and we entered right next, just before the kettle boiled. The sun burned and tea seemed like a silly idea, but, as you used to say, there are several ways to keep the heart warm.',\n",
              " \"From the first-person perspective, write an emotional narrative with maximum 200 words about: depression <sep> I remember walking to the window and seeing my reflection in the clean glass. I saw myself with my head tilted to one side, like someone with a bad neck, their trunk thrown back and frozen shoulders. I didn't like myself. The sound of your key in the lock left me with no air in my body. I heard the door opening. I heard you moving up. I stood in front of the window. I gasped. You were in front of the door. I opened the window. In one leap, I placed my feet on the window ledge and then I sat down with my body thrown forward. You came in. You were there, but, for a few seconds, silence reigned. How are you feeling today? That was the question you would ask me when you thought I was suffocating. At that moment, I only thought about how I now, proudly, could breathe in small, muffled spaces without thinking I would suffocate. Maybe because I already knew what it is like to almost die and did not want it. I gazed at you. You were closer. You were waiting, but I did not speak. Instead, my chest was shaking and my nose was burning. How are you feeling today? I looked up at you, I moved one leg into the room and then the other. I stretched out a hand to you and sobbed at the same time I tried to speak. Small, I answered, before letting myself fall into your arms.\",\n",
              " 'From the first-person perspective, write an emotional narrative with maximum 200 words about: pregnancy <sep> Throughout my life things have become better and better. After many sacrifices, what I most wanted to happen finally happened: I got pregnant. Having a baby is what I have always wanted. The feeling of having such a small human being growing inside me fascinates me since I got to know that we are not brought into the world by a stork. The morning sickness, the will to eat every and anything at any time ... even my weight gain makes me radiant. I am starting not to care about wearing excessively large clothes or about not always being in a cheerful mood. After all, 9 months fly by. If there is something better, or as good as giving birth to a child, it is the idea of being able to raise him along with someone who strengthens me and makes me see the world in the best way. Luckily, this is my case. He does everything to make me happy. He stays with me whilst watching the same movie over and over, he tries to satisfy my bizarre food cravings at four in the morning. I opened my eyes again after the waiter caught me by surprise and asked me what I wanted to have for lunch. I looked at the menu and did not think twice about choosing my favorite dish: steak with fried eggs, chips and an extra dose of cream and green pepper sauce.',\n",
              " 'From the first-person perspective, write an emotional narrative with maximum 200 words about: depression <sep> Since I gained weight, I cannot look myself in the mirror. Before I became obese, I suddenly lost my safe haven, my boyfriend. I found that he had left me for someone better than me, more beautiful, more elegant, more intelligent, more everything. Food and the television became my refuge, I left tennis, I stopped going out with my friends and slowly moved away from all those who were close to me. I lost everyone but my mother. She is the only one who stays by my side, and fights for me every day. But I lack the will to be better. I feel unable to make an effort to remedy this situation and go back to who I was. It is very painful to do that with the amount of nasty comments I get when I leave home. People are so unfair to me! I feel like coming back home. Everyone in this café is staring at me and judging me as if I am trash. My mother tells me to ignore it and drink the rest of the juice. Sometimes I have melancholic thoughts and I wish to end my life. I feel that the world would be better off without me and, at least, I would end my suffering. I stumble across an amazing view. Everything seems so peaceful to me, as if everything is achievable. I almost have hope in myself. Almost.',\n",
              " 'From the first-person perspective, write an emotional narrative with maximum 200 words about: depression and school <sep> At times, I spend days without seeing the sunlight. I lock myself in the darkness of my room and do not get out of bed, not even to eat. Today is one of those days when I see no reason to get up. I do not have the strength to face the day, but I have to do it. I have to go to school or my parents will punish me. It is not worth pretending that I am sick because the last time I did it, my mother found out and now, even if I am sick, I have to go to school. I already know what the day is going to be like today, I will spend all my time on the verge of tears, wishing for the time to come quickly for me to come back home, to my refuge. When I get to school, I meet my friends. I greet them and sit near them. Although I have many friends, I always feel alone. I feel empty inside all the time. They are talking and it is like I am not there, only my body is. My head is completely disconnected from the world around me. I am on autopilot. I do not think it is normal for a teenager to cry constantly because she does not want to get out of bed and do something. Something wrong is happening to me and I am afraid of what it might be.',\n",
              " \"From the first-person perspective, write an emotional narrative with maximum 200 words about: family <sep> I stepped on the slippery floor, freshly washed, when I came in. It reminded me of the many times since I was a child that I had been to that café. My parents chatted happily with their friends while my younger brother and I ran after João, the son of my parents' friends. One day, the coffee lady had just washed the floor near the bathrooms but we did not notice. We ran in that direction and I ended up slipping and falling. The two of them stared at me, perplexed, not knowing what to do. When I started laughing, they did the same. We laughed so much that day! Coming here reminds me of all the good times I have spent here, the best moments of my life. But it was also here that my brother and his wife decided to give us the news that they were going to be parents. It was here that João asked me to marry him. Coming here always makes my day better. It is for this and many other memories that my brother, João, my husband, and I still come to this café. We no longer run or slip, but we still have great discussions and arguments. We laugh and we get angry. And, in an uproar, our children run down the esplanade, which has the same breath-taking view.\",\n",
              " 'From the first-person perspective, write an emotional narrative with maximum 200 words about: depression <sep> From time to time, I feel so sad that I do not want to do anything. Nausea overcomes the silence and causes me tremendous discomfort. Discouraged, I end up not being productive, which causes even more frustration. I do not call my mother. I want to avoid the shame that she feels about me, that we both feel about me. But I blame myself for not calling her, and the isolation that holds me in such an open space grows. Loneliness possesses me and controls me. The jostling of people on the terrace is an affliction of intersecting worlds. They confuse themselves and confuse me with constant restlessness, almost without letting me breathe. I get up and put down the only money I have so I can resume my walk. I get a dizzying sensation. Someone stretches a hand to help me. I am on the floor and the others were aware of it before me. And how I hate that they offered to help me. The anxiety and humiliation are suffocating, like ropes around my neck. I leave the esplanade almost running, looking for a refuge. I cannot find one. I sit in the shadows. I remember I am in mourning, but I cannot remember why. I realize I am hearing rumblings of voices, but there is no one around me. Two hours later, it starts raining.',\n",
              " 'From the first-person perspective, write an emotional narrative with maximum 200 words about: friends and pet <sep> I greet my friends and thank them for their congratulations on my recent engagement. The sound of the sea provokes me and diverts my attention from the pleasant conversations about my future. I ramble mentally about recent moments that made me feel euphoric – new travels, book acquisitions and the donation of several books that I have already read. Altruism and benevolence grant a state of peace that no material good will ever bring me. The contagious happiness of those who are helped, especially the smaller ones, makes me nostalgic and proud of when I was a child. Across the table, the others cannot contain their excitement. They look constantly over my shoulder, until they tell me, excitedly, to look back. With tremendous surprise and instantly enthusiasm, I see my best friend right next to my mother. He smells several benches until he sees me and gets off of the leash that holds him. He runs up to me, jumps on to my lap and licks my face. I wonder if he knows he is too big, but I understand … I have not seen him in months. Then, everyone at the table, I confess my wish, that is discussed and accepted: I want the dog to hold the wedding rings. When I look at him, he watches me, and pricks his ears.',\n",
              " 'From the first-person perspective, write an emotional narrative with maximum 200 words about: nature and stranger <sep> As I look at the sea, I wonder whether there are places to be when you are happy and other places to be when you are sad. And will it be that if I visit a place wherein I was happy before, this place will make the sadness that I feel disappear? I am not sure, I only know that, whatever my state of mind is, this landscape of sea and sky is the only one that acts according to sadness and joy. If I look at it sadly, its elements bring even more melancholy and, at the same time, if I am happy, the sea and the sky make me think of positivity, energy, and strength. At the table next to me, a gentleman is sitting. It is the same man whenever I come to this esplanade. Sometimes he reads a book, sometimes he contemplates the landscape as I do. I can say that we are the only regular customers of the esplanade. The others are new faces every day, the various feelings that appear on each face different. Each one feels their own way and gets depressed as they look at the horizon, thinking of an ex-love, for example, or rejoices as they sunbathe and look up at the sky, perhaps being proud of the walk they have just taken. I am glad that I did not stay at home. Seeing that I am not the only one has comforted me …',\n",
              " \"From the first-person perspective, write an emotional narrative with maximum 200 words about: volunteer and pet <sep> I have recently decided to spend my free time, during the week and even on weekends, doing volunteer work in an association near my house that helps and collects abandoned cats and dogs from the streets. I have always had a passion for animals and I feel like I have made the right choice. I knew the association needed volunteers, and I did not hesitate. I left the esplanade near the sea for the affection and unconditional love of these new friends, who make me as happy as or happier than when I am simply sitting in that chair. I am happy there, looking at the horizon, at the sea, and smelling it. I do not forget the sun, I like to feel it on my skin, but, if I am also happy while taking care of and pampering these beings, why shouldn't I share this emotion if both parties benefit from it? This was the thought that invaded me and made me change my routine. Now, whether it is just one or four hours, I make the most of it and concentrate on doing my tasks correctly. My love for this work grows day by day and I have never regretted this choice. On the contrary, it fills my heart and makes me feel useful and cherished.\",\n",
              " \"From the first-person perspective, write an emotional narrative with maximum 200 words about: meeting and friends <sep> I'm about to enter the café when I see Alexandra at a distance. We were inseparable at secondary school, but after graduation each went on their way. Different ways. It doesn't matter how close we were or the promises we made to keep in touch, we easily went from great friends to mere acquaintances. But I missed and I miss her so much! I never tried to get in touch because ... for so many reasons ... I do not know why exactly. Probably it was just procrastination. I told myself that if she wanted to talk to me, she would have done so, but I know this is just an excuse. And so I keep losing people. Alexandra sees me and waves after all. I approach carefully, cautiously, but it is as if nothing had changed, as if we saw each other yesterday, rather than years ago. We talked about everything that happened to us in the meanwhile and I can see that she missed me as much as I missed her. And it is ridiculous because we were both a phone call away. I think that what I am trying to say is: if you want to talk to someone, do it, do not postpone. The other person may want the same, and it is worth finding out.\",\n",
              " \"From the first-person perspective, write an emotional narrative with maximum 200 words about: meeting and friends <sep> As I sit down waiting for Sanna, I ask for two coffees. I cannot believe we are going to meet after all these years. We met on the Internet a couple of years ago because we had common interests, and now I cannot imagine my life without her. I have been euphoric since she told me that she was coming to Portugal to visit her maternal grandparents. We always talked about her coming here or about me going to Finland. And now it's finally happening. I see her coming forward and I cannot stop smiling. I go toward her and hug her. Seeing her without the barrier of a screen is just spectacular. Here she is, my best friend in the whole world and finally I can hug her. We talk nonstop about everything and nothing and it is so good that I cannot imagine having to interact with her again through technologies. I will miss her. I do not know how many times I have been warned not to talk to strangers online or have been told how absurd it is to make friends that are miles away when there are other people closer. But the truth is that spatial proximity does not mean compatibility. Sitting on the terrace, in the physical presence of one of the most important people in my life, I realize that, despite the vastness of the world we live in, certain people are destined to be part of our lives and, for me, Sanna is one of them.\",\n",
              " 'From the first-person perspective, write an emotional narrative with maximum 200 words about: meeting and friends <sep> I like to sit down at the same table in this café, to take my notepad out of my pocket. I like to write about the taste left in the cup by the person before me, about the others or about me. Today you are the topic. I do not know your name yet, but I have the right word to call you: Happiness. I appreciate your subtle approach, like someone who doesn\\'t care though is willing to stay and have coffee with me. I ask your name: \"I want to call you by your proper name.\" \"My name is João.\" At least, that was what he replied, full of expectations about what would happen next. I asked him to come with me. We left the café, and, although we knew that city like the palms of our hands, we stumbled into it at random and lost ourselves. We gave our names to known streets, we counted the steps toward the sun and we realized why all this is called happiness. We toasted to the feeling that ran through our bodies, joining our hands as we walked, and we smiled. We smiled as if tomorrow did not exist, as if tomorrow we would not be together at the same coffee table.',\n",
              " 'From the first-person perspective, write an emotional narrative with maximum 200 words about: eating and stranger <sep> I am angry at whoever made some days seem so long. Although they all have the same number of hours, there are some days that seem longer than usual. Today is one of them. As early as I woke up, I felt I should not have woken up. My legs hurt and I do not feel like dragging myself to the same coffee bar chair where I pretend that my life is good. The breathing of the man at the table next to me irritates me. It makes me dig my nails into the wood of the table and scratch it as if my nails were steel. Not to mention the noise that he makes when chewing that cake that he asks for every Wednesday. I can hear every detail of that man\\'s digestive process. His mouth opening, his teeth grinding and chewing, his saliva mixing with the bits of food. It feels like my hearing has been amplified. Every little noise, imperceptible to other human beings, annoys me. It makes my brain boil, my feet jump constantly and my hands close in clenched fists. Involuntarily, I punch the table top whilst I shout at the man in question, \"Can\\'t you hear yourself?\" He is perplexed. He does not utter a single word. He puts down the cup of coffee, the half-cake, pays the bill, and leaves. He never comes through that door again.',\n",
              " 'From the first-person perspective, write an emotional narrative with maximum 200 words about: restaurant and work <sep> It was just another day at work. Everything remained the same, the same smells mixed with the scent of the glass-cleaning product. The same routine does not motivate me, it bores me. The first customer arrived, Sir Manuel, a regular customer. He actually spends more time here than at home. He orders the same as usual. It is like this here, the same as usual. In a while, the room begins to fill with families. Infernal boisterousness, children crying, screaming mothers and fathers who prefer to pretend that it is nothing to do with them. These are the Sundays here. When I look at the entrance I see a lady who sometimes comes with a small child. I feel tightness in my heart whenever I see her. It is such a strange feeling! I feel like crying. The lady is dressed in a very old suit, not to mention the suffering that comes from her look and her voice. I try to disguise myself so I do not embarrass the lady. She orders vegetable soup for the child and gazes at her while she eats. This is not the first time this has happened. I believe that the lady does not even have money to pay for the soup she orders. I explain the situation to my boss. He is so cold and inhuman. He only tells me that nothing here is for free. This creature irritates me. For him, people are just money-making machines. Asshole!',\n",
              " 'From the first-person perspective, write an emotional narrative with maximum 200 words about: nature and murder and death <sep> Throughout my life, things have become better and better. My mother and my father died while jumping from a plane because the parachutes did not work, and so I became the owner of the cork empire that belonged to them. I graduated in Management and I learned everything there was to know about running such a big business. And everything was (and still is) plain sailing. However, I felt I something was missing. A vocation. There was a gap in me that success and abundance could not fill. One day I went hunting. I went with one of my bodyguards to a forest he claimed to know well. The security guy was a fat, goofy guy, and I did not even know his name. When we lost a deer, we began to chase it and we ended up losing ourselves. We wandered for a long time but we remained lost. Luckily, we found a cave and we sheltered there. The cave was cold and damp. We still managed to gather enough wood to light a fire before nightfall. Later, I remembered that I had a can of beans in my bag and decided to go and get it. As I held the can in one hand and the knife in the other, I was struck by a sudden and impulsive desire to kill the security guard. I did so: I approached him furtively and I beheaded him from behind. I was Nero! I was Vlad! I was powerful! I had finally found myself!',\n",
              " 'From the first-person perspective, write an emotional narrative with maximum 200 words about: murder and death <sep> There I was, inattentive, going down a narrow and dark alley, when I started hearing voices. The more I walked, the louder they became and the angrier they sounded to me. Sensing a possible threat or just being a coward, I stood behind the building before turning to the corner and peeking from there. There they were: two homeless men, ahead, arguing under a large cardboard shack, lined with brown bedspreads. They both were dirty, ragged, and shaggy; only one was visibly drunk, and staggered, cursed, and flapped his arms with an empty bottle around the other, who was sober. Apparently, the drunk demanded that the sober one should leave the shack, but he refused. Then the drunkard, in a sudden blow, smashed the bottle into the oily head of the sober man, who fell on top of the junk, stunned. I just wondered where the police were. Then the sober one, still conscious, got up with effort and, at the same time as the drunk came back for him, got a penknife and stabbed him in the neck. Afterwards he removed the blade and left the drunkard, spouting blood all over the place, to fall on the junk. Soon there was a brownish-skinned dog that began to move around. He snuggled close to the body and he began to moan softly. And there they were under the shack.',\n",
              " 'From the first-person perspective, write an emotional narrative with maximum 200 words about: uncertainty <sep> I was sitting and waiting for information. My heart beat so fast because I was so anxious and I could only think about how was it possible and how could I get there. The road that I took was hard and full of ups and downs, but, in the end, smiling is the only way possible to express what I feel. Smiling, because I fulfilled what I wanted most, what I fought for was achieved. There is still a little time to go for everything to happen, but what just came out is just the beginning of the best part of my life. \"Whoever waits always reaches,\" and that is how I have been thinking all this time. In the end, the answer I wanted to hear, that \"Yes,\" was said, and, at that moment, all I wanted to do was to cry, not out of sadness, but out of joy and relief. I know I will miss the moments I lived there, but I will remember them every day as if I were living them again. I also know that, when I tell those who I love what I went through, I will tell them with the greatest joy and the greatest pride and they will understand that the life I chose was the right one for me. I know they will be happy about my journey.',\n",
              " 'From the first-person perspective, write an emotional narrative with maximum 200 words about: break-up <sep> Everything happened last summer. I thought that the best part of my life was happening there, but I was wrong. It was the opposite and I have been heartbroken from that moment. It was in a café that everything happened: we started talking, and he started telling me blatantly what he had to tell me. Every word he said to me was like a stab in the chest. At that moment, I just wanted to run away, to escape from there and to go to a place with no one, to sink down into the earth, to disappear. I kept wondering how could he have done that to me when I had never been mean to him or ever hurt him. \"How could he do it?\" was the only thing I could think. Alone in my room, I thought about a million things, but the only question that popped into my head was whether I should forgive him for what he had done. I cried: I cried a lot for that person who was important to me and to whom I believed I was also important. Today I know that I made the hardest choice but also the most certain one, which was not to forgive him. Although I am still sad about what happened, I am convinced that, by doing that, I have saved myself from the worst: the humiliation of being betrayed and then forgiving.',\n",
              " 'From the first-person perspective, write an emotional narrative with maximum 200 words about: break-up and sea <sep> That smell and that cold on my feet immediately transported me to the summer when I met you, to the house where all my life I spent my holidays with my grandmother. I do not know what I miss the most. I do not know what more easily slipped through my fingers, you, my adolescence, the days I never spent with my grandmother. Surrounded by voices and lights, I felt such a tightness in my chest that I could not contain the convulsive cry. The dark, bizarre sunglasses were no use inside the bar. Hiccups contracted my shoulders and tears fell incessantly. In a moment of lucidity, I hurried to clean them up. I had to push that suffering away, pull it out from my heart. I left the bar and ran to the beach. There was no better way to clean the soul than to take a dive in the cold and immense sea. The touch of the sand, its texture, took me back to summer, to your arms. But the heat shock I felt as I dipped my head was as violent as the one I felt when saying good bye to you one last time. It was hard. It was paralyzing. But as soon as I got back, I felt alive again. I got out of the sea and wrapped myself in the towel. It was not your arms, but it gave me the peace that you took away from me. There I was, watching the sea and thinking about how it related to us. It is beautiful. It is deep. It is free. It is over. Just like what we lived.',\n",
              " 'From the first-person perspective, write an emotional narrative with maximum 200 words about: family and pet <sep> I could barely hear the voices in the distance, but I recognized immediately his whistle, that sound that reminded me that I could not sleep all day long or that it was time to go home. I was covered in sand and the itch on my back was unbearable. It had been a good day, though I almost drowned in those huge waves and almost got lost in the middle of so many people. But it had been a good day. I was starving, but I knew that, in a minute, I was going to eat something. No one treated me as well as he did. If she was around, it would be even better. His constant attempts to make her laugh made him take advantage of my excitement. After half an hour in the car, to the sound of 80s rock, we got home. There she was ... beautiful, tall and always smelling so good! I do not know which one of us likes her better, if it\\'s me or him, but the truth is that I do not know who she likes best! We are a family, or we will be ... someday! She gave him a kiss, he gave her a kiss, and I did not let myself be left out! He made a disgusted face, she let out a laugh. We went in and they sat on the couch! She wanted to see my new skills. I sat down, I rolled, I pretended I was dead. She took out a cookie from her pocket, and let out the long-awaited \"GOOD BOY\" It was for me! I was the \"good boy\"! I am small, but I am a good boy. Their \"good boy\"!',\n",
              " 'From the first-person perspective, write an emotional narrative with maximum 200 words about: depression, illness <sep> It had all started four years ago, when I still thought that everything was perfect and that my life would go as I had planned. January 2013. I had arrived and was overwhelmed with the news that my mother had just lost her job. OK, it happens. We would have to be strong, be together and maybe something would show up. Worst of all, I was finishing the last year of my secondary science course when I was realizing that the chances of getting into the faculty were low. I saw my closest friends going into the faculty and I found myself in such loneliness and sadness as I faced the fact that I had got left behind. I have always loved sports and I have played federated tennis from a very young age. It had always been like this until the summer of 2014, when a relentless pain in my right knee came. I was forced to give up on my great passion and my great cure for sad days. There were doctors again and again, examinations again and again, medical appointments again and again ... It was inevitable. The most I could do was a simple 20-minute walk. I had to find another solution to get rid of these thoughts of uselessness that invaded me every day and would not let me sleep at night.',\n",
              " 'From the first-person perspective, write an emotional narrative with maximum 200 words about: friend and accident and death and romance <sep> Depression had settled and there was no turning back. I was alone. The feeling of anguish was huge, but it worsened even more when, at the end of that summer, I applied to the university. I did not enter my first choice for 0.1% and I thought that the sense of condemnation would drive me crazy once and for all. I mean, I was already crazy, but it was a secret madness, for I had hidden it from all those around me and I had learned to deal with it alone. Little did I know what was yet to come. In August 2015, the news that a great friend of mine had died in a bus crash was received with a sense of surprise and shock that left me with no reaction. After letting the tears run down my face and the pain breaking the little that was left of my heart, I automatically got in the car and drove aimlessly. I did not want to believe, but the truth is that our Josefina had abandoned us forever. I survived, day after day, with all these nefarious events in my memory, not knowing how I would wake up each day and find a bit of strength to face the sun that lasted outside. Then I met Josefa.',\n",
              " 'From the first-person perspective, write an emotional narrative with maximum 200 words about: travelling and study <sep> I have always been a person full of dreams, who loves to believe in the future and who thinks that everything happens for a reason. Ever since I was a teenager, I thought that I would at some point in my education go to study abroad. At the beginning of my second year, I began seeing other students asking questions about the Erasmus program, something that made me realize how much I wanted to study abroad. In December, the news came out that there would be an information session. In those two hours I only had two thoughts: bravery and fight. I wanted to go on Erasmus ... In March, I received one of the best pieces of news of my life – I HAD BEEN ACCEPTED! In few seconds, a thousand things went through my mind: 1- My effort had been recognized and I was going to England to study. 2- Just forget, the scholarship will not be enough to pay for this. 3- You have to try! In September, when I stepped into the airport and finally realized I was about to fly away from my hometown, my family, my friends, and my country, for months, and to reach a totally different country, I was frightened. I was alone. As soon as I landed in Manchester, I smiled. I smiled like I had not done in a long time, and I thought about how lucky I was at that moment.',\n",
              " 'From the first-person perspective, write an emotional narrative with maximum 200 words about: travelling and study <sep> I went on Erasmus! My arrival at the residence in Leeds was a very positive psychological shock. I already had my new home for the upcoming months and I could not wait to meet my flatmates. I will not describe all those moments, because I know that I will never be able to do it in such a way that you could understand what I felt. \"Only they who live it can feel it.\" Friendships happened naturally, my adaptation to the faculty was wonderful, and I was more than happy. Don\\'t believe those who say that Erasmus is just a party, because, in my case, I studied more during that semester than I had studied during the previous two years. Of course, I also traveled a lot, tried new things and lived unforgettable adventures. I lived my Erasmus to the fullest. It is incredible that I was not homesick at any moment, neither did it occur to me to come back, and the only time I cried was precisely on my return flight: \"We cry because we do not know when we will see each other again,\" they said. But that did not happen. We have already had a meeting in the Netherlands and we still talk on a daily basis. England made me feel the luckiest, happiest, bravest, freest, most determined, optimistic, and adventurous person in the world. England shaped me into the person I am today and it is the memories of that time that give me the strength I need to do everything I want.',\n",
              " \"From the first-person perspective, write an emotional narrative with maximum 200 words about: quitting job <sep> That morning was the first in many years when I didn't go in to work. I had stopped work and, from that day on, I began a new phase that was completely unlike anything I had previously experienced. I could feel a morass of different emotions and sensations within me: on one hand the satisfaction of having liberated myself from all those daily tasks and worries, but on the other, a great sadness at the fact that I'd abandoned a project, one that had become a reality, and had grown and matured over the course of 15 years. A project I had always dreamed of achieving, and which had become not just a job, but a way of life, one which had helped me to grow at both a professional and a personal level. All that was over now; I had been forced to make this decision because of the financial unfeasibility of the project, and now I was naked and alone, with nothing to hold on to and with the uncertainty of not knowing what I would do tomorrow or in the immediate future.\",\n",
              " \"From the first-person perspective, write an emotional narrative with maximum 200 words about: family and story <sep> After lunch, my eldest daughter Laura, who is studying children's education, asked me to help her prepare something that she had to present. She had to tell a story to the class, and she wanted to show me how she was going to do it. She started with an introduction, telling the boys and girls that the tale she was going to tell them was her favorite story, and that it was very special for her, because when she was small, her mother had made it up, and she'd told her this story many times before she went to bed. I was amazed and didn't know what to say. I was really moved by the fact that my daughter had chosen our story, and to see how much it had meant for her, and above all that she wanted to share that memory from her childhood which had given her such happiness and a sense of well-being. Loving someone means that you do things without thinking whether you're going to get anything in exchange, although it's also true that when you receive acknowledgment for it, a feeling of inner peace flows through you that is absolutely priceless.\",\n",
              " 'From the first-person perspective, write an emotional narrative with maximum 200 words about: birthday and surprise <sep> When I woke up last Tuesday, I found a note that said: \"Good morning, and happy birthday! I\\'ve prepared something very special for you. First of all, follow the arrows on the floor.\" I looked up and saw that there were chalk marks on the floor which were leading me to the room next to mine: the living room. I went in, and the chalk marks led to my CD player, where I found another note: \"Press \\'Play\\' and go to the bathroom.\" My favorite song began to play. When I reached the bathroom, I found the bath full of hot, pleasant-smelling water, with hundreds of little bubbles that seemed to be inviting me to climb in and never get out again. But I felt so curious that, as soon as I had washed, I put on the clothes that lay in front of the mirror and I found a small piece of paper that told me that now I was all ready to leave the house. Imagine my expression when I went out and found my girlfriend with my birthday present: a trip for two to a place we had always dreamed of visiting, and with our suitcases all packed. Could anybody wish for a nicer surprise?',\n",
              " 'From the first-person perspective, write an emotional narrative with maximum 200 words about: family and death and flight cancellation <sep> It\\'s 6 a.m. and I\\'m at Vienna airport. I had planned to go back home tomorrow, but a close friend of my brother\\'s died a few hours ago, and the funeral is at 5 p.m. My brother and I are very close. I know that he needs me and I want to be with him, to keep him company and give him support. In fact, I\\'ve been so worried that I haven\\'t slept a wink. Then the voice on the PA system breaks into my thoughts: \"For all passengers traveling to Barcelona: owing to technical problems at Barcelona airport, all today\\'s scheduled flights have been cancelled. We apologize for the inconvenience. For more information, please go to the airline desk.\" That was my flight. I\\'ve tried asking for some sort of explanation and to find a solution of some kind, but without success. I\\'ve also been trying to phone my brother for some time, to warn him that I won\\'t be arriving in time, and that I\\'m really sorry, but he\\'s not answering his phone. Perhaps because it\\'s so early, or maybe because he doesn\\'t want to receive any calls right now. And so I\\'m stuck here at this airport, tired, frustrated and not really knowing what to do.',\n",
              " 'From the first-person perspective, write an emotional narrative with maximum 200 words about: jewelry <sep> Today is the day of my communion; it\\'s a special day because of everything it entails, but mostly because I\\'ve received loads and loads of presents. I\\'m particularly happy about one gift: my first ring. It\\'s really lovely: it\\'s made up of three bright gold oval strands crowned with a little pearl. I gaze at it proudly, squeezing it with my slender fingers, and I say to myself: \"I must try this princess\\'s ring on.\" Turning it delicately, I slide it onto my index finger and I observe the effect with satisfaction. Then my mother\\'s shout – \"It\\'s breakfast time!\" – brings me back to reality. I try to take off the ring, but it\\'s stuck fast on my finger. I try again, starting to get a bit nervous, but the little ring just won\\'t budge. I\\'ll never be able to get it off again! They\\'ll have to cut off my finger! A dark shadow descends upon me and my eyes begin to fill with tears, as I desperately try – now using my teeth – to pull off the ring and free my finger. Several long minutes later, the ring lies on my bedside table, without its little pearl, which snapped off and is now lying beside it. We princesses will be going without our rings.',\n",
              " 'From the first-person perspective, write an emotional narrative with maximum 200 words about: pet and death <sep> Finally we decided it would be the best thing to do; there was no point in prolonging her suffering. The vet helped us with his comments. \"You can be with her right up until the end; first we\\'ll give her an injection that will send her to sleep, and then another one that will slow down the entire circulatory system until it causes cardiac arrest, which won\\'t be at all painful or sudden. Sometimes we end up making our animals suffer for nothing, just because we want to try absolutely everything. But it\\'s really not wise to become obsessed with complicated operations that offer no guarantees that the animal will have a decent quality of life afterwards. Obviously, you are the owners, although we prefer the term \\'guardians\\' to \\'owners\\'.\" The vet seemed to be completely sincere in what he was saying, and at no point did he try to increase his earnings from the situation. And so Xana, a lovely Labrador-retriever, was put to sleep on 15/12/2008 at the age of 12. She had cancer, and it was causing her a great deal of pain and discomfort.',\n",
              " 'From the first-person perspective, write an emotional narrative with maximum 200 words about: birth <sep> After long hours of waiting and counting the time between contractions, finally we went into the delivery room. Following the instructions of the gynecologist and the midwife, maximum dilation was reached and, in a very short space of time, the process took on an extraordinary speed. \"Push, Esther, now! With all your strength! NOW!\" I was dressed up in green scrubs, a hairnet and plastic overshoes: I looked like the third member of the medical team. It was, however, the first birth I had ever witnessed. The first birth because I was about to see my first child, Oriol. When his head and half his body was out, they let me give him his final tug. I took him in my hands and, even though a newborn baby can\\'t see much more than light and shadows, I sensed he was looking at me. I immediately knew that this wonderful moment would last me for the rest of my life.',\n",
              " 'From the first-person perspective, write an emotional narrative with maximum 200 words about: musician and party <sep> In the early 1990s, music schools were classical in terms of their genre and methodology, far removed from jazz, modern harmony and improvisation. But owing to the whims of fate, a Dutch musician from Iowa who played jazz turned up in my town. He was a friendly, interesting, educated man, slightly bohemian, generous and … rather broke. He offered to give a small group of us musicians classes on an informal but regular basis for a reasonable price, and he taught us all the 1950s American standards. One of the most important lessons he taught us was after our first performance. We gave him the money they had paid us, and he told us to drop by his house that evening. When we arrived, we found him out on his patio, barbecuing lamb and with a table set ready, which included the finest wines. He had spent the money from the performance on celebrating his success with his students. It was a great evening. Soon afterward, Paul left town. But we musicians, however, carried on playing jazz every fortnight, and every so often he drops by the town where he sowed the seed of jazz, friendship and generosity.',\n",
              " 'From the first-person perspective, write an emotional narrative with maximum 200 words about: death and friend and living abroad <sep> Finding a place to stay in the United States was an adventure, but no sooner had I boarded the airplane in Barcelona that one of the last people I had contacted told me I could stay at her house. She was called Sophia. When I arrived in Michigan, she came to pick me up, she made me welcome at her home and during my first days at Ann Arbor, she helped me enormously in finding my way around. Sophia was clearly ill. She had lost almost all her muscular strength and there were some days when she was in terrible pain, especially when there was a lot of humidity. I never knew what she was suffering from, nor how serious it was, because that was the way she wanted it to be. In spite of the pain, she continued to live her life and always wore a smile. Last weekend, her health suddenly worsened. Neither she nor those close to her had expected it, but life can be very unfair. On Thursday everything got much worse, and then, in the early hours of the morning, Sophia died in her bed, surrounded by her loved ones. Just like she had wanted it to happen. To die at the age of 49 from bloody lung cancer! It was a bitter blow.',\n",
              " 'From the first-person perspective, write an emotional narrative with maximum 200 words about: family and death <sep> I remember that moment as if it were yesterday. My mother came to pick me up from school, she brought me a snack, we sat on a bench, and she told me to eat up the snack as quickly as possible. She said we had to go home, and that I should wash my hands and my mouth properly, because we would be meeting lots of people who had come to visit us. Visit us? Why? What was going on? Was it a party? \"No,\" my mother replied and, taking me by the hand, she hurried me along the street. Then, when we reached home, she hugged me and said that nothing was the matter, everything was fine. But even so, people were coming up, weeping disconsolately and saying to me \"I\\'m sorry.\" It was a rather confusing situation, as I didn\\'t know where my mother was taking me. All the way along the corridor, which seemed as if it was never going to end, there were lots of people, most of them dressed in black, by the door. I was eight years old and I was frightened of what I would see in the room. When I went in, my whole world collapsed, the person I had always loved and who had taken care of me, had died. Uncle, I dedicate these few words to you.',\n",
              " \"From the first-person perspective, write an emotional narrative with maximum 200 words about: friends and party <sep> In the mid-1980s I met a really cool group of people. They were studying at art school in Barcelona, and they loved painting, music, and so on. They wore trendy leftish clothes and both the boys and the girls had long, straight hair. I loved their hippie styles, though I could never afford the type of clothes they wore. They rented an old house in Banyoles in summer, and I spent all my savings on staying with them for 10 days, although not of course without the inevitable struggle to get my parents' permission. I was 17 years old, I was a student and I had no income. I had a wonderful time there living the hippie life, discovering a happy world of smoke, alcohol, and sex. But my greatest discovery came just before I went home, on the 30th. When I got up, there was no one at home; they had all gone straight to the bank to check their bank books, to make sure that their mommies and daddies hadn't forgotten to send them their monthly bank transfer. That night I was home again ... fortunately, or unfortunately, I had little in common with those hippies: I belonged to the working classes and everything had to be earned through effort; less extreme but more honorable.\",\n",
              " 'From the first-person perspective, write an emotional narrative with maximum 200 words about: friends and party and living abroad <sep> Three years ago, when I was living in the Netherlands, a fellow student (who is now a close friend of mine) invited me to his home one Saturday, to meet his family, his wife and his two charming children. He told me to drop by at 18:00. Well, as I was from Spain and I\\'d never been invited to anybody\\'s home in that country before, I wasn\\'t too sure of what they would be offering me. If someone in Spain invites you to his home at 18:00, you can expect a few snacks and then, finally, the evening meal. The family was Polish, which meant that we drank lots of beer that night. Fortunately, they didn\\'t get the vodka out. Anyway, by 21:00 I was hungry and extremely drunk. I couldn\\'t keep up with the way they drank, and so I told them I was leaving. They were absolutely amazed. \"But it\\'s only 9 o\\'clock!\" they said. \"Yes, but if I carry on drinking without eating anything, I might end up throwing up on your sofa.\" \"Wait ... haven\\'t you had any supper?\" In the end they gave me the leftovers from their supper so that I didn\\'t die of alcohol poisoning.',\n",
              " 'From the first-person perspective, write an emotional narrative with maximum 200 words about: family and food and traveling <sep> Last summer, my boyfriend and I spent two weeks traveling around Croatia, and we visited the families of three friends. Their mothers were all excellent cooks, even though they did give us too much to eat. It was virtually impossible to eat everything they served us. It was all excellent and home-made (the bread, the pasta, and even the noodles for the soup). A normal meal included soup, salad, meat (at least two types), sometimes rice and then fruit and little cakes. At least five different types of home-made cakes. And then they brought out the chocolate with the coffee. In the end, we were worried that it might seem rude if we said we couldn\\'t eat any more, but we decided to be proactive and do something about it. And so, after a particularly copious lunch, we went to brush our teeth. It seemed to be the perfect plan. When they asked us if we wanted anything else to eat, we replied to our friend\\'s mother, \"No, I\\'m sorry, we just brushed our teeth.\" But with a broad smile, she just said, \"Well, you can brush them again afterwards.\" And so we gave in, admitted defeat and went on eating.',\n",
              " \"From the first-person perspective, write an emotional narrative with maximum 200 words about: traveling and missed flight <sep> It was early August and there was a group of us friends traveling to Sicily. The airport was quite crowded, but we had gone there with time to spare, and we felt more like having a coffee than queuing up to check in. Even though we were sitting right in front of the check-in desks, and we saw that the queue wasn't moving, we weren't fazed at all, we were happy to be on holiday. An hour and a half before the flight was due to leave, we went to check in. But of course, the queue continued to crawl forward at the same speed. We never heard the famous 'Last call,' and half an hour before the plane was due to leave, we went to complain to the airline. The first thing they did was to tell us off for not keeping an eye on the time, the next was to tell us that we wouldn't be able to catch our flight, and we'd have to delay our departure for three days, which would mean we'd only have four days of vacation. We were all beset by anxiety, nervousness and hysteria, but we didn't give into the idea that all was lost. We asked for provisional tickets, we went through the security check with suitcases that were too large, containers more than 100ml in size and all kinds of sharp, pointed tools and objects. And thanks to everybody's patience and generosity, we finally managed to reach our destination.\",\n",
              " \"From the first-person perspective, write an emotional narrative with maximum 200 words about: sports and winning <sep> I was very excited because my football team had reached the final of the King's Cup. It was the first time this had happened in the club's history, and neither I nor my friends wanted to miss the match. We bought our tickets on the day they went on sale, and we managed to get tickets for three seats together. We were so excited! The day arrived, and with it all the preparations for the big event: the sandwiches, the scarves, the flags with the club insignia. We even painted our faces in the team's colors. The stadium was amazing, and each team's fans were yelling with all their might. How exciting! But the most exciting thing was the match, because the other team scored first, and it seemed impossible that we could score two goals. But our shouts of encouragement seemed to have an effect, and in the end, as if by magic, our team scored twice and won the cup. We were overjoyed, and we celebrated noisily, both in the stadium and then later on outside it.\",\n",
              " \"From the first-person perspective, write an emotional narrative with maximum 200 words about: job interview <sep> I can still remember my first job interview. Needless to say, I was extremely nervous, even in the days leading up to it. I tried to prepare myself as well as I could, trying to think what they might ask me and what I should know about the company so as to give suitable answers. Then I spent ages trying to decide what to wear, in order to make the right impression: should I wear this shirt, these trousers, these shoes or those ones ...? Every little thing was a fresh source of stress for me! When the day arrived, I was a quivering mess. I had hardly slept, I felt extremely tired and my mouth was dry. My hands were sweating and I didn't know where to put them. When I went into the room, there was a woman interviewer and a man whom I presumed was one of the company's bosses. She was very nice to me, trying to make the situation more relaxed. But my mind went completely blank when she started the interview speaking in English. Why hadn't I thought of that? I'll never forget it for the rest of my life.\",\n",
              " \"From the first-person perspective, write an emotional narrative with maximum 200 words about: plant and death <sep> On my birthday, someone gave me a bonsai olive tree. It was lovely! I have a little garden with a few plants, and I thought it would do just fine in a little corner which gets the sun both in summer and winter. And so I put it there. I had no idea how to look after bonsais, but I thought that if it grew, I would plant it in the same spot where I had put it. I really liked the idea of having a nice olive tree, and I liked the idea of the olives even more! However, that year, during the winter, I was studying for some really difficult public examinations. I had to pass them, and with decent marks, or I would end up on the street. All my efforts went into studying, and it didn't occur to me that it was too cold outside for the poor bonsai. When the examinations were finally over and winter gave way to some warmer days, I discovered, sadly, that the poor olive tree hadn't survived the frost. I felt really bad about that.\",\n",
              " \"From the first-person perspective, write an emotional narrative with maximum 200 words about: surgery and illness <sep> A couple of years ago or so I decided to have an eye operation – the well-known laser treatment. It's not that I was particularly short-sighted; it's just that it meant I had to wear glasses all the time, and I love doing sports. After they'd done all the tests to see whether my case could be treated satisfactorily, it was time for the operation. So, one day at the clinic, two days putting drops in my eyes and, in theory, on the third day I should be able to see without using glasses. Unfortunately, this didn't turn out to be the case with my right eye. A stubborn white layer meant that I couldn't see anything very clearly. The days went by, more drops in my eyes, more trips to the clinic, more waiting, more patience, more drops in my eyes, and more trips. Then they started reeling out all the statistics, and the fact that there was a 0.0001% chance that I might have developed an infection. There had only been one similar case before, there were no other precedents, no expected time frame, my blurry vision could last for a month or for years … more drops in my eyes, more trips to the clinic, more patience and resignation: I was the one from the statistics.\",\n",
              " \"From the first-person perspective, write an emotional narrative with maximum 200 words about: exam and study <sep> At last I've done it! Two years after having finished high school with rather low marks, I thought I wasn't going to manage it. After having taken the university entrance exams twice, I had almost thrown in the towel. But the second time I managed to score higher marks in a section that I didn't think I could improve in, though even so I was still a few percentage points below the mark that I needed to get into university. However, these percentage points didn't turn out to be decisive, and the good news arrived. At last I had got into university! I remember receiving that message on my mobile phone telling me I'd been accepted onto the education course. Naturally, I've still got that message; I didn't want to delete it, and I still open it sometimes, just to remember that moment when I let out a yell of satisfaction. I am so happy to have finally achieved what I set out to do, and I know that I'm really going to enjoy the next four years. From now on, nothing's going to stop me!\",\n",
              " \"From the first-person perspective, write an emotional narrative with maximum 200 words about: work and farewell <sep> Summer was almost over and the day was fast approaching when I would have to leave my home town and go off to a new city. It was also my last week at work. During all this time, I had been experiencing mixed emotions – melancholy, sadness, as well as happiness and anticipation, because I was leaving a job where I had made some great friends while doing my teacher training. Every day my farewell was drawing closer; I dreaded that day because I really don't like goodbyes at all, but instead it turned out to be one of my best days – my locker had been filled with surprises and there was a lovely note from all my colleagues. But that wasn't all – my friends and family had got together to organize a party, and when I left work and went out into the car park to find my car, there was a huge banner waiting for me: all my friends and family were waiting for me, to take me to my party. Those were moments that I'll never forget, and for which I'll always be grateful to those people.\",\n",
              " 'From the first-person perspective, write an emotional narrative with maximum 200 words about: death and friend <sep> I got a call from Maria. Earlier she\\'d sent me a WhatsApp to ask me to make sure that when we talked, my husband was there. My husband\\'s an artist and I thought she wanted to buy some work from him, but when she spoke to me, everything seemed completely unreal. \"I\\'ve got some really bad news for you. Something dreadful. Mike has committed suicide.\" \"No! I don\\'t believe it!\" I said. She continued, sobbing as she spoke: \"He couldn\\'t stand all that suffering, and the idea of going back to school after the holidays just brought him to a state of collapse. No sooner had he come home, the next day, when he was left alone for a moment, he took his chance and jumped off the balcony. You know we live on the seventh floor. He died instantly.\" \"Oh God, Maria!\" \"I arrived at the building and the police were outside, there were lots of people looking at the ground. All I can remember is seeing that the person lying there had blond hair. He was my angel.\" \"Oh God, Maria!\" Mike was 14 years old and it was only a week ago that we\\'d had dinner with his parents. My eyes filled with suffering. Why is life so cruel? I took a long time to get over that.',\n",
              " \"From the first-person perspective, write an emotional narrative with maximum 200 words about: party and romance <sep> That year's local festival was a very special one. The night was very clear and calm, one of those nights that make you put on a sweater, unless you're going to be dancing and jumping around all the time. Which is what I was doing. What a wonderful night! There were some great bands playing in all the town's squares, and people were going from one to another, having fun, leaping about and dancing. You said hello to everyone, and everyone hugged and kissed you. There was a really good atmosphere. As the night wore on, people started going home, but I stayed on chatting to a boy. He suggested that we go and watch the sunrise from an unusual spot on the mountain. We walked along, talking and enjoying the countryside, and then we sat on a big rock that gave us a wonderful view of the valley, and the sun began to warm us. The day had arrived, but the magic of the night continued in that quiet, inhospitable place. It was a really nice end to the festival.\",\n",
              " \"From the first-person perspective, write an emotional narrative with maximum 200 words about: friends and abuse <sep> I went to live in another city, and I needed to find a shared apartment where I could stay for a year. After three weeks of intense searching, I found the perfect flat. It was small, cozy, near a Metro station and a bus stop, and I'd be sharing with a girl and a boy. The boy was very friendly. As soon as I moved in I became great friends with him. It was a bit more difficult with her. She hardly spoke and never left her room. We became worried, and so we knocked on her door to ask if she wanted to eat with us, but we couldn't persuade her to come out. Finally, a while later, an episode took place that was quite unpleasant for all of us. Her ex-partner came to see her: he wanted his belongings back. As she was afraid of his bad temper, she didn't want to let him in, so we suggested that she pass him his things down from the balcony, and that's what she did. After a long argument, which had all the neighbors listening, and a good deal of insults and yelling, our flatmate shut the window and told us all about what had gone on between them, and afterwards we understood why she'd been behaving so strangely up until now. From that day on, we tried to give her our support and make her feel better.\",\n",
              " \"From the first-person perspective, write an emotional narrative with maximum 200 words about: snake and harrassment and rescue <sep> I can see Sabine. She's lying on her back. In the distance, I can hear footsteps; behind the wooden fence, something's creaking. A silent breeze caresses her face. Her foot hurts. Sabine can't see it beneath the grass. Her shoe is still hanging from the fence. When I see her face, it's a real shock for me. I feel dizzy. Sabine is pale, her face is white. She must be scared, but she looks at me peacefully with a little smile despite the pain. The footsteps are getting closer. I don't know what to do. A little snake weaves its way through the fence and disappears into the long grass. The footsteps are getting louder. The person must be behind the garage. The light over the windscreen is flashing. It goes silent. The wind glides softly and silently over us. There's a click behind the garage. A piece of metal is turning, making a noise. Sabine starts to yell. Suddenly, the two men are here. The stretcher makes a click when they open it up.\",\n",
              " 'From the first-person perspective, write an emotional narrative with maximum 200 words about: work and harrassment <sep> It was a case of harassment in the workplace. For two years we experienced harassment at work, which took the form of being humiliated in front of customers and unjustified rebukes that had nothing to do with the job. At first, the workers stuck together, but later, gradually, a few people allowed themselves to be lured over to the side of the harasser. This situation left us ostracized from the group, and we gradually developed a feeling of inferiority and self-deprecation. This lack of confidence, together with physical threat, only grew – he regularly forced us to wait until the last minute before he let us into the factory. Sometimes we had to wait in the car park, in our cars, for 20 minutes. Two years later, even though we no longer work for that person, we still avoid going past or even looking at the factory because of the bad memories and negative feelings that it brought us. Naturally, this process of harassment was accompanied by an increasing disparagement within our working environment.',\n",
              " \"From the first-person perspective, write an emotional narrative with maximum 200 words about: depression and death <sep> Death. I see it, I feel it, I analyze it. All my body, my very being, becomes frozen and paralyzed. These symptoms tend to appear at certain specific moments. In the mornings, when the color and the spice of life were taken from me, I am overtaken by an emptiness that causes me to become amorphous, lost and purposeless. Why go on? These few seconds, minutes, become crystallized in time. All I can see is a spectrum of gray tones, spread out before me. Night-time is when the silence and loneliness come to visit me. As if a tornado has arrived to overstimulate all my body's nerve fibers, I am gradually seized by panic, until I suffer from nothingness. I imagine my body – now more awake than ever – 6 feet underground, disappeared into a vast ocean of invisible particles. There it is: the whole contradiction of my being, the light and dark side, back and forth. The calm and the storm. The depressive and the anxiogenic. Although they get on so well together.\",\n",
              " \"From the first-person perspective, write an emotional narrative with maximum 200 words about: sport <sep> At that time I was in my fourth year at secondary school. We played different sports in Physical Education, such as football, and they gave us an exam on it. One of the tasks involved keeping the ball up, bouncing it straight up on your thigh, 10 times, without letting it hit the ground. I was very clumsy and awkward, and so to pass this part of the exam I used to train wherever I could, whenever I could. One day, when I was wearing (fortunately?!) a miniskirt and tights, I shut myself away in the study to do my homework, as I always did. When I was tired of studying, I decided to practice the football exercise for a while. And so, with my short skirt rolled up to my waist, so I could move more easily, I began playing keep-up with the ball. I was concentrating so hard that I didn't hear my brother – who's three years younger than me – come home with his friends. When they opened the study door, I almost died of fright! And you can't imagine the expressions on the faces of those poor boys!\",\n",
              " 'From the first-person perspective, write an emotional narrative with maximum 200 words about: children and mischief <sep> When I was a teenager, we used to spend our holidays on the coast. We would meet up with boys and girls who we played with, and sometimes we used to get into mischief. There was a seafront promenade with a little wall that must have been half a meter high, tall enough for us to hide behind if we crouched down low. In the evening, a tractor would turn up to clean the sand, dragging a piece of wood behind it that left the sand completely flat. Every so often, one of us naughty children would jump onto the wood and let ourselves be dragged along the beach. This really annoyed the tractor driver, because it was a bit dangerous, I suppose. But as we knew that it got on his nerves, one evening when there weren\\'t many people on the promenade, we hid behind the wall and when the tractor passed by, we started frantically shouting: \"Get off, Juan! Get off or he\\'ll see you!\" The good man slowed the tractor down and tried to see if there were any of us rascals hanging on to it. But finally, since he couldn\\'t see anyone, and he could still hear us shouting, he stopped the tractor and got off to see what was going on. Unable to contain our laughter, we all ran away so he couldn\\'t tell us off.',\n",
              " \"From the first-person perspective, write an emotional narrative with maximum 200 words about: depression and family <sep> Sometimes, when I listen to Clara talking, and when she tells me how tired she is, I begin to feel scared. Clara often says she could easily slip out through the window; that she'd like to leave it all behind. She's got two children, and they try not to cause her any problems: they don't take drugs or drink, they're easy-going and studious. They're grown-ups now, and they try to find time to be with her. They listen to her without dismissing what she says, without criticizing her thoughts. And when they don't agree with her, they try to make her understand in as gentle a way as possible. They don't want to be nasty or to hurt her. She's had enough setbacks in her life. She says it's not her fault. They think the opposite, because sometimes, when she's talking, what she says suggests a lot more than you might imagine. When she starts recalling times in the past, her children suddenly feel afraid. But they don't dare say that to her because they're scared of upsetting her or making her angry. She carries on talking in spite of their woebegone expressions. Maybe they also feel partly responsible for her sense of unease.\",\n",
              " \"From the first-person perspective, write an emotional narrative with maximum 200 words about: break-up <sep> They say that you have to suffer in love to know what love really is. But the fact is, nobody knows what pain really is if you don't suffer it together. Now I know: it's a pain that stabs you in the heart, over and over again, endlessly. Right now, I'm overpowered by emptiness; I'm no longer'me': you took my heart away when you left, and you destroyed everything in your path. I have nothing left, I can't even breathe. The tears won't stop rolling down my cheeks; sleep and appetite have become strangers to me, as my old demons seize hold of me again. This game, our game, which was good for me, for us. You warned me that playing it so much, I might end up getting burned. But without the game I wouldn't have had the chance to discover what loving is, suffering completely, no longer fearing anything. You'll always be my first love, my strength, but also my weakness. At this moment, I've lost, I lay down my weapons, but I'm down on the ground. You've won, and I've lost everything.\",\n",
              " \"From the first-person perspective, write an emotional narrative with maximum 200 words about: abuse <sep> Why did you take what was mine, and then go off like a thief? He never should have done that. The smell is still here, the reddish color penetrating the ground. He should never, ever have done that, he had no right to do it, I was only 10 years old. My mother stands in front of me with a knife in her hand; she doesn't judge me, she takes me in her arms to protect me from this monster who wants to take my childhood from me. I'll never feel like smiling again, or even want to live. You can't grow up with what we suffered during our entire childhood; either someone saves you or the damage is done, since long ago. I can smell something burning, but I remain motionless in the car, as my mother starts the engine. We leave. I don't know where we're going, or how long we drive for, but we drive. And so we travel through entire cities, chasing all those men who are so evil that they attack innocent souls, whether it's in the street, at school or in the family. We will bring these people justice, whether they are women or men.\",\n",
              " \"From the first-person perspective, write an emotional narrative with maximum 200 words about: death and friend <sep> I'm sitting, no, I'm half lying on the bed where my best friend is going to die. It was a treacherous hope. Now it's all over. The verdict was pronounced this morning in the November sunshine, in the pale, thin sun light. Is it my sense that he should be pale and ashen now? Is it my heart that urges for darkness, for the blackness of the night? I feel anger and powerlessness. Outside there is still the sunshine and quiet traffic noise, the daily hustle and bustle that urges agonizingly and sullenly into my feelings. Everything's disgusting. He wants me to go, let him die alone. He's not saying it. We don't talk. But the eyes say it and cut deep into my heart. I beg with my eyes. I hate everything, I hate this damn little gland that's been draining my best friend for weeks, that's been stealing his life. I hate the sunshine that shines on it all. I hate the world that keeps rotating like nothing's happened.\",\n",
              " 'From the first-person perspective, write an emotional narrative with maximum 200 words about: depression and loss <sep> Nostalgia. It\\'s raining and I\\'m just sitting here. A thunderstorm has been going on for days. The storm rages outside – and inside me. My parents don\\'t see it. \"It will soon clear up and all will be good again.\" But how can I explain to them that it is raining, even when the sun shines, that it pelts down, even when there is not a breeze. How could they understand that I miss you, even when you\\'re next to me? And now you\\'re gone. Go! But don\\'t forget me. Put me gently into the bitter past, but never forget me! Remember me when you fall in love. Remember me when you\\'re so happy it hurts. Remember even when everything goes wrong and you don\\'t know what to do. Because I\\'ll remember you. I hope you\\'re happy, there where you are now. And I hope the sun shines every day. It\\'s raining here and I\\'m just sitting here.',\n",
              " \"From the first-person perspective, write an emotional narrative with maximum 200 words about: romance <sep> You. As I saw you for the first time, you reminded me of a song. It was a song I heard a long time ago and forgot again. For me it was like déjà vu: seeing you was just like hearing the song. That moment was magical. It was far too magical for me to move. You felt it, too, just like me. So, we stood still, motionless, until the short moment was over. At the time, we didn't know the song was written in G minor. We were not aware of that. We just felt it. The feeling has stayed and won't let go of me. Now I miss the time before that, the time before you reminded me how it could be. It was so much easier when I could go to bed at night without knowing that there was someone like you out there – without knowing that there was someone who reminded me of G minor – without knowing what G minor felt like.\",\n",
              " 'From the first-person perspective, write an emotional narrative with maximum 200 words about: death and friend <sep> I\\'ve known Emmi for years. She was in therapy with me for her walking difficulties. We developed a friendship. To me, she was a wise woman. Two months ago, I started treating her at home. When I visited her a couple of days ago, she was sleeping in a wheelchair. I had a strange feeling. As she woke up for a short moment, she was very confused and seemed to come to me from afar. I sat at her feet and intuitively massaged her swollen legs. There was something in the air. As I sat before her, the image of the last anointing came to me. That touched me very much. Tears ran down my cheeks. Emmi felt my tears and although she was fast asleep again, she mumbled, \"Everything will be fine.\" I struggled with my grief when the family doctor came and confirmed my feelings. Emmi\\'s blood tests are bad: her foot needs to be amputated. After a short period of reflection, Emmi decided against it, she was willing to die. Three weeks later she found peace, but her dying was still strenuous.',\n",
              " \"From the first-person perspective, write an emotional narrative with maximum 200 words about: nature and paragliding <sep> The alpine herbs smell wonderfully fresh in the morning hours. Place the paraglider on the cool grass and start running. Then it's like a stroke of a bird's wing and I … float. I look east to the Finsteraarhorn and west to the Matterhorn and feel in awe of these white peaks, above them the blue of the sky. I reach out with my arms and embrace the whole world with happiness. An eagle flies directly toward me. Just in front of me it veers away, flies to my left wing and we turn our circles. My heart bounces – flying with an eagle means bliss to me. The eagle swings up faster to new heights and I see the red peaks in the south. The forest shines in the sun's rays from yellow to light green to dark green. Time to land – I look at my meadow and land gently like an angel on Earth. What remains is the wonderful feeling, a flight – an unforgettable, fascinating experience.\",\n",
              " \"From the first-person perspective, write an emotional narrative with maximum 200 words about: romance and sexual <sep> I want to kiss you! Often! And everywhere. I want to have water fights with you while brushing our teeth. I want to be tickled until I can't breathe anymore, and at breakfast touch your feet under the table. I want to be protected by you and protect you. I want to sing and dance with you. I wish you didn't feel completely whole without me. I want to talk into the morning. I want to walk in the rain with you and kiss your face, wet from the rain. Eat warm cookies with you in my favorite wool socks and listen to nice music. There's nothing better than waking up beside you. I want to drown in your eyes and feel at home. My t-shirts should hang next to your socks on the clothesline and your voice should give me goose bumps. I want to spend a lot of time with you and mutual friends. I don't want to be able to wait to be alone with you again, though. And when you cry, I will comfort you and be strong. I want to cry at night with happiness when we make love. Again, and again!\",\n",
              " \"From the first-person perspective, write an emotional narrative with maximum 200 words about: friend and abuse <sep> She wrote me a lot in the last few weeks. She told me how badly she is doing, what kind of pain she is in and that she can't work anymore because of it. I just met her. She was talking and couldn't stop. Her gaze was so restless, scurrying back and forth like a chased wounded animal. Now I am at home and my tears are running down my cheeks constantly. I try to calm down, inhale and exhale deeply again. It's unbelievable! I always knew. Now it's certainty. She was not the only one who had to live through all the horrible things. No, she was not the only one in this family who had to endure this pain and injury to body and soul. Two sisters also share her fate. It takes my breath away and I feel such an infinite pain in my chest! Inhale ... exhale ... don't let the emotional pain take its toll. Compassion, yes, but no pity, would it help her? But it's so unbelievable!\",\n",
              " \"From the first-person perspective, write an emotional narrative with maximum 200 words about: bullying <sep> The fear tastes of sour milk. Deceitfully, it attacks me, which is the last thing I need. My heart beats as fast as the wings of a hummingbird. Don't lose your courage! In my belly, a large lump forms and is rolled around by my nervousness. My hands are shaking, I have hot and cold flashes. My knees almost buckle, but I force them to keep standing. I'm ordering my body to move on. I command my eyes not to get stuck on you and go on with a smile on my lips. I obey myself. I ignore you. I noticed your sideways glance. You're jealous. I'm proud. I've managed to rise up from nobody, and now I can look down on you. You, of all people, the person who wore me down all my life. Laughed at me, side-lined me, excluded me. I confronted my tyrant. And you lost.\",\n",
              " 'From the first-person perspective, write an emotional narrative with maximum 200 words about: captivity <sep> Where am I here? It\\'s dark and damp. A basement? What was that? Somebody\\'s screaming. A long, wailing cry. As if he was in pain. There it goes again! Am I imagining this or did it really sound closer? And what was that laugh? It sounded like it was enjoying the suffering. I\\'m scared. Where am I? Maybe I should go see where the voices come from? No, certainly not. I\\'ve seen enough horror movies. That would be my sure death. Oh, God. There it was again. And even louder than before. Are they coming my way?! No, no, I\\'m getting all paranoid here. Come on, move and find an exit. But quietly. Otherwise they\\'ll hear me. What would I give for some light. Ouch! I don\\'t even want to know what kind of puddle that is. It feels warm and sticky. I still have a lighter. Shit! \"That\\'s blood!\" \"Yes, and it will soon mix with yours.\" \"AAAAAAAAAAAAAAAAH!\"',\n",
              " \"From the first-person perspective, write an emotional narrative with maximum 200 words about: nature and diving and traveling <sep> The Maldives are beautiful. I am sitting in a boat with a dozen fellow divers; in order to, in a couple of seconds, take the first vacation dive in the water with my dear wife. Slowly we glide down to a depth of 30 meters, where the dive guide takes us into a fascinating underwater world. We dive on a reef with medusas, corals and a lot of small colorful fish, as the guide signals us that we, the last ones still in water, should surface independently. Then he disappears and we have the sea all to ourselves when it suddenly gets dark. Baffled, we look up and see three huge manta rays which sail elegantly through the water and make a looping right in front of us. Wow – every diver's dream has come true. This experience of shared joy makes me smile even decades later. Thank you, dear mantas, for this unforgettable moment!\",\n",
              " 'From the first-person perspective, write an emotional narrative with maximum 200 words about: family and accident and traveling <sep> With a drink in my hand I\\'m sitting at the pool bar of my holiday hotel in the middle of Chiang-Mai, Thailand. I like watching my little daughter splashing in the water. Since she can swim well, she is allowed to go into the deep pool, which she obviously enjoys. Briefly, I turn my gaze away to look at my watch. When I want to dedicate myself to my daughter again, I am surprised to see her drifting flat on the water with her face down, completely motionless. My heart seems to stand still and my head knows only one thought: swimming accident! I can\\'t think of anything better than calling her name immediately because I can\\'t believe what I see. And the miracle happens: she lifts her head out of the water and asks, \"Hello Daddy, what is it?\" A weight drops off my chest and I ask, \"What are you doing?\" She answers, \"You know, Daddy, I\\'m playing dead: I\\'m quite good at it.\"',\n",
              " 'From the first-person perspective, write an emotional narrative with maximum 200 words about: parachuting <sep> Finally, the time has come: the two-week skydiving course in beautiful Ticino begins. After a lot of theory and practical parachute packing, the day finally comes to get up in the air. So far, we have laughed a lot and encouraged each other. But now it\\'s got serious. We\\'re in the middle of a climb. Somehow now everything is different than expected. I look directly into the fearful face of Mario, who immediately infects me. I\\'ve never seen Mario with such frightened eyes before and I can think of a thousand reasons why I shouldn\\'t be here right now. Then he jumps and I see it turns him right on his back – the worst thing that can happen! Now it\\'s my turn – I jump ... black out ... I notice how the glider slows me down and come back to my senses. On the ground I ask my instructor: what happened? He says, \"Sensory overload, everyone has it – but we never tell them this in advance, otherwise the fear is even greater.',\n",
              " \"From the first-person perspective, write an emotional narrative with maximum 200 words about: taxidriver and detour and traveling <sep> My dear wife and I are in Bangkok, it's hot and dusty and I'm carrying a 2-year-old child on my arm. Our goal: The Childcare Residence at the Sukhumvit, a 10-km long road. We have to register our newly adopted child there. We stop a taxi driver to take us to number 3465. Soon we're at our supposed destination and are looking for the building. Then we find out that we landed at 11224 and therefore decide to go to the destination on foot. After a felt hour of walking we reach number 7563 and decide to take another taxi. The next driver assures us that he knows the destination and so we drive to the mentioned place. Soon we'll realize that we've landed at 4877. After another 30 minutes of walking we finally reach our destination, bathed in sweat. Later we learn that the taxi drivers judge the house numbers only by feeling or find them unimportant. That still upsets me to this day!\",\n",
              " 'From the first-person perspective, write an emotional narrative with maximum 200 words about: family and pet and death <sep> I am at the tram station and pick up my little daughter, who has just been on an excursion with her class. She gets out last, with hanging head and tears in her eyes. I ask the teacher what happened. He has no idea and tells me that she was fun and bright all day long. I ask my daughter and she sobs something about a dog. Then her friend comes along and explains that our neighbor\\'s dog has died. He had to be put to sleep for health reasons, and she just found out. I take my daughter in my arms and say: \"The dog had to be put to sleep, that was certainly the best thing for him. But I don\\'t understand why you\\'re so sad. You have hardly ever seen the dog and perhaps patted it twice.\" She replies: \"Yes, that\\'s true, but I heard it every day. He used to bark and I knew he was there. Now he\\'s gone and I miss his barking.\"',\n",
              " 'From the first-person perspective, write an emotional narrative with maximum 200 words about: friend and food <sep> After dancing late in the evening, I drive my girlfriend home. On the way, she asks me if I have anything edible in the car. \"Yes, sure,\" I say, \"I have a bar of chocolate in my glove compartment; you are welcome to taste it.\" As I drive, she grabs the chocolate out of my glove compartment, breaks off piece by piece and eats it with pleasure. I am pleased to be able to do her a small service and I am happy to let her do it. Having arrived at the destination, she thanks me for the culinary enjoyment and mentions that she has never eaten this chocolate with chocolate sprinkles. I do not quite understand what she means and I think it is appropriate to inspect the chocolate. So, I turn on the interior light in the car and take a closer look at what is on offer. What I see exceeds my expectations by far: these sprinkles on the chocolate are little white maggots that spin and twist! Chocolate in the car has therefore become taboo since then.',\n",
              " 'From the first-person perspective, write an emotional narrative with maximum 200 words about: deception and traveling <sep> Dakar, in the center of West Africa. I had taken a course in African drumming and had come here to get maracas for our drum group. A little wandering around as a white man in Dakar is enough to be approached by various people, what one wants here. My answer was always, \"I\\'m looking for maracas.\" At some point, I found someone who was willing to sell me some of these. However, he wanted to get the money in advance, justifying the purchase of raw materials. I agreed on the following: pre-payment of 9 Euro for a trial delivery of three rattles and then we will see further. A further meeting was arranged. But nobody came to the meeting. I didn\\'t think anything bad about it, maybe my contact person was somehow prevented. A few days later, however, I happened to meet the very person again in a street café. When I asked where the rattles were, the answer came: \"I don\\'t know you.\" With deep contempt, I said goodbye.',\n",
              " 'From the first-person perspective, write an emotional narrative with maximum 200 words about: moped and accident <sep> I am just 14 years old when I drive my moped from a side street to a main road, where the vehicles are standing due to a red traffic light. As I brake, my brake cable tears and I backpedal with all my strength, start to lean and fall. My moped slides directly under a truck standing on the main road. Now I realize that I will be run over as soon as the red traffic light of the main road changes to green. I\\'m trapped right underneath the truck and I can\\'t free myself. Now the light turns green and the vehicles start, only my truck is still standing still. I\\'m trapped waiting for what\\'s going to happen now, assuming it\\'s going to be awful for me. A man comes up to me and says, \"Hey, boy, I saw you slipping under my truck in the rear-view mirror, I\\'ll pull you out right away.\" I don\\'t know the name of this man, but to this day I\\'m indefinitely grateful to him.',\n",
              " \"From the first-person perspective, write an emotional narrative with maximum 200 words about: scooter and accident <sep> I am only 10 years old when I ride with my sister over the Sankt-Alban-Bridge in Basel on a scooter. We drive on the sidewalk and directly to the left of us we see the cars in their own lane. Out of carelessness, I suddenly fall to the ground directly onto the car lane, where the cars are moving at high speed. Now I'm lying directly on the road and I see a car approaching, which frightens me enormously. I can't get up fast enough to save myself. But something unexpected happens, my legs are pulled straight up and the car rushes past me without touching me. Without this reaction, it would have run over my legs. I get myself onto the sidewalk as soon as I can, into my sister's arms. My reaction is certainly due to my guardian angel, which is why I (now 55 years old) would like to dedicate these lines to him in gratitude.\",\n",
              " \"From the first-person perspective, write an emotional narrative with maximum 200 words about: paraglider <sep> As a girl, I was looking forward to a sports festival, especially because a paraglider pilot was supposed to land. Finally, it was 3 pm and I saw the paraglider flying high up in the air. We kids loved it. But soon the paraglider was forgotten. When I remembered that the paraglider was still supposed to land, I looked up to see if I could find him. He was already on his way to the sports field and the pilot's legs were about 1 meter above me. I got scared and started screaming and running away. However, in landing, the paraglider pilot continued to fly over me until he hit the ground after having pivoted to the side. My parents first thought I had been stung by a bee because I was screaming so much. But I was panicked and I would not be appeased. Up to this day I can't look up into the sky when a paraglider is flying around.\",\n",
              " \"From the first-person perspective, write an emotional narrative with maximum 200 words about: office and work <sep> It's an ordinary Tuesday morning in the office. I'm sitting on my office chair in front of my computer and am waiting until it boots. Then I hear a gentle ping. Like the sound of the proverbial pin falling to the ground. It's not a pin, it's a paper clip. Where did it come from? I don't have any paper clips anymore since I switched my office to paperless. I eyeball the utensil and I don't know why I'm doing this. It's a simple paper clip. A small piece of bent metal wire with which you can hold sheets of paper together and later loosen them again. I wonder who invented it. How did the inventor come up with the idea? Did they just think of it that way? The inventor must have worked on it for a while. Maybe even years. Was it his life's work? If so, did he get any credit for it? Maybe I'll get to the root of it sometime. Someday. But not now: now, back to work.\",\n",
              " \"From the first-person perspective, write an emotional narrative with maximum 200 words about: shopping <sep> Shortly after work I enter the supermarket, which is right around the corner. Because of it's proximity, I almost always shop here. The shopping trolleys are right next to the entrance. I dig a coin out of my pocket and slide it into the coin compartment of the next trolley. With a single jerk, I pull the trolley out of the line-up and find the shopping list in my pocket. The writing on it is almost indecipherable. I steer the trolley through the various departments of the supermarket and keep an eye out for all the items I need according to the list. Apple, milk, eggs, sugar and flour all end up in my trolley one by one. Many other products try to tempt me, but I remain steadfast and go straight to the checkout. I pay for my purchases in cash and head home to bake an apple pie.\",\n",
              " 'From the first-person perspective, write an emotional narrative with maximum 200 words about: walk and horses <sep> The day was almost over. In my thoughts, I recall it in my mind. I took a detour and walked across the fields bordering the country road. In the distance, I could see a small forest. After some time, I reached a pasture, which was about halfway between the country road and the small forest. On the pasture there were two horses, a big black one and a small brown one. One grazed further to the back of the pasture, while the other one stood at the fence next to a cart track. They both seemed to be ignoring me. At the end of the cart track there was a car with an open trunk. In the back of the car were various brushes and other horse-care utensils. A middle-aged man, apparently the owner of the horses, got out of the car and greeted me. I talked to him for a moment and then continued on my way home.',\n",
              " \"From the first-person perspective, write an emotional narrative with maximum 200 words about: family and flight cancelation and traveling <sep> It was during my Erasmus semester, the European student exchange program. During the Christmas season, I wanted to fly home to finally see my family again, after several months. On arriving at the airport, it was impossible to depart because of the bad weather. There was very dense fog. I waited all afternoon without any new information about when we would finally depart. At 7 p.m., we finally got the announcement that my flight was cancelled. I felt an enormous sadness at the thought of not being able to see my family that evening. I didn't want to go back to my student apartment an hour away. So, I walked around the airport for hours trying to find an alternative flight. Only at five o'clock in the morning of the following day did I manage to get a flight home. I was totally exhausted and tired. After another hour of delay, we finally were able to take off.\",\n",
              " \"From the first-person perspective, write an emotional narrative with maximum 200 words about: family and death and traveling <sep> It was a summer evening, our last evening of holidays with my aunt and uncle. Midnight had passed, the world was asleep, except for me, who was still surfing the Internet. It was a rather peaceful evening, perhaps even too peaceful. Suddenly my mother's phone started ringing. Worried by the late call and even more so as it was my grandmother calling, I woke my mother up and handed her the phone. I observed her reaction and tried to understand the few words I could hear. My mother's face distorted: she hurried to wake up my father and also my uncle and my aunt. My grandmother had said that my brother had not come home that night. I finally fell asleep, worried. When I woke up in the morning, I immediately felt something was wrong. Everyone packed their bags, even my aunt and uncle, even though they lived here. It was Dad who ended the tormenting tension when he told us that my brother had been murdered.\",\n",
              " \"From the first-person perspective, write an emotional narrative with maximum 200 words about: break-up and jealousy <sep> I am watching her from a distance. As if it is not enough that she broke my heart, she is chit-chatting with that guy. Like you're testing me. And I am trying to make conversation with this girl for you to see. I asked whether you would talk to me and you didn't even answer. I can't listen to this girl near me from looking at you, but you don't know that either. You probably don't care what I do, who I am talking to: you said it's over this morning, and that's it for you isn't it? That guy is flirting with you right before my eyes and you don't even look at me. This girl is trying to flirt with me, too: at last she asks me if I have a girlfriend and I tell her to go and ask you. She goes to you and asks: you say no, it breaks my heart. She comes back to me with a smile. I continue to talk with her. He puts his arm around your waist and you leave together. As you leave I hug this girl and watch you walk away behind her hair. Even though you are far away, I can still hear your laughter.\",\n",
              " \"From the first-person perspective, write an emotional narrative with maximum 200 words about: dog attack <sep> It was mid-afternoon and the dog's barking was mixed with children screaming. Then came the angry swearing. I went outside to see what was going on: a father was trying to protect his kid while hitting the dog with a club. And animal lovers around were attacking the father for hitting the dog. I didn't know how to react. On one hand, there is a terrified kid who might never be able to create a bond with an animal, and on the other there is a dog which is in need of care and love. Then I realized that not only humans should have rights, but animals, too. And those rights must be preserved.\",\n",
              " 'From the first-person perspective, write an emotional narrative with maximum 200 words about: dream and prison <sep> It is a Saturday morning so I didn\\'t need to set my alarm the night before. Sunshine is entering my room as I open my eyes. I can\\'t help but feel joyful. To make sure the weather is nice and get some fresh air I want to open out my window. I can hear the birds chirping months later. Thinking we finally survived a long hard winter, I leave my bed and call to the others \"C\\'mon, wake up, let\\'s have breakfast!\" I want to wash my face and start my bright new day. Maybe I\\'ll go to a market to get fresh baked bread and eggs, some sausage if I can afford it. I check my pockets, but have no coins. Interestingly, I am wearing an outfit that has no pockets at all. I try to find my jacket but it is nowhere to be seen. I yell a few times, \"Has anyone seen my jacket?\" I don\\'t know how many times I yell but I am determined to find it. Right at this moment the warden comes and with a voice that doesn\\'t fit the beauty of the weather says, \"You couldn\\'t get used to it for months, I will not warn you again.\"',\n",
              " 'From the first-person perspective, write an emotional narrative with maximum 200 words about: murder and death penalty <sep> It was a long time ago: the death penalty was not yet abolished. A murder case. The lawyer at the court door told me, \"Don\\'t be scared, nothing is gonna happen, this case has nothing to do with you.\" I knew it too but couldn\\'t help it: fear had already taken me under its control. I was shaking and I could barely stand. It is not easy, the smallest mistake can take one to death. I was there as a witness, the guilt (!) was already decided, everything was ready but still it was a risky situation. Life was at stake. Life, whoever it is, as long as they don\\'t talk too much, is valuable. Whatever, they finally took us in, I\\'m still alive. The case was closed, I was saved and relieved. This relief lasted about a year. Until I saw this man in my dream, the one who couldn\\'t stop talking. I mean the guy whose case I witnessed: the one got killed. The one I killed. If I knew this was gonna happen. But he left me no choice. I wish he could have stopped talking when I asked him to: now I have to listen to him every night.',\n",
              " 'From the first-person perspective, write an emotional narrative with maximum 200 words about: misfortune and lunch <sep> Everything happened on a regular day at March. Surely it would be a good day because they were serving roast beef at lunch! (If you are not a student struggling to get by, you won\\'t understand what this means). But something happened and I ran late to lunch. Even though my friend insisted I chose the line, she knows I didn\\'t, because I believe that other line was cursed. I couldn\\'t believe my eyes: they were out of beef and serving chicken instead. Cold, leftover chicken. We bowed to our bad luck and took our chicken, and found a table. That day, that table was the first time I saw him. But neither of us was aware of that. We were about to start our lunch: \"Wait, what\\'s that?\" They had started to serve beef again! Now this is a combination of tragedy, regret and despair. So unfair and so cold. But if I had another chance, if I knew that I would be meeting him, I would choose the same line: you didn\\'t really expect me to say that, did you? Some regrets in life should never happen, dear friends. If you have a chance to choose beef over chicken, take the beef. Otherwise you will regret it.',\n",
              " 'From the first-person perspective, write an emotional narrative with maximum 200 words about: no money and internship <sep> I was lucky enough to do my mandatory internship in a firm that offers a minimum wage. The firm said that we would get our payment at the 5th of each month. So, I decided to offer my friends a meal on the 6th. I told them we would spend my first salary together, and that made them very happy. On the 6th, we prepared: a friend picked us up with his car, seven of us including my girlfriend and I, to go to a restaurant. We ordered almost everything on the menu, tasted everything. Even so we ordered dessert (which is a rare event for a student, unless you are the child of a member of parliament or such like). We ate until we are completely full, then asked for the check. I gave my credit card to the waiter, entered my PIN and waited. The waiter said, \"Sir, not enough balance.\" I was shocked: \"How come? I just got paid, try again,\" and he did, but again not enough balance. All of us paid our checks separately, and if that was not enough, they even had to pay mine, because I had no money. Later I found out they weren\\'t paying the interns.',\n",
              " \"From the first-person perspective, write an emotional narrative with maximum 200 words about: excitement and date <sep> Only 6 hours left and I am not ready for even half of the possible scenarios. Let's say she is half an hour late, then it's 6.5 hours. I am too late, I should have started this weeks ago. Anything can happen. We might not like each other or I might like her but she won't: worst, what if we like each other? I must get ready for all this. Women are such complex creatures. Maybe men are, too, but honestly, I don't really care. There is nothing as amazing as women. We are talking about a cute creature who has lots of ideas, emotions, stories, etc. It is not easy. Should I shake her hand or hug her? I should have made these decisions before. Or maybe I shouldn't: I don't know. I got all tense again. I want to be myself, but I don't like myself enough to introduce someone else. They say women understand those sorts of things. I don't know: it sounds to me like superstition. I hope it is. It would be too much if they also have supernatural powers above all this magnificence.\",\n",
              " 'From the first-person perspective, write an emotional narrative with maximum 200 words about: mother and dog attack <sep> I am living with my elderly mother. I am trying to help her, make her happy as much as I can. But it is not always easy because of her age and minor dementia. Every day we go for a walk at the seaside. Sometimes we walk to the shore, drink some tea and sometimes we drive to a nearby village. Today we left home for a walk. On our regular way we saw the stray dog which was looked after by the people nearby, sleeping on the sidewalk. But it was lying in the middle of the sidewalk like it owned it. When we were passing it, my mother jokingly extended her leg, saying \"Would you please step aside?\" The dog woke up in shock, tried to escape but couldn\\'t find a route through all the parked cars and attacked my mother instead. It grabbed her leg. I tried to scare away the dog but couldn\\'t. The dog bit her leg. We rushed to hospital and she got a rabies vaccine.',\n",
              " \"From the first-person perspective, write an emotional narrative with maximum 200 words about: drowning and rescue <sep> When I was young, I went to the seaside village where my sister lives for a vacation. It was a small town on the Karadeniz coast. Usually I spent my time with my nephews. Occasionally I went swimming with friends. Whenever we went to the beach, my sister got all tense. She wasn't wrong, Karadeniz shore is a dangerous place to swim. One day we went swimming, and didn't tell my sister. We had a great time at the beach, playing cards, dancing and singing. It was a fun day. Then some of us decided to swim: it was so shallow that we could walk in the sea. Then my foot slipped and I found myself in a hole on the sea bed. I couldn't release myself from this hole. When my friends realized the situation, they tried to rescue me but none of them was strong enough to pull me up. The water was pulling me deeper and deeper. One of our friends who happens to be a gym instructor ran to help from the shore: he grabbed me by my hair and pulled me up, then carried me to the shore. I still remember him lovingly.\",\n",
              " \"From the first-person perspective, write an emotional narrative with maximum 200 words about: breaking rules <sep> It is a summer evening. We are sitting by the table as a family. This our family rule: everyone must be at home at dinner time. My father is a retired soldier. Maybe this is the reason I am fond of rules. Whenever I want to break a rule I feel like something is dying inside. Like my life will change dramatically and I will drown in my own vomit. Foolish isn't it? I think not. Despite all this, let's go back to that summer evening. I wandered idly until dinner time. Played games, snitched fruit from the neighbors for fun. When the day was over I was starving. I went home and sat at the table. The soup was served, and on the other side of the table was a plate full of melon. I fell in love. And that day for the first time I broke a rule. I reached for melon at the start of the meal. I had to stretch too far: the dear melon decided to land in the middle of my soup bowl. A matter of decision, of course. Feeling blue. The melon regrets it, too, but too late.\",\n",
              " 'From the first-person perspective, write an emotional narrative with maximum 200 words about: fear and running away <sep> There was a man named Arif in our neighborhood. It was 2002, I was 4 or 5 years old. Arif was mute and deaf. He lost his hearing later in his life. That\\'s why when he was trying to say something he yelled: we kids were afraid of him. And I knew he used our fear. He always chased us and yelled. My mom always told me that he wasn\\'t chasing me but was trying to talk to me: I shouldn\\'t be afraid. But I was a kid and couldn\\'t grasp what she said. Anyway, one day I was going to the market. I checked for Arif, but couldn\\'t see him anywhere. \"This is the right time to go,\" I thought, and started walking. But Arif was waiting at the market\\'s entrance to yell at me. I started to run, Arif on my tail. When I turned to check if he was still following, I tripped on a rock and fell. I hit the ground so hard, my loose baby tooth which I didn\\'t let anyone touch flew out of my mouth. Damn you, Arif, look what you did? I spent my years in the fear of coming across Arif but that time I learned I can lose what\\'s valuable to me while running away from my fears.',\n",
              " 'From the first-person perspective, write an emotional narrative with maximum 200 words about: orphanage and death <sep> I was the only one to find the courage to answer the door when was knocked. The hooded man entered the room. His face was in the dark. In the darkness of his face, his red eyes burned like a fire. The hand he took out from under his robe was cold, lifeless and had skin like a snake. He ran this hand across our faces and hair. After touching each of us he murmured something we couldn\\'t understand. He was picking someone for months and in return we were finding baskets of food on our doorstep. There was no adult here that would take care of us, protect us, because all the adults had disappeared from the face of the world. The only adult we could see was the hooded man who came to our door on certain days and took one of us. All this started a year ago. There were only four or five kids left in the orphanage. I was trying to hide my fear since I was the oldest of the kids. But I was terrified. The hooded man stood in front of me, his burning eyes directed at me. I lost my breath, felt like I was dying. He whispered to my ear with a voice as cold as stone, asking \"You want them to live, right?\"',\n",
              " \"From the first-person perspective, write an emotional narrative with maximum 200 words about: no worries and love <sep> I will tell you a story which I love so much. I really don't know how much of it is real and how much is fiction, but I can tell you this is what remains of the best days of my life. Those were the times that winning and losing still didn't have meaning, times when I didn't care about past, the future, or even the present. It was not long ago, one or two summers ago. Actually, I am not sure how many years passed. I was high, far away from all this. The only thing I felt was love. Maybe the reason I thought about it so much afterwards was the 'nothing else matters anymore' mood I had. I didn't listen to him. He was saying how could we live separately if we merged with each other so much. He was right, but it was too late. I already saw her, myself actually. I had a happy life living with him far away from this place and time. Maybe it wasn't me, but it looks like me. When nobody is perfect in my universe, in a parallel universe she was living a perfect life with a man I – or maybe with the man she was in love, I don't know – was in love with. It wasn't a dream: it can't be.\",\n",
              " 'From the first-person perspective, write an emotional narrative with maximum 200 words about: ghost <sep> \"If there is a mirror in the room where you sleep, somebody\\'s spirit will watch you at night.\" It sounded like bullshit when I first heard it. A tale made up to scare the kids. But now I am spending my third hour in front of a mirror and I am guessing I have four or five more hours. You see, the shift has not yet ended. There are lots of things spirits must fulfill: for example, just yesterday I sat down at the empty chair near someone\\'s bed until he woke up. As long as you are dead, life\\'s toil follows you: one must be something beyond dead, you wouldn\\'t even refer to me, I shouldn\\'t even have a name. I feel like if we become little parts scattered across the universe those toils wouldn\\'t find us. I can\\'t remember how I died: I will remember in time. I think my inner consciousness is suppressing it because it was too dramatic. That inner consciousness wouldn\\'t leave me alone when I was alive, either. I think this a universal element of humor, like love: wherever we go our inner self will follow.',\n",
              " 'From the first-person perspective, write an emotional narrative with maximum 200 words about: stray puppies <sep> I was passing through the booths, behind the institute. It was too late when I heard the yips. Suddenly, I was surrounded by five puppies. They started to walk between my legs, yipping and nuzzling. Their attitudes and gloomy murmurs were not frightening but appealing. It was not hard to understand that they were hungry. I said \"Sorry,\" like they would understand me, \"I don\\'t have food for you.\" The next day, I and my girlfriend brought them food and water. From their rush to eat, we could see that they were really hungry. We did this for a couple of days and learned their story from other people. Their mom had died a couple of days after the birth. Like babies, food is not enough for orphan puppies, either. Their hunger for care and love hurts them more than their empty stomach. We decided to push ourselves and we patted their heads and stroked after we fed them. They were happy. They disappeared in time. In the best-case scenario, I prefer to believe that they were adopted.',\n",
              " 'From the first-person perspective, write an emotional narrative with maximum 200 words about: love and home <sep> Sometimes I feel like I am homeless. I cannot accept the place I spend my childhood as home. I used to, but since I came to another country for my education, I lost this concept entirely. Of course rather than accepting this, it was easier to wait for holidays with the desire to return home, pretending I still had a home. And on that day, when I reached my parents\\' house before ringing the bell I realized I had returned but I no longer belonged there. The vacation ended, and I returned to school as always. I tried to ease my anxiousness by working on my school projects. About that time, we started to meet you occasionally. I remember. \"Do you want to grab a coffee?\" \"Have you ever been there?\" \"What do think about this?\" simple but still special. I got used to the fact that I wanted to see you more than the other guests in my life, then the feeling of being home when I am near you. Sometimes I really feel like I am homeless, but surprisingly this feeling I associated with you eases my worries. I am at home now.',\n",
              " \"From the first-person perspective, write an emotional narrative with maximum 200 words about: meeting and stranger <sep> I should have guessed it. No, how could I know? How many of us can predict that a stranger will change their life so dramatically while walking on the street? I understood that things would change from the moment we caught each other's eyes. But still everything was unpredictable, like the exact place a fallen leaf will land, and that time we looked at each other is the time leaf started to fall. Everything was rewritten until it touched the ground. My fate changed; I became a different man. But still one can remain calm while facing surprises in life and maybe this is how you travel through events without getting lost, from the creation of the world until the doomsday, which can fit in the period of a leaf falling down. Yes, from the moment the leaf started to fall, I dreamed of many events I would live through with her, but regretfully I must admit that I didn't come close to any of it. Maybe this is what they call the predictable obscurity of the future.\",\n",
              " 'From the first-person perspective, write an emotional narrative with maximum 200 words about: balcony and rat <sep> It was a warm July evening at the Tip Çermik. We used to sit on the balcony of our house from sunset till midnight. Our balcony, which usually was a windy place, was so still tonight. I, my mother, my aunt and my two cousins were sitting on the balcony. The two grown-ups were trying to talk while doing handicrafts, but were disturbed by the four kids of 8, 10, 12 and 13. Suddenly my aunt offered 20 Turkish Lira for an hour of silence. We accepted eagerly. When the silence game was coming to an end, we heard a rustle in the tree. We saw a giant rat rushing toward us between the branches of the tree. We were in shock and my big cousin yelled \"R-r-r-aat!\" But the silence game? We each won 20 Turkish Lira, and about the rat, we were going to see her a couple of times with her three babies.',\n",
              " \"From the first-person perspective, write an emotional narrative with maximum 200 words about: university and late <sep> It was a quarter past eight when I started my day. The weather was great and the birds were chirping beautifully. I had my breakfast and started studying, but I was so caught up with it, I didn't realize it was already time for my lesson. I ran to class and made it in the last second. My friend came before me and sat down in the front row, and I had to sit down on the corner of the last row. I could hear the instructor's voice clearly but couldn't see anything that was written on the board. After too long classes, I was hungry. I met my friends and we went to the cafeteria, but it was everyone's lunch time and we were a little late because of our instructor. There was a long line in front of us. We talked while waiting in the line: when it was my turn to pass through the till, it gave the 'not enough balance' warning. My friends were already through. I told them not to wait for me and went to load my card, but the loading machine was broken, too. I left the cafeteria full of anger and returned to my dormitory.\",\n",
              " 'From the first-person perspective, write an emotional narrative with maximum 200 words about: pet and adoption <sep> It was a soft spring night when I went for a walk. While I was passing through a narrow path, I heard something, a growl and I felt a pain in my side. I looked around and saw a pack of dogs. I was very scared. My fear and anger continued for years. When I heard a dog bark, I said, \"Oh no! they attacked someone.\" Time works wonders. My fear came to my mind every time I saw dogs. Years passed. One night, my daughter called me \"Mama!\" from our garden. She was holding a small black puppy. I said \"Take him back to where you found him at once.\" I went upstairs. After a while, the sounds stopped. Next day, sounds were coming from the basement, I went down. They had put the dog there. I gave him a piece of bread but he couldn\\'t eat. When I looked carefully, I saw scars everywhere. I did not like dogs but I could not leave him like this. We took him to the vet. He was male. My daughter said that his name was Tobi. The vet suggested that we should find a better, more majestic name. We choose the name of my husband\\'s old dog. Lochers. Now Lochers is our friend, guard, baby and everything.',\n",
              " 'From the first-person perspective, write an emotional narrative with maximum 200 words about: romance and school <sep> I don\\'t know how it happened, but there were only two of us left in the classroom. Whether it was planned or not, we found ourselves talking for ages. The voices coming from the hallway were drifting away. The silence must have affected us too: we had run out of words. I was playing with the pencil case, turning it right and left in my hands. My eyes got away from Nilay, like they were trying to avoid her. I fixed my stare outside of that ugly looking window to the branches of a tree which were moving harmonically with the wind. Did I have the courage to look at Nilay\\'s face? \"No way,\" I thought. I tried to take a deep breath without her noticing. My chest was bumping in an irregular rhythm. My face got all red. I started to turn the pencil case faster. My stare left the branches and fixed on the pencil case I was playing with. Time had stopped. I wonder what I planned to say, but the thing came out of my mouth was, \"I, I lo-ve you.\"',\n",
              " 'From the first-person perspective, write an emotional narrative with maximum 200 words about: student and death <sep> I was going to teach first grade that year. When I entered my classroom there was one student who caught my attention. Mehmet was an energetic, loud, quick-witted boy. He learned how to write and read without scribbling a single sentence in his notebook. He was getting bored in mathematic classes. He said he didn\\'t want to deal with small numbers. \"What is 2+2=4?\" he said, \"Even babies can do it.\" Whoever I paid attention to in class he would beat them in the break. When I asked why, he replied, \"Because you loved them more.\" We spent three full years with him, none of them boring. When we started our fourth year, I had sad news, Mehmet had fallen into the sea and drowned. He didn\\'t know how to swim. I was devastated. But what I learned from his mother crushed me into pieces. Mehmet, who I failed to make write a single sentence in his notebook, a few hours before his death wrote a poem to read on the first day of school. When they took his body out he was still holding onto this piece of paper, which got torn apart. Years passed. Whenever a student brought me a poem, I always remembered Mehmet. Him and the poem he wrote for me but I was never able to read.',\n",
              " 'From the first-person perspective, write an emotional narrative with maximum 200 words about: food <sep> The weather was getting colder, indicating that winter was at our doorstep. The cold was saying, \"I will break your motivation.\" I was walking to the cafeteria. I was alone that day, aiming to eat my meal as fast as I could and go back to my room to study. When I reached the cafeteria and looked to see what the meal was, I was like a kid watching the shelves at the toyshop. Compared to the days when the cafeteria did not treat us as human beings, the meal was good today. Then I saw it: they were serving baklava today! The food was OK, and there is baklava: I got in line immediately. I waited impatiently for the moment I reached my baklava. They were serving three pieces to each student. The line was moving and the baklava was getting shorter. I finally reached it. There were only four pieces left. They put those four pieces on a plate, so as not to serve a student only one piece. Then a box of oranges came out. In front of my eyes, those baklavas which got my hopes up were being served to the student in front of me. That student turned to me and said, \"Sorry, pal,\" but it didn\\'t help. He could offer to share the baklava, each getting two pieces, but no. I fell into a sea of despair.',\n",
              " \"From the first-person perspective, write an emotional narrative with maximum 200 words about: dog attack and defense <sep> It was a cold day, I decided to walk around during the lunch break. I got far away from the conference hall. On my way back, the navigation on my phone suggested a shortcut. I started to follow this shortcut. The building I needed to reach is on the top of a hill: in order to reach it I need to pass through a wooded area and walk 200 to 300 meters. When I entered this wooded area, I realized100 meters away from me a dog was staring at me. I stopped immediately and continued to look at it: I didn't know what to do. Then the dog barked. Just one bark. Ten dogs jumped out behind it and started to run toward me. There was nobody around. I was terrified but couldn't escape. Before seconds had passed, they had reached me. I was looking at the one who was running in front. I swung my bag at it and yelled. It suddenly turned back and the others followed, I was surprised. They stopped only 10 meters away from me and started barking. I took a few steps backward then turned and ran away. I didn't know I could be this brave. My heart was pounding madly and I was all sweaty. I ran for a while. And will never trust my cell phone again.\",\n",
              " \"From the first-person perspective, write an emotional narrative with maximum 200 words about: practice and perfomance <sep> The first time I stepped on that stage, the effect I had on the audience was related to my motivation and dedication. If I didn't give myself fully during the practices or didn't attend them regularly, whatever I am doing, be it dancing, acting, etc., there would be a result, of course, but would that result actually be my best, or did I not push myself to my limits? Of course doing everything just OK is one's own choice, but for me it is disrespectful to the audience and oneself. Saying I did my best is easy, but trying is better: saying I have tried my best is beautiful. I might have tried but still been unable to do it, couldn't improve my performance: then it is time to bring out other areas I think I will be good at. I am aware that I am not good at every field, of course, but when I find something I am good at, I use it and try my best to make this moment memorable for the audience. Whatever you do on the stage you exist if you are remembered.\",\n",
              " \"From the first-person perspective, write an emotional narrative with maximum 200 words about: love and murder <sep> I waited for three days and three nights, didn't eat, didn't sleep, just waited. He told me he would come for sure, so he definitely would. When the third night was ending, I closed my eyes. I wanted to hear a voice, his footsteps. I got closer to the door. Got angry with it for not being knocked. I hated the door. I opened my eyes: everywhere I looked was filled with him. I hated my home. And my body was filled entirely with him, I hated myself eventually. There is only one thing left to be done, the thing I least wanted. I went outside; the streets were empty. During the dawn the only thing to be heard was the birds chirping. I couldn't grasp why birds are always happy. I reached his home: its curtains were shut tight. I rang the bell, waited. Silence. I rang again. There were his footsteps coming closer, the voice I had craved to hear for three days. The door opened partly; half-sleeping, he looked me in the eyes. I took out my gun. He didn't flinch. I pulled the trigger. A body hit the ground, I can't remember whether it was his or mine.\",\n",
              " 'From the first-person perspective, write an emotional narrative with maximum 200 words about: holiday <sep> It was my first time going abroad. We would visit Vienna. Since it was summer I only brought shorts, t-shirts and such; I didn\\'t bring any pants or raincoat with me. We had a friend who would meet us in Vienna and show us around Budapest and Prague. We landed in Vienna and met our friend, then went to Budapest. He took us to a lake, and said \"The water is cold,\" and we could put our feet in it if we wanted to, and he did it. When none of us seemed to want it, he came to us and insisted that we should, then I went and put my feet in. I was wearing sandals and the moment I put my feet in they filled with salt, I tried to clean them. Then I realized not only salt but also lots of moss had stuck to my sandals. It was both hurting my feet and smelling so bad. I mean, the smell was so bad that we couldn\\'t keep my sandals in the hotel room, I kept them in nylon bags which I shut tight. I started to wear flip flops. But from the first day it started to rain and didn\\'t stop until we left. So, I traveled around Vienna in my friends\\' shoes, wearing my boyfriend\\'s pants.',\n",
              " 'From the first-person perspective, write an emotional narrative with maximum 200 words about: family and disinterest <sep> I learned how to read before all my friends and that\\'s why the teacher gave me a red ribbon. I couldn\\'t wait to show it to my father. But my father was a cop and I couldn\\'t see him for weeks. This time I wouldn\\'t sleep and waited for my father until midnight to show my ribbon. I even tied it to my wrist. Hours passed, everyone was asleep but I was in the living room watching TV. I was struggling to stay awake, forcing my eyelids to stay open. I was beaten. When I opened my eyes, it was already morning. My father arrived but I fell asleep. I slapped myself out of my anger and ran to my parents\\' bedroom. It was the first hours of morning and they were still asleep, so I waited silently in front of their door. I took my father\\'s cap and put it on my head. How big was my father\\'s head! Finally, he woke up. Before I could show my ribbon to him he said something that hit me like a train: he said, \"Look at how much this boy has grown up,\" like he was seeing me for the first time. He didn\\'t see me when I was becoming me. I couldn\\'t show my ribbon to this guy who saw me for the first time. I hid my hand behind me, untied the ribbon and hid it in my palm, then tossed it into the garbage.',\n",
              " 'From the first-person perspective, write an emotional narrative with maximum 200 words about: family and death <sep> A summer day. It\\'s been three years since the circles around my vision turned to black from gray. My father\\'s birthday. I wouldn\\'t want to think of it as his last. We bought his favorite cake. Too hot outside: this can be a reason to pass the chocolate. There is a four-leaf clover hanging on my father\\'s door. Like they are fooling a child. It will certainly create a panic if the light goes off suddenly in the hospital room. Even more if you are in the hospital for months, day after day, morning till night. I told the nurses, \"Light the candles.\" I entered the room slowly while whistling the happy birthday song. He didn\\'t have the strength to blow out the candles. I bent down: \"you tell me, and I\\'ll blow them out.\" \"I love you so much.\" He fell asleep happy and smiling. I took a photo of the cake. My mom, sister and aunt were in the room. He left the hospital and started to fly through the sky. We celebrated my father\\'s existence in a dark but starry night. Apparently, my dad liked stars so much, before a month passed, he waved at me from the smallest brightest star while the Moon was hanging in the sky like a big slice of orange.',\n",
              " \"From the first-person perspective, write an emotional narrative with maximum 200 words about: attack and running <sep> It was a cold evening, and we were playing card with friends at Keçioren, Uyanis. There were fewer of us than usual. Then suddenly we saw a group of people coming out of the unfinished construction and walking toward us. We were looking at them and each thinking what should we do. Because we knew that this group was coming to take revenge after one of our friends stabbed someone unnecessarily. We were not related to any of it but somehow, we found ourselves in the middle of it all. They outnumbered us and they were armed with knives. After a little delay, we started to run. After running down the hill we jumped onto the dam. Since the attackers were not from our town, they were unfamiliar with the environment and tried to follow us from the road. All the neighborhood went outside due to the rumble we caused. And there happened the Malazgirt War. The attackers were chased away by the Uyanis Neighborhood. We didn't realize how tired we were or where we had hurt ourselves while running due to the excitement and fear. Even though we laugh at it now, it stayed as a fearful memory.\",\n",
              " \"From the first-person perspective, write an emotional narrative with maximum 200 words about: university and memories <sep> Hi, my name is E. And this is my university story. For all my high school years, I felt I was 72% of myself in everything. In OSS, I won engineering with only 72% of my capacity. One of my biggest regrets was attending prep school. But if you have a successful dad and perform like a racing horse, all this becomes a dream. And there you go, I started university like another year of high school. First lateral transfer dream, after 2nd midterms double major dream, then after first finals double minor dream, finally after the first exams of second term just hoping to continue in my department, and after the second term struggling to stay away from summer school. Then come the friends, shisha, backgammon – and hello, summer school. In the third year we met engineering lessons. And we got intimate in my 4th,5th,6th and 7th years. What can I do, one can't warm to those lessons easily. I'm E, and today it has been 7 years, 3 months, 2 weeks and 5 days since my graduation, I have been an engineer for 2,666 days, but all these 2,666 days, I have missed my school. I miss METU; I miss those days.\",\n",
              " 'From the first-person perspective, write an emotional narrative with maximum 200 words about: rejection and relationship <sep> I can\\'t remember how we got in touch but somehow, I picked her up from home after work. It had been more than a month since we last spoke. She gets disconnected so suddenly. We decided to go to Kugulu: a new cupcake store had opened. I think I believed chocolate would lighten the mood. On the way, as an ice breaker I said \"I will leave this place, find a dam construction and go and work there.\" I was bluffing. Even she doesn\\'t mean it. I expected her to say, \"Don\\'t go, there are good things in Ankara too.\" She didn\\'t say it, and I didn\\'t push it. She was cold, sad and that bloody cupcake wasn\\'t even good. Then I made another move, saying, \"I will follow you until you hold my hand\": she didn\\'t respond to that, either. She brought me up to the top than pushed me to the ground so fast that I forgot about gravity and felt like I had been floating in the void. Then I left, not to a dam construction but to other construction in another country, far away from people. She jokingly said, \"Why did you even leave?\" She got married, I finished that construction, forgot to love. I have been waiting to crash.',\n",
              " 'From the first-person perspective, write an emotional narrative with maximum 200 words about: baby and rescue <sep> The morning we woke up to, a lovely, bright, warm April morning, made me remember a childhood event when we felt both sadness and joy. That morning we were still eating breakfast. We ran outside because of voices we couldn\\'t quite grasp. People were yelling, \"Call the fire department!\" \"How did it happen?\" \"Is there anyone still inside?\" From all this yelling we heard someone screaming \"My baby! My baby!\" The neighbor\\'s baby was left inside from all this rush. That moment we saw someone jumping through fire. That person was the lonely man who had rented the shop near the grocery recently and was a cold-looking person everyone was afraid to talk to. While all the townspeople were waiting in excitement and wonder, he walked out of the fire, holding the baby close to his chest. Everyone was so happy. That day townspeople accepted this man, later we learned his name was Rifat. Now they were talking to him, ladies sent him food they had cooked. The cold-looking man was no more: he became one of us.',\n",
              " \"From the first-person perspective, write an emotional narrative with maximum 200 words about: injury <sep> I was coming back to home from school. I was a little air-headed. There was examination stress but puberty was worse. The most important things were love affairs. I had someone with whom I was in love platonically. Those times, my only entertainment was walking around town to see her. That day I was walking aimlessly hoping to see her. When I stopped at the sidewalk to cross, I thought I saw her friend on the other side. I was looking around to see her too and got very excited. A bus was in front of me, I don't know if it was dropping or picking up passengers. I was waiting for the bus to leave so I could see it better. Then I felt an enormous pain in my nose. When the bus left my nose was hurting so bad that I couldn't care less about the things around me. I had stood too close to the road so that its side mirror hit me. I was so embarrassed and waited there a little longer while trying to hold the pain in. When I came to, I realized those weren't her friends and decided to go home.\",\n",
              " \"From the first-person perspective, write an emotional narrative with maximum 200 words about: neighbour and murder <sep> I approached the window in the dead of the night. Lost my breath. Women lying on the street, covered in blood. Silent screams covered all the street. But nobody can hear them, and never did before. I felt my time was near. But peace invaded me. This ferocity will find its place in history. Maybe this will save our children. I will die for a reason. I felt I would be useful again after a long time. Peace invaded me. I heard the cracking noise of the door opening. Made my last prayer. I prayed for peace, only for peace. The door opened wide. Rude voices of boots, breath that stank of cigarettes came closer. I felt the coldness of the barrel on my skin. He pulled the trigger. Like the others, I fell on the ground covered in blood. When I was about to give my last breath, I caught his eye. It was him. The one I took cake recipes to, went shopping with, my neighbor whom I talked to while dropping our kids at school. How did we end up like this? Why did we become enemies? We killed in the past, now it was his turn. There was no triumph in his eyes. We both know it wasn't a victory. We said our goodbyes. He left. I died.\",\n",
              " 'From the first-person perspective, write an emotional narrative with maximum 200 words about: daydream and attack <sep> When I woke up due to the bright sunlight that covered my face, I wasn\\'t complaining about my cat who was lying on the other side of my face. I started my daily routine: smoke two cigarettes, feed the cats, water the plants, think about unimportant small details about life, smoke another cigarette, brush teeth, leave house. I was joyful like I hadn\\'t been for a long time, and that got me worried. I entered the shop to buy a coffee. I faced someone energetic and smiling. He asked me how I liked my coffee. Suddenly my punch hit his face. In return he said, \"What happened, Sir? Are you OK?\" This got me angrier. I grabbed his hair, tugged the board marker pen from his mouth, and after hitting his head on the case a few times he was silenced. Now he was angry, too. He threw the coffee which was made for the fat ass customer who was late for work into my face. Jumping through the counter he punched my chin real hard. I came to, opened my eyes. The cashier said \"Sir?\" while waiting to write my name on the cup. I took my coffee, and left the shop in peace to go to work.',\n",
              " \"From the first-person perspective, write an emotional narrative with maximum 200 words about: child and afraid and clown <sep> Probably the common thing when I look at all my childhood memories is that I can still feel the exact same things I felt on those occasions. There are a few memories I still remember but the one that affects me most happened when I was at kindergarten. My mom and dad dropped me to kindergarten as every other day. After some time, our teacher gathered us all in the playground and the doors were closed. Everything was normal for me up until this moment. Suddenly the door opened halfway, somebody was trying to enter while doing weird moves. Actually the one who was trying to enter was a clown who was here to entertain us. But his weird clothes and movements, even though I don't understand fully why, caused me to tremble in fear. I started crying, and naturally the clown tried to calm me while doing funny things. But it didn't help, I ran and tried to leave the room. Because of my reaction, the clown couldn't stay any longer and left without doing his performance.\",\n",
              " \"From the first-person perspective, write an emotional narrative with maximum 200 words about: winning and sports <sep> The place is the MEB Sports Hall ... Me and one of my best friends, Cem, have a match against our old club. I could not play in the match because I injured my heel in a stupid match before. I wanted to play this match so much that I cried when my friends took their position on the court. We had a good start and took the lead. At half time, we went to the locker room in advance. When the team returned from the locker room, we had the same opponent but a different referee team. In the very beginning, we could not get how our two coaches were sent off without reason. Twelve teenagers, 15 years old, felt like fish out of water. I was running to the hall, taking our coach's commands and conveying them clumsily to my friends. There were players who had cramps, who injured themselves to get the ball. Unbelievable motivation. I haven't seen such a dedicated and connected twelve players. The match nearly came to a draw but for our coaches and ourselves: we pushed our limits and won the match. In the end we were so happy. It was an extraordinary youth match. After that we saw that referee team four times and they conducted the matches appropriately.\",\n",
              " \"From the first-person perspective, write an emotional narrative with maximum 200 words about: family and accident <sep> The only problem we had with this new house that it was very far away from my mom and dad's school, where they were teachers, and my little brother's day care. I was ten years old and the first to get home. My parents left work together and picked up my brother on their way home. The time in between passed a little weirdly for me. From the moment I stepped into the house I started crying, thinking that they would have an accident and die. Different reasons each day: sometimes I cried about losing my brother, being alone, missing them, or if I was not too sentimental I cried about not having someone to knit me a sweater. I ran to the balcony immediately and watched the road. When I saw our blue car on the street, I'd be surprised and happy, and wash my face quickly so that they couldn't tell that I had cried. Every weekday for a year passed like this, then it was summer break again. One weekend morning, when I was not waiting, my parents left home to go to school for an examination duty. They had an accident on the way and got crushed by a truck with our blue car.\",\n",
              " \"From the first-person perspective, write an emotional narrative with maximum 200 words about: friend and mental illness <sep> Selim was my childhood friend. We were very close for years. We went to different schools but we were always together. After high school, we got separated. I came to Ankara and he stayed in Izmit. Our relationship got thinner but we kept in touch. One day I had a phone call: they said Selim was not fine, he was acting weird. I went to Izmit immediately. I wasn't sure whether he was happy to see me or not. He wasn't talking at all. I asked to go out. We walked. Once we were sitting, I asked what was wrong. He said they are following him, they are going to kill him. It was hard to convince him otherwise. I stayed with him for a few days then returned to Ankara. They diagnosed Selim with paranoid schizophrenia, and he stayed in hospital for a few days. Medicine was expensive and his family couldn't afford it. He got aggressive without his medicine. Three years passed. His family and friends were mad at him and I heard they got sick of him. One day I had another phone call. When he was alone at home, he opened the gas and let the room fill with it then he flicked a lighter. He was in hospital for ten days. I called but he didn't want to talk. He stayed in an ice bath for his burns. He died: I cried. What an unfair world.\",\n",
              " \"From the first-person perspective, write an emotional narrative with maximum 200 words about: pets and noises <sep> I have three dogs and two cats. I and five animals are living in this house: it's not a big house but I haven't heard any complaints yet. I always liked animals and enjoy living with them. First I adopted a cat, then a dog, then the rest followed. The only thing I had a hard time getting used to is the pad pad sound at nights that comes from their paws when they walk on the hard floor. At nights there is always this sound: they get up to eat, play, go to the toilet, etc. One of them is always awake even though the others are sleeping. For many nights I stare at the ceiling wide awake waiting for all of them to fall asleep. Those moments are too rare and they pass too quickly: before I fall asleep, one of them wakes up. So, the only solution is getting used to this sound, and that's what I did. After years, lately I have been lying in bed awake listening to the sounds that are coming from outside my door. Like I said, these sounds won't bother me normally, but I have been living alone for some time and it bothers me.\",\n",
              " \"From the first-person perspective, write an emotional narrative with maximum 200 words about: family <sep> Barbecue is not something we do often or something we love. Long story short: we are not a barbecue family. That's why when my daughter insisted on having a barbecue I couldn't say no, I didn't want to. That day, a friend of my wife came to visit from out of town and wanted to meet. So when I was left alone with the twins I wanted to change the plan and have barbecue on another day. But how would I convince the kids about not doing something I had promised to? Our neighbor who overheard us said he was alone too and we could take care of it together: hearing this I said OK. When I fired up the barbecue, I realized things were different. It turned out that only two people from his already crowded family was missing. Luckily, his grandfather also fired up his barbecue and saved the day. While all this was happening, my boy didn't listen to me at all and insisted on standing like a pole to watch the other neighbors who were trying to host their guests. I think I need to learn to use the word no.\",\n",
              " \"From the first-person perspective, write an emotional narrative with maximum 200 words about: hospital and family <sep> It was my seventh day at the hospital. Nobody came to visit except my family. By family, I mean my poor mother and my cousin Fethi. If there was nobody to bring my mother she couldn't come either, anyway. My mother stayed for two days than complained about how sitting was making her pain worse. She wasn't wrong. She was very old and had many problems: rheumatism, sciatica, diabetics, tremors that come and won't go away for days. She is dragging her old body with legs that look like they are only there to complete the picture. When she started to complain about her pains again while looking at me wanting to leave, I sent her home pretending to insist on it. It was a very happy moment for Fethi. He wasn't happy about bringing my mother and spending hours at the hospital. He doesn't even like me. He was putting up with me for his aunt's sake. It's okay. I thanked him in a manner that fits our relationship and informed him that his visits were over. I can say that it was the moment he liked me most. I didn't talk to almost anyone at the hospital for 5 days. It wouldn't matter if I was at home anyway. There was nothing left to talk about there anymore.\"]"
            ]
          },
          "metadata": {},
          "execution_count": 6
        }
      ]
    },
    {
      "cell_type": "code",
      "source": [
        "model = GPT2LMHeadModel.from_pretrained('gpt2-medium')\n",
        "tokenizer = GPT2Tokenizer.from_pretrained('gpt2-medium')\n",
        "tokenizer.pad_token=tokenizer.eos_token\n",
        "def create_labels(inputs):\n",
        "    labels=[]\n",
        "    for ids,attention_mask in zip(inputs['input_ids'],inputs['attention_mask']):\n",
        "        label=ids.copy()\n",
        "        real_len=sum(attention_mask)\n",
        "        padding_len=len(attention_mask)-sum(attention_mask)\n",
        "        label[:]=label[:real_len]+[-100]*padding_len\n",
        "        labels.append(label)\n",
        "    inputs['labels']=labels\n"
      ],
      "metadata": {
        "colab": {
          "base_uri": "https://localhost:8080/",
          "height": 177,
          "referenced_widgets": [
            "a0dbf373f2a748cfb8f5e86cfb17b5fb",
            "2bc974c39d7840f29da5c432f677a7da",
            "69c0955536ab4c81a41c14bbf905e98e",
            "1c2538cd8e024f0ab14e4c6ce4aeaf1d",
            "cde294d94bb14c1094e459ea89d36816",
            "fd4dc143dc1548fbbf1105e147ee205e",
            "c4ce89d91a8d4a1b8ce2391f29802c19",
            "ec4c6593113a4046b1984fda5d7b8a6f",
            "43ff14d1a2b948bc9d25542392f6ee28",
            "11d68b385f734204a643a1ace5766a23",
            "a496d5d1b08e40de81828b208a94c66f",
            "488efe2cf98240b7ab392d2169236809",
            "6f2d796b9e094225a406aa73ea6e85d9",
            "58cad2ef0f6d406fbc3c1ce011deae4b",
            "dd26a03c7f0c4371bcaab2b53038cd3d",
            "0529d5dcfdbc489f91e46937386a338f",
            "a1809ad6c5954686ab48d1eb2d11f3fb",
            "d744b5d04af54adcabd45314fa3a5345",
            "5c0168f4283741839fb7c650be5fcf9f",
            "e3449189aff445d7afaed24eb50db6f3",
            "909270de1dc747469f01194153e05305",
            "0e4a475e7ced4010ba24162f12be5f64",
            "408d5000cfea483ea6d6270fea75c8ba",
            "85acdf1f0d934867b284738591de1637",
            "68da5415385040f294b355eda16f39fd",
            "f5f5f7301a014a23b34663dfd59b71c7",
            "68e5be1f7d5243dfadef32a5727917d3",
            "1517a77a687e4db994bc8ed8b27abac1",
            "ef2ca55a8687409f9d2a894b545e2080",
            "b4421e6e2e114fcbad6da44a2fcc92b0",
            "9625dcf7c59f47af839c33fcf941a49b",
            "7c242911b1244b81bc13712f86920cb0",
            "ee83a6aa475a425d88d17edf32485d43",
            "f1fb7eca8ad644ae9578d8d6a1fef1a6",
            "a191ce84afe04d099e6ab6e254dbd801",
            "92debf602cca49839f2541d3c1ef126c",
            "44d29e5e58834de08ef62818f5eb286d",
            "37127ff95c9a4628b34bae20f49aa351",
            "a5a711dfe60a495b81aa3d6c68756af7",
            "c1f4c07e051146b9a7a2fcf6ab5042e8",
            "762f424c0d944851a87fe62cb9446d9b",
            "8800d43a6b0e478191d35383a896279d",
            "1aef804afc4c4a6486648a426a6fd052",
            "70bd4ec6db2f4e349a45c3b8cee845b9",
            "8dc35ade83f349658379ea9251090b0e",
            "6411f6bbcd4e4305b639f345edfe58d2",
            "dcdd854edb4f4141bf22f78553539c8a",
            "4b2112cac86e46549d74bbb108d60291",
            "b24cbc988ae74c7b9a0973ccccba900d",
            "c414ad05c6b54c4fbcf0c26df898ba20",
            "b79e869613864108aa6506625a6f236f",
            "4c50304d5d4340f48b5b3db5df33a550",
            "fca75066c7784b598a3095c9ed4522b6",
            "997921e9733f43fbbc6391262a04e834",
            "50038de6ea884612b42408ee98c2ecb0"
          ]
        },
        "id": "x0HIX8LafDUO",
        "outputId": "4b833aff-a9f0-4883-d288-be8b15547a21"
      },
      "execution_count": 7,
      "outputs": [
        {
          "output_type": "display_data",
          "data": {
            "text/plain": [
              "Downloading (…)lve/main/config.json:   0%|          | 0.00/718 [00:00<?, ?B/s]"
            ],
            "application/vnd.jupyter.widget-view+json": {
              "version_major": 2,
              "version_minor": 0,
              "model_id": "a0dbf373f2a748cfb8f5e86cfb17b5fb"
            }
          },
          "metadata": {}
        },
        {
          "output_type": "display_data",
          "data": {
            "text/plain": [
              "Downloading model.safetensors:   0%|          | 0.00/1.52G [00:00<?, ?B/s]"
            ],
            "application/vnd.jupyter.widget-view+json": {
              "version_major": 2,
              "version_minor": 0,
              "model_id": "488efe2cf98240b7ab392d2169236809"
            }
          },
          "metadata": {}
        },
        {
          "output_type": "display_data",
          "data": {
            "text/plain": [
              "Downloading (…)neration_config.json:   0%|          | 0.00/124 [00:00<?, ?B/s]"
            ],
            "application/vnd.jupyter.widget-view+json": {
              "version_major": 2,
              "version_minor": 0,
              "model_id": "408d5000cfea483ea6d6270fea75c8ba"
            }
          },
          "metadata": {}
        },
        {
          "output_type": "display_data",
          "data": {
            "text/plain": [
              "Downloading (…)olve/main/vocab.json:   0%|          | 0.00/1.04M [00:00<?, ?B/s]"
            ],
            "application/vnd.jupyter.widget-view+json": {
              "version_major": 2,
              "version_minor": 0,
              "model_id": "f1fb7eca8ad644ae9578d8d6a1fef1a6"
            }
          },
          "metadata": {}
        },
        {
          "output_type": "display_data",
          "data": {
            "text/plain": [
              "Downloading (…)olve/main/merges.txt:   0%|          | 0.00/456k [00:00<?, ?B/s]"
            ],
            "application/vnd.jupyter.widget-view+json": {
              "version_major": 2,
              "version_minor": 0,
              "model_id": "8dc35ade83f349658379ea9251090b0e"
            }
          },
          "metadata": {}
        }
      ]
    },
    {
      "cell_type": "code",
      "source": [
        "class StoryDataset:\n",
        "    def __init__(self, inputs):\n",
        "        self.ids = inputs['input_ids']\n",
        "        self.attention_mask = inputs['attention_mask']\n",
        "        self.labels=inputs['labels']\n",
        "\n",
        "    def __len__(self):\n",
        "        return len(self.ids)\n",
        "\n",
        "    def __getitem__(self, item):\n",
        "\n",
        "        return [torch.tensor(self.ids[item], dtype=torch.long),\n",
        "                torch.tensor(self.attention_mask[item], dtype=torch.long),\n",
        "                torch.tensor(self.labels[item], dtype=torch.long)]"
      ],
      "metadata": {
        "id": "ARi9xS2ZfDXr"
      },
      "execution_count": 8,
      "outputs": []
    },
    {
      "cell_type": "code",
      "source": [
        "num_train_epochs = args.num_train_epochs\n",
        "\n",
        "weight_decay=0\n",
        "learning_rate=args.learning_rate\n",
        "adam_epsilon=1e-8\n",
        "warmup_steps=500\n",
        "no_decay = [\"bias\", \"LayerNorm.weight\"]\n",
        "optimizer_grouped_parameters = [\n",
        "    {\n",
        "        \"params\": [p for n, p in model.named_parameters() if not any(nd in n for nd in no_decay)],\n",
        "        \"weight_decay\": weight_decay,\n",
        "    },\n",
        "    {\n",
        "        \"params\": [p for n, p in model.named_parameters() if any(nd in n for nd in no_decay)],\n",
        "        \"weight_decay\": 0.0,\n",
        "    },\n",
        "]\n",
        "optimizer = AdamW(optimizer_grouped_parameters, lr=learning_rate, eps=adam_epsilon)"
      ],
      "metadata": {
        "id": "uwIk4ss1fURg",
        "colab": {
          "base_uri": "https://localhost:8080/"
        },
        "outputId": "d0fdee29-73fd-4ce8-8947-f878d566a3fa"
      },
      "execution_count": 9,
      "outputs": [
        {
          "output_type": "stream",
          "name": "stderr",
          "text": [
            "/usr/local/lib/python3.10/dist-packages/transformers/optimization.py:411: FutureWarning: This implementation of AdamW is deprecated and will be removed in a future version. Use the PyTorch implementation torch.optim.AdamW instead, or set `no_deprecation_warning=True` to disable this warning\n",
            "  warnings.warn(\n"
          ]
        }
      ]
    },
    {
      "cell_type": "code",
      "source": [
        "from sklearn.model_selection import KFold\n",
        "kfold = KFold(n_splits=5, shuffle=True, random_state=42)\n",
        "\n",
        "print(\"***** Running training *****\")\n",
        "#print(\"  Total_num_training_step = {}\".format(total_num_training_steps))\n",
        "print(\"  Num Epochs = {}\".format(num_train_epochs))\n",
        "#print(f\"  Train_batch_size per device = {train_batch_size}\")\n",
        "#print(f\"  Valid_batch_size per device = {valid_batch_size}\")\n",
        "model.to('cuda')\n",
        "for fold, (train_idx, val_idx) in enumerate(kfold.split(fullData)):\n",
        "  # Print the current fold number\n",
        "  print(f\"Fold {fold+1}/5\")\n",
        "  print(type(train_idx))\n",
        "  print(type(fullData))\n",
        "  train_text = [fullData[i] for i in train_idx]\n",
        "  valid_text = [fullData[i] for i in val_idx]\n",
        "\n",
        "  inputs_train = tokenizer(train_text, padding=True,truncation=True,max_length=args.max_seq_length)\n",
        "  inputs_valid=tokenizer(valid_text, padding=True,truncation=True,max_length=args.max_seq_length)\n",
        "\n",
        "  create_labels(inputs_train)\n",
        "  create_labels(inputs_valid)\n",
        "  train_batch_size=args.train_batch_size\n",
        "  valid_batch_size=args.valid_batch_size\n",
        "  traindata=StoryDataset(inputs_train)\n",
        "  train_dataloader = torch.utils.data.DataLoader(\n",
        "    traindata,\n",
        "    shuffle=False,\n",
        "    batch_size=train_batch_size)\n",
        "\n",
        "  validdata=StoryDataset(inputs_valid)\n",
        "  valid_dataloader = torch.utils.data.DataLoader(\n",
        "    validdata,\n",
        "    shuffle=False,\n",
        "    batch_size=valid_batch_size)\n",
        "  training_steps_per_epoch=len(train_dataloader)\n",
        "  total_num_training_steps = int(training_steps_per_epoch*num_train_epochs)\n",
        "\n",
        "  scheduler = get_linear_schedule_with_warmup(\n",
        "    optimizer, num_warmup_steps=warmup_steps, num_training_steps=total_num_training_steps\n",
        "  )\n",
        "\n",
        "  for epoch in range(num_train_epochs):\n",
        "      print(f\"Start epoch{epoch+1} of {num_train_epochs}\")\n",
        "      train_loss=0\n",
        "      epoch_iterator = tqdm(train_dataloader,desc='Iteration')\n",
        "      model.train()\n",
        "      model.zero_grad()\n",
        "      for _, inputs in enumerate(epoch_iterator):\n",
        "          d1,d2,d3=inputs\n",
        "          d1=d1.to('cuda')\n",
        "          d2=d2.to('cuda')\n",
        "          d3=d3.to('cuda')\n",
        "          output = model(input_ids=d1, attention_mask=d2,labels=d3)\n",
        "          batch_loss=output[0]\n",
        "          batch_loss.backward()\n",
        "          optimizer.step()\n",
        "          scheduler.step()\n",
        "          model.zero_grad()\n",
        "          train_loss+=batch_loss.item()\n",
        "          epoch_iterator.set_description('(batch loss=%g)' % batch_loss.item())\n",
        "          del batch_loss\n",
        "      print(f'Average train loss per example={train_loss/training_steps_per_epoch} in epoch{epoch+1}')\n",
        "      print(f'Starting evaluate after epoch {epoch+1}')\n",
        "      eval_loss=[]\n",
        "      model.eval()\n",
        "      for inputs in tqdm(valid_dataloader, desc=\"eval\"):\n",
        "          d1,d2,d3=inputs\n",
        "          d1=d1.to('cuda')\n",
        "          d2=d2.to('cuda')\n",
        "          d3=d3.to('cuda')\n",
        "          with torch.no_grad():\n",
        "              output = model(input_ids=d1, attention_mask=d2,labels=d3)\n",
        "              batch_loss=output[0]\n",
        "          eval_loss+=[batch_loss.cpu().item()]\n",
        "          del batch_loss\n",
        "      eval_loss=np.mean(eval_loss)\n",
        "      perplexity=math.exp(eval_loss)\n",
        "      print(f'Average valid loss per example={eval_loss} in epoch{epoch+1}')\n",
        "      print(f'Perplextiy for valid dataset in epoch{epoch+1} is {perplexity}')"
      ],
      "metadata": {
        "id": "TA9J_fJYfUfT",
        "colab": {
          "base_uri": "https://localhost:8080/"
        },
        "outputId": "b0beb592-d605-4ceb-ab98-bbb39d344bfa"
      },
      "execution_count": 10,
      "outputs": [
        {
          "output_type": "stream",
          "name": "stdout",
          "text": [
            "***** Running training *****\n",
            "  Num Epochs = 4\n",
            "Fold 1/5\n",
            "<class 'numpy.ndarray'>\n",
            "<class 'list'>\n",
            "Start epoch1 of 4\n"
          ]
        },
        {
          "output_type": "stream",
          "name": "stderr",
          "text": [
            "(batch loss=3.10717): 100%|██████████| 50/50 [00:57<00:00,  1.16s/it]\n"
          ]
        },
        {
          "output_type": "stream",
          "name": "stdout",
          "text": [
            "Average train loss per example=3.2446872425079345 in epoch1\n",
            "Starting evaluate after epoch 1\n"
          ]
        },
        {
          "output_type": "stream",
          "name": "stderr",
          "text": [
            "eval: 100%|██████████| 13/13 [00:04<00:00,  3.17it/s]\n"
          ]
        },
        {
          "output_type": "stream",
          "name": "stdout",
          "text": [
            "Average valid loss per example=2.9617257668421817 in epoch1\n",
            "Perplextiy for valid dataset in epoch1 is 19.331304309114877\n",
            "Start epoch2 of 4\n"
          ]
        },
        {
          "output_type": "stream",
          "name": "stderr",
          "text": [
            "(batch loss=2.81498): 100%|██████████| 50/50 [00:58<00:00,  1.17s/it]\n"
          ]
        },
        {
          "output_type": "stream",
          "name": "stdout",
          "text": [
            "Average train loss per example=2.885419716835022 in epoch2\n",
            "Starting evaluate after epoch 2\n"
          ]
        },
        {
          "output_type": "stream",
          "name": "stderr",
          "text": [
            "eval: 100%|██████████| 13/13 [00:04<00:00,  3.00it/s]\n"
          ]
        },
        {
          "output_type": "stream",
          "name": "stdout",
          "text": [
            "Average valid loss per example=2.7013312119704027 in epoch2\n",
            "Perplextiy for valid dataset in epoch2 is 14.899552992088312\n",
            "Start epoch3 of 4\n"
          ]
        },
        {
          "output_type": "stream",
          "name": "stderr",
          "text": [
            "(batch loss=2.74056): 100%|██████████| 50/50 [00:58<00:00,  1.17s/it]\n"
          ]
        },
        {
          "output_type": "stream",
          "name": "stdout",
          "text": [
            "Average train loss per example=2.6836939811706544 in epoch3\n",
            "Starting evaluate after epoch 3\n"
          ]
        },
        {
          "output_type": "stream",
          "name": "stderr",
          "text": [
            "eval: 100%|██████████| 13/13 [00:04<00:00,  3.03it/s]\n"
          ]
        },
        {
          "output_type": "stream",
          "name": "stdout",
          "text": [
            "Average valid loss per example=2.6720843131725607 in epoch3\n",
            "Perplextiy for valid dataset in epoch3 is 14.470097998828914\n",
            "Start epoch4 of 4\n"
          ]
        },
        {
          "output_type": "stream",
          "name": "stderr",
          "text": [
            "(batch loss=2.64901): 100%|██████████| 50/50 [00:58<00:00,  1.17s/it]\n"
          ]
        },
        {
          "output_type": "stream",
          "name": "stdout",
          "text": [
            "Average train loss per example=2.574224147796631 in epoch4\n",
            "Starting evaluate after epoch 4\n"
          ]
        },
        {
          "output_type": "stream",
          "name": "stderr",
          "text": [
            "eval: 100%|██████████| 13/13 [00:04<00:00,  3.09it/s]\n"
          ]
        },
        {
          "output_type": "stream",
          "name": "stdout",
          "text": [
            "Average valid loss per example=2.6709368228912354 in epoch4\n",
            "Perplextiy for valid dataset in epoch4 is 14.453503224997187\n",
            "Fold 2/5\n",
            "<class 'numpy.ndarray'>\n",
            "<class 'list'>\n",
            "Start epoch1 of 4\n"
          ]
        },
        {
          "output_type": "stream",
          "name": "stderr",
          "text": [
            "(batch loss=2.62609): 100%|██████████| 50/50 [00:58<00:00,  1.16s/it]\n"
          ]
        },
        {
          "output_type": "stream",
          "name": "stdout",
          "text": [
            "Average train loss per example=2.5436416816711427 in epoch1\n",
            "Starting evaluate after epoch 1\n"
          ]
        },
        {
          "output_type": "stream",
          "name": "stderr",
          "text": [
            "eval: 100%|██████████| 13/13 [00:04<00:00,  3.09it/s]\n"
          ]
        },
        {
          "output_type": "stream",
          "name": "stdout",
          "text": [
            "Average valid loss per example=2.342933324667124 in epoch1\n",
            "Perplextiy for valid dataset in epoch1 is 10.411732805840833\n",
            "Start epoch2 of 4\n"
          ]
        },
        {
          "output_type": "stream",
          "name": "stderr",
          "text": [
            "(batch loss=2.57868): 100%|██████████| 50/50 [00:58<00:00,  1.16s/it]\n"
          ]
        },
        {
          "output_type": "stream",
          "name": "stdout",
          "text": [
            "Average train loss per example=2.5201954460144043 in epoch2\n",
            "Starting evaluate after epoch 2\n"
          ]
        },
        {
          "output_type": "stream",
          "name": "stderr",
          "text": [
            "eval: 100%|██████████| 13/13 [00:04<00:00,  3.06it/s]\n"
          ]
        },
        {
          "output_type": "stream",
          "name": "stdout",
          "text": [
            "Average valid loss per example=2.346177623822139 in epoch2\n",
            "Perplextiy for valid dataset in epoch2 is 10.445566435316572\n",
            "Start epoch3 of 4\n"
          ]
        },
        {
          "output_type": "stream",
          "name": "stderr",
          "text": [
            "(batch loss=2.52148): 100%|██████████| 50/50 [00:58<00:00,  1.16s/it]\n"
          ]
        },
        {
          "output_type": "stream",
          "name": "stdout",
          "text": [
            "Average train loss per example=2.458579807281494 in epoch3\n",
            "Starting evaluate after epoch 3\n"
          ]
        },
        {
          "output_type": "stream",
          "name": "stderr",
          "text": [
            "eval: 100%|██████████| 13/13 [00:04<00:00,  2.66it/s]\n"
          ]
        },
        {
          "output_type": "stream",
          "name": "stdout",
          "text": [
            "Average valid loss per example=2.3538314562577467 in epoch3\n",
            "Perplextiy for valid dataset in epoch3 is 10.525821789235772\n",
            "Start epoch4 of 4\n"
          ]
        },
        {
          "output_type": "stream",
          "name": "stderr",
          "text": [
            "(batch loss=2.42948): 100%|██████████| 50/50 [00:58<00:00,  1.17s/it]\n"
          ]
        },
        {
          "output_type": "stream",
          "name": "stdout",
          "text": [
            "Average train loss per example=2.3675065541267397 in epoch4\n",
            "Starting evaluate after epoch 4\n"
          ]
        },
        {
          "output_type": "stream",
          "name": "stderr",
          "text": [
            "eval: 100%|██████████| 13/13 [00:04<00:00,  2.97it/s]\n"
          ]
        },
        {
          "output_type": "stream",
          "name": "stdout",
          "text": [
            "Average valid loss per example=2.365826441691472 in epoch4\n",
            "Perplextiy for valid dataset in epoch4 is 10.65283913092651\n",
            "Fold 3/5\n",
            "<class 'numpy.ndarray'>\n",
            "<class 'list'>\n",
            "Start epoch1 of 4\n"
          ]
        },
        {
          "output_type": "stream",
          "name": "stderr",
          "text": [
            "(batch loss=2.49592): 100%|██████████| 50/50 [00:54<00:00,  1.08s/it]\n"
          ]
        },
        {
          "output_type": "stream",
          "name": "stdout",
          "text": [
            "Average train loss per example=2.3188513779640196 in epoch1\n",
            "Starting evaluate after epoch 1\n"
          ]
        },
        {
          "output_type": "stream",
          "name": "stderr",
          "text": [
            "eval: 100%|██████████| 13/13 [00:04<00:00,  2.69it/s]\n"
          ]
        },
        {
          "output_type": "stream",
          "name": "stdout",
          "text": [
            "Average valid loss per example=2.1009081418697653 in epoch1\n",
            "Perplextiy for valid dataset in epoch1 is 8.173589321809049\n",
            "Start epoch2 of 4\n"
          ]
        },
        {
          "output_type": "stream",
          "name": "stderr",
          "text": [
            "(batch loss=2.41348): 100%|██████████| 50/50 [00:54<00:00,  1.09s/it]\n"
          ]
        },
        {
          "output_type": "stream",
          "name": "stdout",
          "text": [
            "Average train loss per example=2.293374752998352 in epoch2\n",
            "Starting evaluate after epoch 2\n"
          ]
        },
        {
          "output_type": "stream",
          "name": "stderr",
          "text": [
            "eval: 100%|██████████| 13/13 [00:04<00:00,  2.86it/s]\n"
          ]
        },
        {
          "output_type": "stream",
          "name": "stdout",
          "text": [
            "Average valid loss per example=2.108711526944087 in epoch2\n",
            "Perplextiy for valid dataset in epoch2 is 8.237620491744835\n",
            "Start epoch3 of 4\n"
          ]
        },
        {
          "output_type": "stream",
          "name": "stderr",
          "text": [
            "(batch loss=2.40368): 100%|██████████| 50/50 [00:54<00:00,  1.08s/it]\n"
          ]
        },
        {
          "output_type": "stream",
          "name": "stdout",
          "text": [
            "Average train loss per example=2.2341250228881835 in epoch3\n",
            "Starting evaluate after epoch 3\n"
          ]
        },
        {
          "output_type": "stream",
          "name": "stderr",
          "text": [
            "eval: 100%|██████████| 13/13 [00:04<00:00,  2.87it/s]\n"
          ]
        },
        {
          "output_type": "stream",
          "name": "stdout",
          "text": [
            "Average valid loss per example=2.1232077525212216 in epoch3\n",
            "Perplextiy for valid dataset in epoch3 is 8.357904623189569\n",
            "Start epoch4 of 4\n"
          ]
        },
        {
          "output_type": "stream",
          "name": "stderr",
          "text": [
            "(batch loss=2.30871): 100%|██████████| 50/50 [00:54<00:00,  1.09s/it]\n"
          ]
        },
        {
          "output_type": "stream",
          "name": "stdout",
          "text": [
            "Average train loss per example=2.152664768695831 in epoch4\n",
            "Starting evaluate after epoch 4\n"
          ]
        },
        {
          "output_type": "stream",
          "name": "stderr",
          "text": [
            "eval: 100%|██████████| 13/13 [00:04<00:00,  2.84it/s]\n"
          ]
        },
        {
          "output_type": "stream",
          "name": "stdout",
          "text": [
            "Average valid loss per example=2.1422469982734094 in epoch4\n",
            "Perplextiy for valid dataset in epoch4 is 8.518557323478937\n",
            "Fold 4/5\n",
            "<class 'numpy.ndarray'>\n",
            "<class 'list'>\n",
            "Start epoch1 of 4\n"
          ]
        },
        {
          "output_type": "stream",
          "name": "stderr",
          "text": [
            "(batch loss=2.24114): 100%|██████████| 50/50 [00:58<00:00,  1.16s/it]\n"
          ]
        },
        {
          "output_type": "stream",
          "name": "stdout",
          "text": [
            "Average train loss per example=2.110801990032196 in epoch1\n",
            "Starting evaluate after epoch 1\n"
          ]
        },
        {
          "output_type": "stream",
          "name": "stderr",
          "text": [
            "eval: 100%|██████████| 13/13 [00:03<00:00,  3.33it/s]\n"
          ]
        },
        {
          "output_type": "stream",
          "name": "stdout",
          "text": [
            "Average valid loss per example=1.8036370094005878 in epoch1\n",
            "Perplextiy for valid dataset in epoch1 is 6.071690149539686\n",
            "Start epoch2 of 4\n"
          ]
        },
        {
          "output_type": "stream",
          "name": "stderr",
          "text": [
            "(batch loss=2.23002): 100%|██████████| 50/50 [00:57<00:00,  1.16s/it]\n"
          ]
        },
        {
          "output_type": "stream",
          "name": "stdout",
          "text": [
            "Average train loss per example=2.087110090255737 in epoch2\n",
            "Starting evaluate after epoch 2\n"
          ]
        },
        {
          "output_type": "stream",
          "name": "stderr",
          "text": [
            "eval: 100%|██████████| 13/13 [00:03<00:00,  3.59it/s]\n"
          ]
        },
        {
          "output_type": "stream",
          "name": "stdout",
          "text": [
            "Average valid loss per example=1.8137622888271625 in epoch2\n",
            "Perplextiy for valid dataset in epoch2 is 6.133480000752985\n",
            "Start epoch3 of 4\n"
          ]
        },
        {
          "output_type": "stream",
          "name": "stderr",
          "text": [
            "(batch loss=2.15342): 100%|██████████| 50/50 [00:57<00:00,  1.15s/it]\n"
          ]
        },
        {
          "output_type": "stream",
          "name": "stdout",
          "text": [
            "Average train loss per example=2.0331148862838746 in epoch3\n",
            "Starting evaluate after epoch 3\n"
          ]
        },
        {
          "output_type": "stream",
          "name": "stderr",
          "text": [
            "eval: 100%|██████████| 13/13 [00:03<00:00,  3.60it/s]\n"
          ]
        },
        {
          "output_type": "stream",
          "name": "stdout",
          "text": [
            "Average valid loss per example=1.8299559996678278 in epoch3\n",
            "Perplextiy for valid dataset in epoch3 is 6.233612371475424\n",
            "Start epoch4 of 4\n"
          ]
        },
        {
          "output_type": "stream",
          "name": "stderr",
          "text": [
            "(batch loss=2.07212): 100%|██████████| 50/50 [00:57<00:00,  1.15s/it]\n"
          ]
        },
        {
          "output_type": "stream",
          "name": "stdout",
          "text": [
            "Average train loss per example=1.9479325962066651 in epoch4\n",
            "Starting evaluate after epoch 4\n"
          ]
        },
        {
          "output_type": "stream",
          "name": "stderr",
          "text": [
            "eval: 100%|██████████| 13/13 [00:03<00:00,  3.59it/s]\n"
          ]
        },
        {
          "output_type": "stream",
          "name": "stdout",
          "text": [
            "Average valid loss per example=1.854704526754526 in epoch4\n",
            "Perplextiy for valid dataset in epoch4 is 6.389809953779034\n",
            "Fold 5/5\n",
            "<class 'numpy.ndarray'>\n",
            "<class 'list'>\n",
            "Start epoch1 of 4\n"
          ]
        },
        {
          "output_type": "stream",
          "name": "stderr",
          "text": [
            "(batch loss=2.27673): 100%|██████████| 50/50 [00:57<00:00,  1.15s/it]\n"
          ]
        },
        {
          "output_type": "stream",
          "name": "stdout",
          "text": [
            "Average train loss per example=1.8920659589767457 in epoch1\n",
            "Starting evaluate after epoch 1\n"
          ]
        },
        {
          "output_type": "stream",
          "name": "stderr",
          "text": [
            "eval: 100%|██████████| 13/13 [00:04<00:00,  3.11it/s]\n"
          ]
        },
        {
          "output_type": "stream",
          "name": "stdout",
          "text": [
            "Average valid loss per example=1.5872415762681227 in epoch1\n",
            "Perplextiy for valid dataset in epoch1 is 4.890240949836848\n",
            "Start epoch2 of 4\n"
          ]
        },
        {
          "output_type": "stream",
          "name": "stderr",
          "text": [
            "(batch loss=2.2018): 100%|██████████| 50/50 [00:57<00:00,  1.15s/it]\n"
          ]
        },
        {
          "output_type": "stream",
          "name": "stdout",
          "text": [
            "Average train loss per example=1.8623445415496827 in epoch2\n",
            "Starting evaluate after epoch 2\n"
          ]
        },
        {
          "output_type": "stream",
          "name": "stderr",
          "text": [
            "eval: 100%|██████████| 13/13 [00:04<00:00,  3.12it/s]\n"
          ]
        },
        {
          "output_type": "stream",
          "name": "stdout",
          "text": [
            "Average valid loss per example=1.5993755230536828 in epoch2\n",
            "Perplextiy for valid dataset in epoch2 is 4.94994033540135\n",
            "Start epoch3 of 4\n"
          ]
        },
        {
          "output_type": "stream",
          "name": "stderr",
          "text": [
            "(batch loss=2.13551): 100%|██████████| 50/50 [00:57<00:00,  1.16s/it]\n"
          ]
        },
        {
          "output_type": "stream",
          "name": "stdout",
          "text": [
            "Average train loss per example=1.8148992586135864 in epoch3\n",
            "Starting evaluate after epoch 3\n"
          ]
        },
        {
          "output_type": "stream",
          "name": "stderr",
          "text": [
            "eval: 100%|██████████| 13/13 [00:04<00:00,  3.11it/s]\n"
          ]
        },
        {
          "output_type": "stream",
          "name": "stdout",
          "text": [
            "Average valid loss per example=1.618099992091839 in epoch3\n",
            "Perplextiy for valid dataset in epoch3 is 5.043498520131838\n",
            "Start epoch4 of 4\n"
          ]
        },
        {
          "output_type": "stream",
          "name": "stderr",
          "text": [
            "(batch loss=2.04538): 100%|██████████| 50/50 [00:57<00:00,  1.16s/it]\n"
          ]
        },
        {
          "output_type": "stream",
          "name": "stdout",
          "text": [
            "Average train loss per example=1.7226743173599244 in epoch4\n",
            "Starting evaluate after epoch 4\n"
          ]
        },
        {
          "output_type": "stream",
          "name": "stderr",
          "text": [
            "eval: 100%|██████████| 13/13 [00:04<00:00,  3.12it/s]"
          ]
        },
        {
          "output_type": "stream",
          "name": "stdout",
          "text": [
            "Average valid loss per example=1.637492766747108 in epoch4\n",
            "Perplextiy for valid dataset in epoch4 is 5.142260489537207\n"
          ]
        },
        {
          "output_type": "stream",
          "name": "stderr",
          "text": [
            "\n"
          ]
        }
      ]
    },
    {
      "cell_type": "code",
      "source": [
        "def generate_story(prompt,target,k=0,p=0.9,output_length=200,temperature=0.7,num_return_sequences=3,repetition_penalty=1.0):\n",
        "    print(\"====prompt====\\n\")\n",
        "    print(prompt+\"\\n\")\n",
        "    print('====target story is as below===\\n')\n",
        "    print(target+\"\\n\")\n",
        "    encoded_prompt = tokenizer.encode(prompt, add_special_tokens=False, return_tensors=\"pt\")\n",
        "    model.to('cpu')\n",
        "    model.eval()\n",
        "    output_sequences = model.generate(\n",
        "        input_ids=encoded_prompt,\n",
        "        max_length=output_length,\n",
        "        temperature=temperature,\n",
        "        top_k=k,\n",
        "        top_p=p,\n",
        "        repetition_penalty=repetition_penalty,\n",
        "        do_sample=True,\n",
        "        num_return_sequences=num_return_sequences\n",
        "    )\n",
        "    if len(output_sequences.shape) > 2:\n",
        "        output_sequences.squeeze_()\n",
        "    for generated_sequence_idx, generated_sequence in enumerate(output_sequences):\n",
        "        print(\"=== GENERATED SEQUENCE {} ===\".format(generated_sequence_idx + 1))\n",
        "        generated_sequence = generated_sequence.tolist()\n",
        "        # Decode text\n",
        "        text = tokenizer.decode(generated_sequence, clean_up_tokenization_spaces=True)\n",
        "        # Remove all text after eos token\n",
        "        text = text[: text.find(tokenizer.eos_token)]\n",
        "        print(text)\n"
      ],
      "metadata": {
        "id": "PQJpA9ZSffYi"
      },
      "execution_count": 11,
      "outputs": []
    },
    {
      "cell_type": "code",
      "source": [
        "prompt='From the first-person perspective, write an emotional narrative with maximum 200 words about: planets'\n",
        "target=fullData[118][fullData[118].find('<sep>')+5:]\n",
        "generate_story(prompt,target)"
      ],
      "metadata": {
        "id": "6U-gQkugfjQX",
        "colab": {
          "base_uri": "https://localhost:8080/"
        },
        "outputId": "b792a76e-31b1-436e-9e69-f008c010d005"
      },
      "execution_count": 12,
      "outputs": [
        {
          "output_type": "stream",
          "name": "stdout",
          "text": [
            "====prompt====\n",
            "\n",
            "From the first-person perspective, write an emotional narrative with maximum 200 words about: planets\n",
            "\n",
            "====target story is as below===\n",
            "\n",
            " I still remember the first weeks after the birth very well. I couldn't stop looking at him. He was so perfect, with his little button nose and his big wide eyes, his little feet and tiny toes. I was sure he was the prettiest and sweetest baby in the whole world. When I lay next to him and he slept, I couldn't take my eyes off him. I watched him lying there, so peacefully, sucking on his pacifier. And I listened to his soft, even breath. I couldn't get enough of cuddling up tightly with him, being very close to him. I had to cry often because it was so indescribably beautiful. I've never felt such a deep love for anyone before as I do for him. He is my life, my everything. Just the thought that something might happen to him turns my stomach. I'm so incredibly happy that I get to be his mother.\n",
            "\n"
          ]
        },
        {
          "output_type": "stream",
          "name": "stderr",
          "text": [
            "The attention mask and the pad token id were not set. As a consequence, you may observe unexpected behavior. Please pass your input's `attention_mask` to obtain reliable results.\n",
            "Setting `pad_token_id` to `eos_token_id`:50256 for open-end generation.\n"
          ]
        },
        {
          "output_type": "stream",
          "name": "stdout",
          "text": [
            "=== GENERATED SEQUENCE 1 ===\n",
            "From the first-person perspective, write an emotional narrative with maximum 200 words about: planets and birth <sep> I was about to go to bed. When I woke up, I was completely surprised. I looked at the sky and saw a beautiful blue sky. I felt so happy. I went to the mirror and saw my beautiful face. My little self had finally appeared! I was so happy! I was so happy. I was so happy. I was so happy. I was so happy. I was so happy. I was so happy. I was so happy. I was so happy. I was so happy. I was so happy. I was so happy. I was so happy. I was so happy. I was so happy. I was so happy. I was so happy. I was so happy. I was so happy. I was so happy. I was so happy. I was so happy. I was so happy. I was so happy. I was s\n",
            "=== GENERATED SEQUENCE 2 ===\n",
            "From the first-person perspective, write an emotional narrative with maximum 200 words about: planets and space <sep> The first thing I noticed when I stepped on the surface of another world was how beautiful it was. The colors, the plants, the animals, the people. The sounds that invaded my ears were the same ones that invaded my mind the day I woke up from sleep. The sounds that told me that I had made the first step on a new world. I felt like I ASUS'd landed on another planet, and I immediately understood why I had come here. The feeling of belonging that I had during my childhood was gone. I was no longer a part of the human race. I was alone in space. The beauty of this world was unlike anything I had ever seen before. It was peaceful, it was deep, and it was waiting for me. I was alone in the universe. I could feel myself drifting away from everything and everything, but I would return to it on\n",
            "=== GENERATED SEQUENCE 3 ===\n",
            "From the first-person perspective, write an emotional narrative with maximum 200 words about: planets and space <sep> I’m walking along the beach when I hear a soft click. The sound causes my heart to beat fast and my palms to sweat. I feel a shiver run up my spine and I turn to see a bright white planet lying in wait. The exoplanet’s atmosphere is almost completely pure oxygen, making it ideal for life. The shiny surface is also ideal for receiving incoming solar radiation. When the exoplanet is about to rise in the sky, a bright star will appear in the far background. The little brownish planet will then be too far away to see with the naked eye. Now imagine if the little brownish planet were to be closer to us! We would become aware of its existence and we would decide to call it home. Imagine our happiness if we could call the little brownish planet home! The little brownish planet will the\n"
          ]
        }
      ]
    },
    {
      "cell_type": "code",
      "source": [
        "def generate_story_inportmodel(prompt,k=0,p=0.9,output_length=219,temperature=0.7,num_return_sequences=1,repetition_penalty=1.0):\n",
        "    print(\"====prompt====\\n\")\n",
        "    print(prompt+\"\\n\")\n",
        "    encoded_prompt = tokenizer.encode(prompt, add_special_tokens=False, return_tensors=\"pt\")\n",
        "    model.to('cpu')\n",
        "    model.eval()\n",
        "    output_sequences = model.generate(\n",
        "        input_ids=encoded_prompt,\n",
        "        max_length=output_length,\n",
        "        temperature=temperature,\n",
        "        top_k=k,\n",
        "        top_p=p,\n",
        "        repetition_penalty=repetition_penalty,\n",
        "        do_sample=True,\n",
        "        num_return_sequences=num_return_sequences\n",
        "    )\n",
        "    if len(output_sequences.shape) > 2:\n",
        "        output_sequences.squeeze_()\n",
        "    for generated_sequence_idx, generated_sequence in enumerate(output_sequences):\n",
        "        print(\"=== GENERATED SEQUENCE {} ===\".format(generated_sequence_idx + 1))\n",
        "        generated_sequence = generated_sequence.tolist()\n",
        "        # Decode text\n",
        "        text = tokenizer.decode(generated_sequence, clean_up_tokenization_spaces=True)\n",
        "        # Remove all text after eos token\n",
        "        text = text[: text.find(tokenizer.eos_token)]\n",
        "        print(text)\n",
        "        return text"
      ],
      "metadata": {
        "id": "XX_gcs5DjTml"
      },
      "execution_count": 13,
      "outputs": []
    },
    {
      "cell_type": "code",
      "source": [
        "from google.colab import files"
      ],
      "metadata": {
        "id": "oM97I0SXjVnC"
      },
      "execution_count": 14,
      "outputs": []
    },
    {
      "cell_type": "code",
      "source": [
        "gpt2_df = pd.DataFrame(columns=[\"tag\",\"story\"])\n",
        "for tag in tags:\n",
        "#for tag in df_selected['tags']:\n",
        "  prompt='From the first-person perspective, write an emotional narrative with maximum 200 words about: ' + tag\n",
        "  story = generate_story_inportmodel(prompt)\n",
        "  gpt2_df = gpt2_df.append({\"tag\": tag,\"story\": story}, ignore_index=True)\n",
        "\n",
        "# Save the updated DataFrame to the CSV file\n",
        "csv_file_path = \"GPT2-new-finetune.csv\"\n",
        "gpt2_df.to_csv(csv_file_path, index=False)\n",
        "\n",
        "# Download the CSV file to your local machine\n",
        "files.download(csv_file_path)"
      ],
      "metadata": {
        "id": "ZL9vO_XLjVqI",
        "colab": {
          "base_uri": "https://localhost:8080/",
          "height": 384
        },
        "outputId": "1f5e2f37-7dc5-42d0-b15a-ff80a05cfdb4"
      },
      "execution_count": 17,
      "outputs": [
        {
          "output_type": "stream",
          "name": "stderr",
          "text": [
            "The attention mask and the pad token id were not set. As a consequence, you may observe unexpected behavior. Please pass your input's `attention_mask` to obtain reliable results.\n",
            "Setting `pad_token_id` to `eos_token_id`:50256 for open-end generation.\n"
          ]
        },
        {
          "output_type": "stream",
          "name": "stdout",
          "text": [
            "====prompt====\n",
            "\n",
            "From the first-person perspective, write an emotional narrative with maximum 200 words about: home\n",
            "\n"
          ]
        },
        {
          "output_type": "stream",
          "name": "stderr",
          "text": [
            "<ipython-input-17-78c9c10d0b8f>:7: FutureWarning: The frame.append method is deprecated and will be removed from pandas in a future version. Use pandas.concat instead.\n",
            "  gpt2_df = gpt2_df.append({\"tag\": tag,\"story\": story}, ignore_index=True)\n",
            "The attention mask and the pad token id were not set. As a consequence, you may observe unexpected behavior. Please pass your input's `attention_mask` to obtain reliable results.\n",
            "Setting `pad_token_id` to `eos_token_id`:50256 for open-end generation.\n"
          ]
        },
        {
          "output_type": "stream",
          "name": "stdout",
          "text": [
            "=== GENERATED SEQUENCE 1 ===\n",
            "From the first-person perspective, write an emotional narrative with maximum 200 words about: home and family and pet <sep> I am lying on a bed in my parents' house, which is quite small, especially compared to the rest of the house. The ceiling is covered diamond-shaped, and the only light comes from a narrow window on the upper floor. The only sounds that come through are the soft whimpers of the cat and the wagging tail of the dog which is lying on my lap. The only thing that irritates me is the sound of the cat's purring, which annoys me even more. I am not used to it, and I am not used to humans either. I only know cats from stories and movies. I like the smell of cat urine and the sound of the cat purring, and I like it when it is happy. However, the purring of the dog is not for me. It makes me sneeze. When I am lying on my bed, the only sound that is audible is the rustling of the sheet\n",
            "====prompt====\n",
            "\n",
            "From the first-person perspective, write an emotional narrative with maximum 200 words about: love\n",
            "\n",
            "=== GENERATED SEQUENCE 1 ===\n",
            "From the first-person perspective, write an emotional narrative with maximum 200 words about: love and death <sep> It’s been years since I last went out, but I still remember my mother saying that I should go out with her. It’s been years since I last went out, but I still remember my mother saying that I should go out with her. I’m still young and impressionable, and I don’t really know how to talk to people. I don’t know how to say good-bye, either, because I feel like it would be rude. I feel like I have to say it in a way that makes them understand, because otherwise, I won’t be able to say goodbye in a good way. I don’t know how to say no, either, because I feel like saying no would make them feel bad about what they just did. I feel like saying no would make me feel bad about what they just did, too. I can see how they might feel bad. I fee\n"
          ]
        },
        {
          "output_type": "stream",
          "name": "stderr",
          "text": [
            "<ipython-input-17-78c9c10d0b8f>:7: FutureWarning: The frame.append method is deprecated and will be removed from pandas in a future version. Use pandas.concat instead.\n",
            "  gpt2_df = gpt2_df.append({\"tag\": tag,\"story\": story}, ignore_index=True)\n"
          ]
        },
        {
          "output_type": "display_data",
          "data": {
            "text/plain": [
              "<IPython.core.display.Javascript object>"
            ],
            "application/javascript": [
              "\n",
              "    async function download(id, filename, size) {\n",
              "      if (!google.colab.kernel.accessAllowed) {\n",
              "        return;\n",
              "      }\n",
              "      const div = document.createElement('div');\n",
              "      const label = document.createElement('label');\n",
              "      label.textContent = `Downloading \"${filename}\": `;\n",
              "      div.appendChild(label);\n",
              "      const progress = document.createElement('progress');\n",
              "      progress.max = size;\n",
              "      div.appendChild(progress);\n",
              "      document.body.appendChild(div);\n",
              "\n",
              "      const buffers = [];\n",
              "      let downloaded = 0;\n",
              "\n",
              "      const channel = await google.colab.kernel.comms.open(id);\n",
              "      // Send a message to notify the kernel that we're ready.\n",
              "      channel.send({})\n",
              "\n",
              "      for await (const message of channel.messages) {\n",
              "        // Send a message to notify the kernel that we're ready.\n",
              "        channel.send({})\n",
              "        if (message.buffers) {\n",
              "          for (const buffer of message.buffers) {\n",
              "            buffers.push(buffer);\n",
              "            downloaded += buffer.byteLength;\n",
              "            progress.value = downloaded;\n",
              "          }\n",
              "        }\n",
              "      }\n",
              "      const blob = new Blob(buffers, {type: 'application/binary'});\n",
              "      const a = document.createElement('a');\n",
              "      a.href = window.URL.createObjectURL(blob);\n",
              "      a.download = filename;\n",
              "      div.appendChild(a);\n",
              "      a.click();\n",
              "      div.remove();\n",
              "    }\n",
              "  "
            ]
          },
          "metadata": {}
        },
        {
          "output_type": "display_data",
          "data": {
            "text/plain": [
              "<IPython.core.display.Javascript object>"
            ],
            "application/javascript": [
              "download(\"download_137f2fac-ad46-42f3-9154-38a9f0f82d58\", \"GPT2-new-finetune.csv\", 1805)"
            ]
          },
          "metadata": {}
        }
      ]
    },
    {
      "cell_type": "code",
      "source": [
        "# preprocess the stories by removing the begining sentence of the prompt\n",
        "import re\n",
        "for i, story in enumerate(gpt2_df['story']):\n",
        "  new_story = re.sub(r\".*?<sep>\", \"\", story)\n",
        "  gpt2_df.loc[i, \"story\"] = new_story\n",
        "print(gpt2_df)"
      ],
      "metadata": {
        "id": "eNdqlesctXTG",
        "colab": {
          "base_uri": "https://localhost:8080/"
        },
        "outputId": "49dd800c-7a94-48a4-8328-7608f3ff9892"
      },
      "execution_count": 18,
      "outputs": [
        {
          "output_type": "stream",
          "name": "stdout",
          "text": [
            "    tag                                              story\n",
            "0  home   I am lying on a bed in my parents' house, whi...\n",
            "1  love   It’s been years since I last went out, but I ...\n"
          ]
        }
      ]
    },
    {
      "cell_type": "markdown",
      "source": [
        "**sentiment analysis**"
      ],
      "metadata": {
        "id": "jlvc-SZf4Mra"
      }
    },
    {
      "cell_type": "markdown",
      "source": [
        "Sentiment analysis with sliding window approach"
      ],
      "metadata": {
        "id": "RqUI6aJJw63d"
      }
    },
    {
      "cell_type": "markdown",
      "source": [
        "IDEST data example"
      ],
      "metadata": {
        "id": "i3MfPDoWz0QJ"
      }
    },
    {
      "cell_type": "code",
      "source": [
        "#data preprocessing\n",
        "story = idest_df['text_english']\n",
        "sentiment_map = { 1: 'Constant',  2: 'Tragedy', 3 : 'Rags-to-riches',  4 : 'Man-in-a-hole ',  5 :'Icarus',  6 : 'Oedipus',  7 : 'Cinderella', 8 : 'No clear story' }\n",
        "# Reverse the key-value pairs in the dictionary\n",
        "sentiment_map = {str(key): value for key, value in sentiment_map.items()}\n",
        "idest_df['StoryType'] = idest_df['StoryType'].astype(str).replace(sentiment_map)\n",
        "\n",
        "#tokenize the stories using NLTK\n",
        "import nltk\n",
        "stories = []\n",
        "input_sentences = []\n",
        "nltk.download('punkt')\n",
        "\n",
        "for item in story:\n",
        "  stories.append(item)\n",
        "from nltk.tokenize import sent_tokenize\n",
        "\n",
        "for story in stories:\n",
        "  input_sentences.append(sent_tokenize(story))"
      ],
      "metadata": {
        "colab": {
          "base_uri": "https://localhost:8080/"
        },
        "id": "w_Aza5KY75jY",
        "outputId": "398fb30f-98cb-4b4f-f595-a8344ae7479a"
      },
      "execution_count": 47,
      "outputs": [
        {
          "output_type": "stream",
          "name": "stderr",
          "text": [
            "[nltk_data] Downloading package punkt to /root/nltk_data...\n",
            "[nltk_data]   Package punkt is already up-to-date!\n"
          ]
        }
      ]
    },
    {
      "cell_type": "code",
      "source": [
        "#sentiment analysis using the sliding window approach\n",
        "! pip install torch\n",
        "sentiment_data = []\n",
        "\n",
        "# Convert sentences and labels to numpy arrays\n",
        "\n",
        "for story_index, story in enumerate(input_sentences):\n",
        "    sentences = list(story)\n",
        "\n",
        "    # Define window size and stride\n",
        "    window_size = 2\n",
        "    stride = 1\n",
        "\n",
        "    # Create sliding windows of sentences\n",
        "    windows = [sentences[i:i + window_size] for i in range(0, len(sentences) - window_size + 1, stride)]\n",
        "\n",
        "    # Tokenize and encode the windows\n",
        "    encoded_windows = []\n",
        "    for window in windows:\n",
        "        encoded = tokenizer.encode_plus(\n",
        "            window,\n",
        "            add_special_tokens=True,\n",
        "            max_length=512,\n",
        "            padding='max_length',\n",
        "            truncation=True,\n",
        "            return_attention_mask=True,\n",
        "            return_tensors='pt'\n",
        "        )\n",
        "        encoded_windows.append(encoded)\n",
        "\n",
        "    # Perform inference on the windows\n",
        "    model.eval()\n",
        "    sentiment_labels = []\n",
        "    sentiment_probabilities = []\n",
        "\n",
        "    with torch.no_grad():\n",
        "      for encoded_window in encoded_windows:\n",
        "        input_ids = encoded_window['input_ids']\n",
        "        attention_mask = encoded_window['attention_mask']\n",
        "\n",
        "        outputs = model(input_ids, attention_mask=attention_mask)\n",
        "        logits = outputs.logits\n",
        "        predicted_label = torch.argmax(logits).item()\n",
        "\n",
        "        probabilities = torch.softmax(logits, dim=1)\n",
        "        predicted_probability = probabilities[0][1].item()\n",
        "\n",
        "\n",
        "        # Map the predicted label to the corresponding sentiment category\n",
        "        sentiment_labels.append(predicted_label)\n",
        "\n",
        "        # Store the sentiment probability in the list\n",
        "        sentiment_probabilities.append(predicted_probability)\n",
        "\n",
        "    # Store the data in a dictionary\n",
        "    for i, window in enumerate(windows[:min(len(sentiment_labels), len(windows))]):\n",
        "        sentiment_data.append({\n",
        "            'Story': f\"Story {story_index + 1}\",\n",
        "            'Sentences': ' '.join(window),\n",
        "            'Sentiment Label': sentiment_labels[i],\n",
        "            'Sentiment Probability': sentiment_probabilities[i]\n",
        "        })\n",
        "\n",
        "# Convert the data to a pandas DataFrame for tabular representation\n",
        "human_story_sentiment = pd.DataFrame(sentiment_data)\n",
        "\n",
        "# Print the DataFrame\n",
        "print(len(human_story_sentiment))"
      ],
      "metadata": {
        "colab": {
          "base_uri": "https://localhost:8080/"
        },
        "id": "J4vp4veu9NHA",
        "outputId": "960c6098-aa40-4b77-de02-e1bad93e199b"
      },
      "execution_count": null,
      "outputs": [
        {
          "output_type": "stream",
          "name": "stdout",
          "text": [
            "Requirement already satisfied: torch in /usr/local/lib/python3.10/dist-packages (2.0.1+cu118)\n",
            "Requirement already satisfied: filelock in /usr/local/lib/python3.10/dist-packages (from torch) (3.12.2)\n",
            "Requirement already satisfied: typing-extensions in /usr/local/lib/python3.10/dist-packages (from torch) (4.5.0)\n",
            "Requirement already satisfied: sympy in /usr/local/lib/python3.10/dist-packages (from torch) (1.12)\n",
            "Requirement already satisfied: networkx in /usr/local/lib/python3.10/dist-packages (from torch) (3.1)\n",
            "Requirement already satisfied: jinja2 in /usr/local/lib/python3.10/dist-packages (from torch) (3.1.2)\n",
            "Requirement already satisfied: triton==2.0.0 in /usr/local/lib/python3.10/dist-packages (from torch) (2.0.0)\n",
            "Requirement already satisfied: cmake in /usr/local/lib/python3.10/dist-packages (from triton==2.0.0->torch) (3.27.4.1)\n",
            "Requirement already satisfied: lit in /usr/local/lib/python3.10/dist-packages (from triton==2.0.0->torch) (16.0.6)\n",
            "Requirement already satisfied: MarkupSafe>=2.0 in /usr/local/lib/python3.10/dist-packages (from jinja2->torch) (2.1.3)\n",
            "Requirement already satisfied: mpmath>=0.19 in /usr/local/lib/python3.10/dist-packages (from sympy->torch) (1.3.0)\n"
          ]
        }
      ]
    },
    {
      "cell_type": "code",
      "source": [
        "# Group by 'Story' and calculate the average 'Sentiment Probability'\n",
        "grouped_human = human_story_sentiment.groupby('Story')['Sentiment Probability'].mean().reset_index()\n",
        "\n",
        "# Set 'Sentiment Label' to 1 if 'Sentiment Probability' is >= 0.5 , 0 otherwise\n",
        "grouped_human['Sentiment Label'] = (grouped_human['Sentiment Probability'] >= 0.5).astype(int)"
      ],
      "metadata": {
        "id": "OCbq2lBDwJfJ"
      },
      "execution_count": 57,
      "outputs": []
    },
    {
      "cell_type": "code",
      "source": [
        "# Merge 'human' with 'grouped_human' based on 'Story' to get 'Sentiment Label' information for each story\n",
        "merged_human = human_story_sentiment.merge(grouped_human[['Story', 'Sentiment Label']], on='Story', how='left')\n",
        "\n",
        "# Filter the entries with 'Sentiment Label' equal to 1\n",
        "stories_with_sentiment_label_1 = merged_human[merged_human['Sentiment Label_y'].eq(1)]\n",
        "stories_with_sentiment_label_0 = merged_human[merged_human['Sentiment Label_y'].eq(0)]\n"
      ],
      "metadata": {
        "id": "G4aRyVXRwJig"
      },
      "execution_count": 58,
      "outputs": []
    },
    {
      "cell_type": "code",
      "source": [
        "##positive stories\n",
        "stories_with_sentiment_label_1['Sliding Window'] = stories_with_sentiment_label_1.groupby('Story').cumcount() + 1\n",
        "stories_with_sentiment_label_1"
      ],
      "metadata": {
        "colab": {
          "base_uri": "https://localhost:8080/",
          "height": 435
        },
        "id": "fx2kY9T3AqXj",
        "outputId": "35f07772-bafd-4b05-eda0-ccc4376f0dd3"
      },
      "execution_count": 59,
      "outputs": [
        {
          "output_type": "stream",
          "name": "stderr",
          "text": [
            "<ipython-input-59-0881e8e4e8c1>:2: SettingWithCopyWarning: \n",
            "A value is trying to be set on a copy of a slice from a DataFrame.\n",
            "Try using .loc[row_indexer,col_indexer] = value instead\n",
            "\n",
            "See the caveats in the documentation: https://pandas.pydata.org/pandas-docs/stable/user_guide/indexing.html#returning-a-view-versus-a-copy\n",
            "  stories_with_sentiment_label_1['Sliding Window'] = stories_with_sentiment_label_1.groupby('Story').cumcount() + 1\n"
          ]
        },
        {
          "output_type": "execute_result",
          "data": {
            "text/plain": [
              "     Story                                          Sentences  \\\n",
              "0  Story 1  It’s a Friday night, and I’m leaving home for ...   \n",
              "1  Story 1  I’m in a good mood because I can start my week...   \n",
              "2  Story 1  After my workout, the lot is now full of cars....   \n",
              "3  Story 1  I walk to my car and notice families all aroun...   \n",
              "4  Story 1  I’m glad I did my shopping for the weekend yes...   \n",
              "5  Story 1  I can just go home and start my weekend. I rea...   \n",
              "6  Story 1  I reach my car, open the door and get behind t...   \n",
              "7  Story 1  I throw my gym bag onto the front seat and tak...   \n",
              "8  Story 1  I want to check messages and incoming calls be...   \n",
              "\n",
              "   Sentiment Label_x  Sentiment Probability  Sentiment Label_y  Sliding Window  \n",
              "0                  1               0.998880                  1               1  \n",
              "1                  1               0.999706                  1               2  \n",
              "2                  1               0.998332                  1               3  \n",
              "3                  1               0.990078                  1               4  \n",
              "4                  0               0.042066                  1               5  \n",
              "5                  1               0.993792                  1               6  \n",
              "6                  0               0.048993                  1               7  \n",
              "7                  0               0.013982                  1               8  \n",
              "8                  0               0.242464                  1               9  "
            ],
            "text/html": [
              "\n",
              "  <div id=\"df-13369f98-3593-43f4-ab0c-7bab7a05c18a\" class=\"colab-df-container\">\n",
              "    <div>\n",
              "<style scoped>\n",
              "    .dataframe tbody tr th:only-of-type {\n",
              "        vertical-align: middle;\n",
              "    }\n",
              "\n",
              "    .dataframe tbody tr th {\n",
              "        vertical-align: top;\n",
              "    }\n",
              "\n",
              "    .dataframe thead th {\n",
              "        text-align: right;\n",
              "    }\n",
              "</style>\n",
              "<table border=\"1\" class=\"dataframe\">\n",
              "  <thead>\n",
              "    <tr style=\"text-align: right;\">\n",
              "      <th></th>\n",
              "      <th>Story</th>\n",
              "      <th>Sentences</th>\n",
              "      <th>Sentiment Label_x</th>\n",
              "      <th>Sentiment Probability</th>\n",
              "      <th>Sentiment Label_y</th>\n",
              "      <th>Sliding Window</th>\n",
              "    </tr>\n",
              "  </thead>\n",
              "  <tbody>\n",
              "    <tr>\n",
              "      <th>0</th>\n",
              "      <td>Story 1</td>\n",
              "      <td>It’s a Friday night, and I’m leaving home for ...</td>\n",
              "      <td>1</td>\n",
              "      <td>0.998880</td>\n",
              "      <td>1</td>\n",
              "      <td>1</td>\n",
              "    </tr>\n",
              "    <tr>\n",
              "      <th>1</th>\n",
              "      <td>Story 1</td>\n",
              "      <td>I’m in a good mood because I can start my week...</td>\n",
              "      <td>1</td>\n",
              "      <td>0.999706</td>\n",
              "      <td>1</td>\n",
              "      <td>2</td>\n",
              "    </tr>\n",
              "    <tr>\n",
              "      <th>2</th>\n",
              "      <td>Story 1</td>\n",
              "      <td>After my workout, the lot is now full of cars....</td>\n",
              "      <td>1</td>\n",
              "      <td>0.998332</td>\n",
              "      <td>1</td>\n",
              "      <td>3</td>\n",
              "    </tr>\n",
              "    <tr>\n",
              "      <th>3</th>\n",
              "      <td>Story 1</td>\n",
              "      <td>I walk to my car and notice families all aroun...</td>\n",
              "      <td>1</td>\n",
              "      <td>0.990078</td>\n",
              "      <td>1</td>\n",
              "      <td>4</td>\n",
              "    </tr>\n",
              "    <tr>\n",
              "      <th>4</th>\n",
              "      <td>Story 1</td>\n",
              "      <td>I’m glad I did my shopping for the weekend yes...</td>\n",
              "      <td>0</td>\n",
              "      <td>0.042066</td>\n",
              "      <td>1</td>\n",
              "      <td>5</td>\n",
              "    </tr>\n",
              "    <tr>\n",
              "      <th>5</th>\n",
              "      <td>Story 1</td>\n",
              "      <td>I can just go home and start my weekend. I rea...</td>\n",
              "      <td>1</td>\n",
              "      <td>0.993792</td>\n",
              "      <td>1</td>\n",
              "      <td>6</td>\n",
              "    </tr>\n",
              "    <tr>\n",
              "      <th>6</th>\n",
              "      <td>Story 1</td>\n",
              "      <td>I reach my car, open the door and get behind t...</td>\n",
              "      <td>0</td>\n",
              "      <td>0.048993</td>\n",
              "      <td>1</td>\n",
              "      <td>7</td>\n",
              "    </tr>\n",
              "    <tr>\n",
              "      <th>7</th>\n",
              "      <td>Story 1</td>\n",
              "      <td>I throw my gym bag onto the front seat and tak...</td>\n",
              "      <td>0</td>\n",
              "      <td>0.013982</td>\n",
              "      <td>1</td>\n",
              "      <td>8</td>\n",
              "    </tr>\n",
              "    <tr>\n",
              "      <th>8</th>\n",
              "      <td>Story 1</td>\n",
              "      <td>I want to check messages and incoming calls be...</td>\n",
              "      <td>0</td>\n",
              "      <td>0.242464</td>\n",
              "      <td>1</td>\n",
              "      <td>9</td>\n",
              "    </tr>\n",
              "  </tbody>\n",
              "</table>\n",
              "</div>\n",
              "    <div class=\"colab-df-buttons\">\n",
              "\n",
              "  <div class=\"colab-df-container\">\n",
              "    <button class=\"colab-df-convert\" onclick=\"convertToInteractive('df-13369f98-3593-43f4-ab0c-7bab7a05c18a')\"\n",
              "            title=\"Convert this dataframe to an interactive table.\"\n",
              "            style=\"display:none;\">\n",
              "\n",
              "  <svg xmlns=\"http://www.w3.org/2000/svg\" height=\"24px\" viewBox=\"0 -960 960 960\">\n",
              "    <path d=\"M120-120v-720h720v720H120Zm60-500h600v-160H180v160Zm220 220h160v-160H400v160Zm0 220h160v-160H400v160ZM180-400h160v-160H180v160Zm440 0h160v-160H620v160ZM180-180h160v-160H180v160Zm440 0h160v-160H620v160Z\"/>\n",
              "  </svg>\n",
              "    </button>\n",
              "\n",
              "  <style>\n",
              "    .colab-df-container {\n",
              "      display:flex;\n",
              "      gap: 12px;\n",
              "    }\n",
              "\n",
              "    .colab-df-convert {\n",
              "      background-color: #E8F0FE;\n",
              "      border: none;\n",
              "      border-radius: 50%;\n",
              "      cursor: pointer;\n",
              "      display: none;\n",
              "      fill: #1967D2;\n",
              "      height: 32px;\n",
              "      padding: 0 0 0 0;\n",
              "      width: 32px;\n",
              "    }\n",
              "\n",
              "    .colab-df-convert:hover {\n",
              "      background-color: #E2EBFA;\n",
              "      box-shadow: 0px 1px 2px rgba(60, 64, 67, 0.3), 0px 1px 3px 1px rgba(60, 64, 67, 0.15);\n",
              "      fill: #174EA6;\n",
              "    }\n",
              "\n",
              "    .colab-df-buttons div {\n",
              "      margin-bottom: 4px;\n",
              "    }\n",
              "\n",
              "    [theme=dark] .colab-df-convert {\n",
              "      background-color: #3B4455;\n",
              "      fill: #D2E3FC;\n",
              "    }\n",
              "\n",
              "    [theme=dark] .colab-df-convert:hover {\n",
              "      background-color: #434B5C;\n",
              "      box-shadow: 0px 1px 3px 1px rgba(0, 0, 0, 0.15);\n",
              "      filter: drop-shadow(0px 1px 2px rgba(0, 0, 0, 0.3));\n",
              "      fill: #FFFFFF;\n",
              "    }\n",
              "  </style>\n",
              "\n",
              "    <script>\n",
              "      const buttonEl =\n",
              "        document.querySelector('#df-13369f98-3593-43f4-ab0c-7bab7a05c18a button.colab-df-convert');\n",
              "      buttonEl.style.display =\n",
              "        google.colab.kernel.accessAllowed ? 'block' : 'none';\n",
              "\n",
              "      async function convertToInteractive(key) {\n",
              "        const element = document.querySelector('#df-13369f98-3593-43f4-ab0c-7bab7a05c18a');\n",
              "        const dataTable =\n",
              "          await google.colab.kernel.invokeFunction('convertToInteractive',\n",
              "                                                    [key], {});\n",
              "        if (!dataTable) return;\n",
              "\n",
              "        const docLinkHtml = 'Like what you see? Visit the ' +\n",
              "          '<a target=\"_blank\" href=https://colab.research.google.com/notebooks/data_table.ipynb>data table notebook</a>'\n",
              "          + ' to learn more about interactive tables.';\n",
              "        element.innerHTML = '';\n",
              "        dataTable['output_type'] = 'display_data';\n",
              "        await google.colab.output.renderOutput(dataTable, element);\n",
              "        const docLink = document.createElement('div');\n",
              "        docLink.innerHTML = docLinkHtml;\n",
              "        element.appendChild(docLink);\n",
              "      }\n",
              "    </script>\n",
              "  </div>\n",
              "\n",
              "\n",
              "<div id=\"df-e6737986-84b9-4d80-aea4-0cb3c2dea575\">\n",
              "  <button class=\"colab-df-quickchart\" onclick=\"quickchart('df-e6737986-84b9-4d80-aea4-0cb3c2dea575')\"\n",
              "            title=\"Suggest charts.\"\n",
              "            style=\"display:none;\">\n",
              "\n",
              "<svg xmlns=\"http://www.w3.org/2000/svg\" height=\"24px\"viewBox=\"0 0 24 24\"\n",
              "     width=\"24px\">\n",
              "    <g>\n",
              "        <path d=\"M19 3H5c-1.1 0-2 .9-2 2v14c0 1.1.9 2 2 2h14c1.1 0 2-.9 2-2V5c0-1.1-.9-2-2-2zM9 17H7v-7h2v7zm4 0h-2V7h2v10zm4 0h-2v-4h2v4z\"/>\n",
              "    </g>\n",
              "</svg>\n",
              "  </button>\n",
              "\n",
              "<style>\n",
              "  .colab-df-quickchart {\n",
              "      --bg-color: #E8F0FE;\n",
              "      --fill-color: #1967D2;\n",
              "      --hover-bg-color: #E2EBFA;\n",
              "      --hover-fill-color: #174EA6;\n",
              "      --disabled-fill-color: #AAA;\n",
              "      --disabled-bg-color: #DDD;\n",
              "  }\n",
              "\n",
              "  [theme=dark] .colab-df-quickchart {\n",
              "      --bg-color: #3B4455;\n",
              "      --fill-color: #D2E3FC;\n",
              "      --hover-bg-color: #434B5C;\n",
              "      --hover-fill-color: #FFFFFF;\n",
              "      --disabled-bg-color: #3B4455;\n",
              "      --disabled-fill-color: #666;\n",
              "  }\n",
              "\n",
              "  .colab-df-quickchart {\n",
              "    background-color: var(--bg-color);\n",
              "    border: none;\n",
              "    border-radius: 50%;\n",
              "    cursor: pointer;\n",
              "    display: none;\n",
              "    fill: var(--fill-color);\n",
              "    height: 32px;\n",
              "    padding: 0;\n",
              "    width: 32px;\n",
              "  }\n",
              "\n",
              "  .colab-df-quickchart:hover {\n",
              "    background-color: var(--hover-bg-color);\n",
              "    box-shadow: 0 1px 2px rgba(60, 64, 67, 0.3), 0 1px 3px 1px rgba(60, 64, 67, 0.15);\n",
              "    fill: var(--button-hover-fill-color);\n",
              "  }\n",
              "\n",
              "  .colab-df-quickchart-complete:disabled,\n",
              "  .colab-df-quickchart-complete:disabled:hover {\n",
              "    background-color: var(--disabled-bg-color);\n",
              "    fill: var(--disabled-fill-color);\n",
              "    box-shadow: none;\n",
              "  }\n",
              "\n",
              "  .colab-df-spinner {\n",
              "    border: 2px solid var(--fill-color);\n",
              "    border-color: transparent;\n",
              "    border-bottom-color: var(--fill-color);\n",
              "    animation:\n",
              "      spin 1s steps(1) infinite;\n",
              "  }\n",
              "\n",
              "  @keyframes spin {\n",
              "    0% {\n",
              "      border-color: transparent;\n",
              "      border-bottom-color: var(--fill-color);\n",
              "      border-left-color: var(--fill-color);\n",
              "    }\n",
              "    20% {\n",
              "      border-color: transparent;\n",
              "      border-left-color: var(--fill-color);\n",
              "      border-top-color: var(--fill-color);\n",
              "    }\n",
              "    30% {\n",
              "      border-color: transparent;\n",
              "      border-left-color: var(--fill-color);\n",
              "      border-top-color: var(--fill-color);\n",
              "      border-right-color: var(--fill-color);\n",
              "    }\n",
              "    40% {\n",
              "      border-color: transparent;\n",
              "      border-right-color: var(--fill-color);\n",
              "      border-top-color: var(--fill-color);\n",
              "    }\n",
              "    60% {\n",
              "      border-color: transparent;\n",
              "      border-right-color: var(--fill-color);\n",
              "    }\n",
              "    80% {\n",
              "      border-color: transparent;\n",
              "      border-right-color: var(--fill-color);\n",
              "      border-bottom-color: var(--fill-color);\n",
              "    }\n",
              "    90% {\n",
              "      border-color: transparent;\n",
              "      border-bottom-color: var(--fill-color);\n",
              "    }\n",
              "  }\n",
              "</style>\n",
              "\n",
              "  <script>\n",
              "    async function quickchart(key) {\n",
              "      const quickchartButtonEl =\n",
              "        document.querySelector('#' + key + ' button');\n",
              "      quickchartButtonEl.disabled = true;  // To prevent multiple clicks.\n",
              "      quickchartButtonEl.classList.add('colab-df-spinner');\n",
              "      try {\n",
              "        const charts = await google.colab.kernel.invokeFunction(\n",
              "            'suggestCharts', [key], {});\n",
              "      } catch (error) {\n",
              "        console.error('Error during call to suggestCharts:', error);\n",
              "      }\n",
              "      quickchartButtonEl.classList.remove('colab-df-spinner');\n",
              "      quickchartButtonEl.classList.add('colab-df-quickchart-complete');\n",
              "    }\n",
              "    (() => {\n",
              "      let quickchartButtonEl =\n",
              "        document.querySelector('#df-e6737986-84b9-4d80-aea4-0cb3c2dea575 button');\n",
              "      quickchartButtonEl.style.display =\n",
              "        google.colab.kernel.accessAllowed ? 'block' : 'none';\n",
              "    })();\n",
              "  </script>\n",
              "</div>\n",
              "    </div>\n",
              "  </div>\n"
            ]
          },
          "metadata": {},
          "execution_count": 59
        }
      ]
    },
    {
      "cell_type": "code",
      "source": [
        "import matplotlib.pyplot as plt\n",
        "\n",
        "# Group by 'Sliding Window' and calculate the average 'Sentiment Probability' for each window\n",
        "average_probability_by_window = stories_with_sentiment_label_1.groupby('Sliding Window')['Sentiment Probability'].mean()\n",
        "\n",
        "# Create the plot\n",
        "plt.figure(figsize=(10, 6))\n",
        "plt.plot(average_probability_by_window.index, average_probability_by_window.values, marker='o', linestyle='-')\n",
        "plt.xlabel('Sliding Window')\n",
        "plt.ylabel('Average Sentiment Probability')\n",
        "plt.title('Positive Human Stories - Average Sentiment Probability for Each Sliding Window')\n",
        "plt.grid(True)\n",
        "\n",
        "\n",
        "plt.ylim(0, 1.1)\n",
        "\n",
        "plt.show()"
      ],
      "metadata": {
        "colab": {
          "base_uri": "https://localhost:8080/",
          "height": 564
        },
        "id": "HL1Q8-eLyEhd",
        "outputId": "18b40bae-b6b2-49b8-dd3a-4009f932628c"
      },
      "execution_count": 60,
      "outputs": [
        {
          "output_type": "display_data",
          "data": {
            "text/plain": [
              "<Figure size 1000x600 with 1 Axes>"
            ],
            "image/png": "[encoded data removed]"
          },
          "metadata": {}
        }
      ]
    },
    {
      "cell_type": "code",
      "source": [
        "#negative stories\n",
        "stories_with_sentiment_label_0['Sliding Window'] = stories_with_sentiment_label_0.groupby('Story').cumcount() + 1\n",
        "stories_with_sentiment_label_0"
      ],
      "metadata": {
        "colab": {
          "base_uri": "https://localhost:8080/",
          "height": 498
        },
        "id": "AUB4sioyA5u0",
        "outputId": "a003b1fa-c381-47e4-aa67-43992b21cd8b"
      },
      "execution_count": 61,
      "outputs": [
        {
          "output_type": "stream",
          "name": "stderr",
          "text": [
            "<ipython-input-61-c523d4c7d2fa>:2: SettingWithCopyWarning: \n",
            "A value is trying to be set on a copy of a slice from a DataFrame.\n",
            "Try using .loc[row_indexer,col_indexer] = value instead\n",
            "\n",
            "See the caveats in the documentation: https://pandas.pydata.org/pandas-docs/stable/user_guide/indexing.html#returning-a-view-versus-a-copy\n",
            "  stories_with_sentiment_label_0['Sliding Window'] = stories_with_sentiment_label_0.groupby('Story').cumcount() + 1\n"
          ]
        },
        {
          "output_type": "execute_result",
          "data": {
            "text/plain": [
              "      Story                                          Sentences  \\\n",
              "9   Story 2  I arrive home from a party and sit in front of...   \n",
              "10  Story 2  I went to a hairdresser before the party and r...   \n",
              "11  Story 2  They used a lot of hairspray at the hairdresse...   \n",
              "12  Story 2  They also back-combed my hair into an elegant ...   \n",
              "13  Story 2  It would be a shame to undo such a fantastic h...   \n",
              "14  Story 2  I know that in the morning, it would be even m...   \n",
              "15  Story 2  I brush my hair carefully, starting from the s...   \n",
              "16  Story 2  I hold my hair from the roots while I work thr...   \n",
              "17  Story 2  This way, brushing hurts less. When I have wor...   \n",
              "18  Story 2  When I have worked through my hair on the side...   \n",
              "19  Story 2  I work through my hair in small sections and m...   \n",
              "\n",
              "    Sentiment Label_x  Sentiment Probability  Sentiment Label_y  \\\n",
              "9                   1               0.999269                  0   \n",
              "10                  0               0.056091                  0   \n",
              "11                  0               0.002164                  0   \n",
              "12                  0               0.010708                  0   \n",
              "13                  0               0.002539                  0   \n",
              "14                  0               0.015280                  0   \n",
              "15                  1               0.905517                  0   \n",
              "16                  0               0.006956                  0   \n",
              "17                  0               0.004043                  0   \n",
              "18                  1               0.875100                  0   \n",
              "19                  1               0.997254                  0   \n",
              "\n",
              "    Sliding Window  \n",
              "9                1  \n",
              "10               2  \n",
              "11               3  \n",
              "12               4  \n",
              "13               5  \n",
              "14               6  \n",
              "15               7  \n",
              "16               8  \n",
              "17               9  \n",
              "18              10  \n",
              "19              11  "
            ],
            "text/html": [
              "\n",
              "  <div id=\"df-80572b5c-aba6-479c-b05b-0113c97606fd\" class=\"colab-df-container\">\n",
              "    <div>\n",
              "<style scoped>\n",
              "    .dataframe tbody tr th:only-of-type {\n",
              "        vertical-align: middle;\n",
              "    }\n",
              "\n",
              "    .dataframe tbody tr th {\n",
              "        vertical-align: top;\n",
              "    }\n",
              "\n",
              "    .dataframe thead th {\n",
              "        text-align: right;\n",
              "    }\n",
              "</style>\n",
              "<table border=\"1\" class=\"dataframe\">\n",
              "  <thead>\n",
              "    <tr style=\"text-align: right;\">\n",
              "      <th></th>\n",
              "      <th>Story</th>\n",
              "      <th>Sentences</th>\n",
              "      <th>Sentiment Label_x</th>\n",
              "      <th>Sentiment Probability</th>\n",
              "      <th>Sentiment Label_y</th>\n",
              "      <th>Sliding Window</th>\n",
              "    </tr>\n",
              "  </thead>\n",
              "  <tbody>\n",
              "    <tr>\n",
              "      <th>9</th>\n",
              "      <td>Story 2</td>\n",
              "      <td>I arrive home from a party and sit in front of...</td>\n",
              "      <td>1</td>\n",
              "      <td>0.999269</td>\n",
              "      <td>0</td>\n",
              "      <td>1</td>\n",
              "    </tr>\n",
              "    <tr>\n",
              "      <th>10</th>\n",
              "      <td>Story 2</td>\n",
              "      <td>I went to a hairdresser before the party and r...</td>\n",
              "      <td>0</td>\n",
              "      <td>0.056091</td>\n",
              "      <td>0</td>\n",
              "      <td>2</td>\n",
              "    </tr>\n",
              "    <tr>\n",
              "      <th>11</th>\n",
              "      <td>Story 2</td>\n",
              "      <td>They used a lot of hairspray at the hairdresse...</td>\n",
              "      <td>0</td>\n",
              "      <td>0.002164</td>\n",
              "      <td>0</td>\n",
              "      <td>3</td>\n",
              "    </tr>\n",
              "    <tr>\n",
              "      <th>12</th>\n",
              "      <td>Story 2</td>\n",
              "      <td>They also back-combed my hair into an elegant ...</td>\n",
              "      <td>0</td>\n",
              "      <td>0.010708</td>\n",
              "      <td>0</td>\n",
              "      <td>4</td>\n",
              "    </tr>\n",
              "    <tr>\n",
              "      <th>13</th>\n",
              "      <td>Story 2</td>\n",
              "      <td>It would be a shame to undo such a fantastic h...</td>\n",
              "      <td>0</td>\n",
              "      <td>0.002539</td>\n",
              "      <td>0</td>\n",
              "      <td>5</td>\n",
              "    </tr>\n",
              "    <tr>\n",
              "      <th>14</th>\n",
              "      <td>Story 2</td>\n",
              "      <td>I know that in the morning, it would be even m...</td>\n",
              "      <td>0</td>\n",
              "      <td>0.015280</td>\n",
              "      <td>0</td>\n",
              "      <td>6</td>\n",
              "    </tr>\n",
              "    <tr>\n",
              "      <th>15</th>\n",
              "      <td>Story 2</td>\n",
              "      <td>I brush my hair carefully, starting from the s...</td>\n",
              "      <td>1</td>\n",
              "      <td>0.905517</td>\n",
              "      <td>0</td>\n",
              "      <td>7</td>\n",
              "    </tr>\n",
              "    <tr>\n",
              "      <th>16</th>\n",
              "      <td>Story 2</td>\n",
              "      <td>I hold my hair from the roots while I work thr...</td>\n",
              "      <td>0</td>\n",
              "      <td>0.006956</td>\n",
              "      <td>0</td>\n",
              "      <td>8</td>\n",
              "    </tr>\n",
              "    <tr>\n",
              "      <th>17</th>\n",
              "      <td>Story 2</td>\n",
              "      <td>This way, brushing hurts less. When I have wor...</td>\n",
              "      <td>0</td>\n",
              "      <td>0.004043</td>\n",
              "      <td>0</td>\n",
              "      <td>9</td>\n",
              "    </tr>\n",
              "    <tr>\n",
              "      <th>18</th>\n",
              "      <td>Story 2</td>\n",
              "      <td>When I have worked through my hair on the side...</td>\n",
              "      <td>1</td>\n",
              "      <td>0.875100</td>\n",
              "      <td>0</td>\n",
              "      <td>10</td>\n",
              "    </tr>\n",
              "    <tr>\n",
              "      <th>19</th>\n",
              "      <td>Story 2</td>\n",
              "      <td>I work through my hair in small sections and m...</td>\n",
              "      <td>1</td>\n",
              "      <td>0.997254</td>\n",
              "      <td>0</td>\n",
              "      <td>11</td>\n",
              "    </tr>\n",
              "  </tbody>\n",
              "</table>\n",
              "</div>\n",
              "    <div class=\"colab-df-buttons\">\n",
              "\n",
              "  <div class=\"colab-df-container\">\n",
              "    <button class=\"colab-df-convert\" onclick=\"convertToInteractive('df-80572b5c-aba6-479c-b05b-0113c97606fd')\"\n",
              "            title=\"Convert this dataframe to an interactive table.\"\n",
              "            style=\"display:none;\">\n",
              "\n",
              "  <svg xmlns=\"http://www.w3.org/2000/svg\" height=\"24px\" viewBox=\"0 -960 960 960\">\n",
              "    <path d=\"M120-120v-720h720v720H120Zm60-500h600v-160H180v160Zm220 220h160v-160H400v160Zm0 220h160v-160H400v160ZM180-400h160v-160H180v160Zm440 0h160v-160H620v160ZM180-180h160v-160H180v160Zm440 0h160v-160H620v160Z\"/>\n",
              "  </svg>\n",
              "    </button>\n",
              "\n",
              "  <style>\n",
              "    .colab-df-container {\n",
              "      display:flex;\n",
              "      gap: 12px;\n",
              "    }\n",
              "\n",
              "    .colab-df-convert {\n",
              "      background-color: #E8F0FE;\n",
              "      border: none;\n",
              "      border-radius: 50%;\n",
              "      cursor: pointer;\n",
              "      display: none;\n",
              "      fill: #1967D2;\n",
              "      height: 32px;\n",
              "      padding: 0 0 0 0;\n",
              "      width: 32px;\n",
              "    }\n",
              "\n",
              "    .colab-df-convert:hover {\n",
              "      background-color: #E2EBFA;\n",
              "      box-shadow: 0px 1px 2px rgba(60, 64, 67, 0.3), 0px 1px 3px 1px rgba(60, 64, 67, 0.15);\n",
              "      fill: #174EA6;\n",
              "    }\n",
              "\n",
              "    .colab-df-buttons div {\n",
              "      margin-bottom: 4px;\n",
              "    }\n",
              "\n",
              "    [theme=dark] .colab-df-convert {\n",
              "      background-color: #3B4455;\n",
              "      fill: #D2E3FC;\n",
              "    }\n",
              "\n",
              "    [theme=dark] .colab-df-convert:hover {\n",
              "      background-color: #434B5C;\n",
              "      box-shadow: 0px 1px 3px 1px rgba(0, 0, 0, 0.15);\n",
              "      filter: drop-shadow(0px 1px 2px rgba(0, 0, 0, 0.3));\n",
              "      fill: #FFFFFF;\n",
              "    }\n",
              "  </style>\n",
              "\n",
              "    <script>\n",
              "      const buttonEl =\n",
              "        document.querySelector('#df-80572b5c-aba6-479c-b05b-0113c97606fd button.colab-df-convert');\n",
              "      buttonEl.style.display =\n",
              "        google.colab.kernel.accessAllowed ? 'block' : 'none';\n",
              "\n",
              "      async function convertToInteractive(key) {\n",
              "        const element = document.querySelector('#df-80572b5c-aba6-479c-b05b-0113c97606fd');\n",
              "        const dataTable =\n",
              "          await google.colab.kernel.invokeFunction('convertToInteractive',\n",
              "                                                    [key], {});\n",
              "        if (!dataTable) return;\n",
              "\n",
              "        const docLinkHtml = 'Like what you see? Visit the ' +\n",
              "          '<a target=\"_blank\" href=https://colab.research.google.com/notebooks/data_table.ipynb>data table notebook</a>'\n",
              "          + ' to learn more about interactive tables.';\n",
              "        element.innerHTML = '';\n",
              "        dataTable['output_type'] = 'display_data';\n",
              "        await google.colab.output.renderOutput(dataTable, element);\n",
              "        const docLink = document.createElement('div');\n",
              "        docLink.innerHTML = docLinkHtml;\n",
              "        element.appendChild(docLink);\n",
              "      }\n",
              "    </script>\n",
              "  </div>\n",
              "\n",
              "\n",
              "<div id=\"df-6e66630f-2f38-4276-992f-01a6af7439c4\">\n",
              "  <button class=\"colab-df-quickchart\" onclick=\"quickchart('df-6e66630f-2f38-4276-992f-01a6af7439c4')\"\n",
              "            title=\"Suggest charts.\"\n",
              "            style=\"display:none;\">\n",
              "\n",
              "<svg xmlns=\"http://www.w3.org/2000/svg\" height=\"24px\"viewBox=\"0 0 24 24\"\n",
              "     width=\"24px\">\n",
              "    <g>\n",
              "        <path d=\"M19 3H5c-1.1 0-2 .9-2 2v14c0 1.1.9 2 2 2h14c1.1 0 2-.9 2-2V5c0-1.1-.9-2-2-2zM9 17H7v-7h2v7zm4 0h-2V7h2v10zm4 0h-2v-4h2v4z\"/>\n",
              "    </g>\n",
              "</svg>\n",
              "  </button>\n",
              "\n",
              "<style>\n",
              "  .colab-df-quickchart {\n",
              "      --bg-color: #E8F0FE;\n",
              "      --fill-color: #1967D2;\n",
              "      --hover-bg-color: #E2EBFA;\n",
              "      --hover-fill-color: #174EA6;\n",
              "      --disabled-fill-color: #AAA;\n",
              "      --disabled-bg-color: #DDD;\n",
              "  }\n",
              "\n",
              "  [theme=dark] .colab-df-quickchart {\n",
              "      --bg-color: #3B4455;\n",
              "      --fill-color: #D2E3FC;\n",
              "      --hover-bg-color: #434B5C;\n",
              "      --hover-fill-color: #FFFFFF;\n",
              "      --disabled-bg-color: #3B4455;\n",
              "      --disabled-fill-color: #666;\n",
              "  }\n",
              "\n",
              "  .colab-df-quickchart {\n",
              "    background-color: var(--bg-color);\n",
              "    border: none;\n",
              "    border-radius: 50%;\n",
              "    cursor: pointer;\n",
              "    display: none;\n",
              "    fill: var(--fill-color);\n",
              "    height: 32px;\n",
              "    padding: 0;\n",
              "    width: 32px;\n",
              "  }\n",
              "\n",
              "  .colab-df-quickchart:hover {\n",
              "    background-color: var(--hover-bg-color);\n",
              "    box-shadow: 0 1px 2px rgba(60, 64, 67, 0.3), 0 1px 3px 1px rgba(60, 64, 67, 0.15);\n",
              "    fill: var(--button-hover-fill-color);\n",
              "  }\n",
              "\n",
              "  .colab-df-quickchart-complete:disabled,\n",
              "  .colab-df-quickchart-complete:disabled:hover {\n",
              "    background-color: var(--disabled-bg-color);\n",
              "    fill: var(--disabled-fill-color);\n",
              "    box-shadow: none;\n",
              "  }\n",
              "\n",
              "  .colab-df-spinner {\n",
              "    border: 2px solid var(--fill-color);\n",
              "    border-color: transparent;\n",
              "    border-bottom-color: var(--fill-color);\n",
              "    animation:\n",
              "      spin 1s steps(1) infinite;\n",
              "  }\n",
              "\n",
              "  @keyframes spin {\n",
              "    0% {\n",
              "      border-color: transparent;\n",
              "      border-bottom-color: var(--fill-color);\n",
              "      border-left-color: var(--fill-color);\n",
              "    }\n",
              "    20% {\n",
              "      border-color: transparent;\n",
              "      border-left-color: var(--fill-color);\n",
              "      border-top-color: var(--fill-color);\n",
              "    }\n",
              "    30% {\n",
              "      border-color: transparent;\n",
              "      border-left-color: var(--fill-color);\n",
              "      border-top-color: var(--fill-color);\n",
              "      border-right-color: var(--fill-color);\n",
              "    }\n",
              "    40% {\n",
              "      border-color: transparent;\n",
              "      border-right-color: var(--fill-color);\n",
              "      border-top-color: var(--fill-color);\n",
              "    }\n",
              "    60% {\n",
              "      border-color: transparent;\n",
              "      border-right-color: var(--fill-color);\n",
              "    }\n",
              "    80% {\n",
              "      border-color: transparent;\n",
              "      border-right-color: var(--fill-color);\n",
              "      border-bottom-color: var(--fill-color);\n",
              "    }\n",
              "    90% {\n",
              "      border-color: transparent;\n",
              "      border-bottom-color: var(--fill-color);\n",
              "    }\n",
              "  }\n",
              "</style>\n",
              "\n",
              "  <script>\n",
              "    async function quickchart(key) {\n",
              "      const quickchartButtonEl =\n",
              "        document.querySelector('#' + key + ' button');\n",
              "      quickchartButtonEl.disabled = true;  // To prevent multiple clicks.\n",
              "      quickchartButtonEl.classList.add('colab-df-spinner');\n",
              "      try {\n",
              "        const charts = await google.colab.kernel.invokeFunction(\n",
              "            'suggestCharts', [key], {});\n",
              "      } catch (error) {\n",
              "        console.error('Error during call to suggestCharts:', error);\n",
              "      }\n",
              "      quickchartButtonEl.classList.remove('colab-df-spinner');\n",
              "      quickchartButtonEl.classList.add('colab-df-quickchart-complete');\n",
              "    }\n",
              "    (() => {\n",
              "      let quickchartButtonEl =\n",
              "        document.querySelector('#df-6e66630f-2f38-4276-992f-01a6af7439c4 button');\n",
              "      quickchartButtonEl.style.display =\n",
              "        google.colab.kernel.accessAllowed ? 'block' : 'none';\n",
              "    })();\n",
              "  </script>\n",
              "</div>\n",
              "    </div>\n",
              "  </div>\n"
            ]
          },
          "metadata": {},
          "execution_count": 61
        }
      ]
    },
    {
      "cell_type": "code",
      "source": [
        "# Group by 'Sliding Window' and calculate the average 'Sentiment Probability' for each window\n",
        "average_probability_by_window = stories_with_sentiment_label_0.groupby('Sliding Window')['Sentiment Probability'].mean()\n",
        "\n",
        "plt.figure(figsize=(10, 6))\n",
        "plt.plot(average_probability_by_window.index, average_probability_by_window.values, marker='o', linestyle='-')\n",
        "plt.xlabel('Sliding Window')\n",
        "plt.ylabel('Average Sentiment Probability')\n",
        "plt.title('Negative Human Stories - Average Sentiment Probability for Each Sliding Window')\n",
        "plt.grid(True)\n",
        "\n",
        "plt.ylim(0, 1.1)\n",
        "\n",
        "plt.show()\n"
      ],
      "metadata": {
        "colab": {
          "base_uri": "https://localhost:8080/",
          "height": 564
        },
        "id": "U9MdNpyXA6HG",
        "outputId": "58b6de38-48ab-48f7-cff7-16782f855c7f"
      },
      "execution_count": 62,
      "outputs": [
        {
          "output_type": "display_data",
          "data": {
            "text/plain": [
              "<Figure size 1000x600 with 1 Axes>"
            ],
            "image/png": "[encoded data removed]"
          },
          "metadata": {}
        }
      ]
    },
    {
      "cell_type": "code",
      "source": [
        "# Group by 'Sliding Window' and calculate the average 'Sentiment Probability' for each window\n",
        "average_probability_positive = stories_with_sentiment_label_1.groupby('Sliding Window')['Sentiment Probability'].mean()\n",
        "average_probability_negative = stories_with_sentiment_label_0.groupby('Sliding Window')['Sentiment Probability'].mean()\n",
        "\n",
        "# Plot with two subplots side by side\n",
        "plt.figure(figsize=(15, 6))\n",
        "\n",
        "# Plot for positive stories\n",
        "plt.subplot(1, 2, 1)\n",
        "plt.plot(average_probability_positive.index, average_probability_positive.values, marker='o', linestyle='-',color='blue')\n",
        "plt.xlabel('Sliding Window')\n",
        "plt.ylabel('Average Sentiment Probability')\n",
        "plt.title('Positive Human Stories - Average Sentiment Probability for Each Sliding Window')\n",
        "plt.grid(True)\n",
        "plt.ylim(0, 1.1)\n",
        "\n",
        "# Plot for negative stories\n",
        "plt.subplot(1, 2, 2)\n",
        "plt.plot(average_probability_negative.index, average_probability_negative.values, marker='o', linestyle='-',color='red')\n",
        "plt.xlabel('Sliding Window')\n",
        "plt.ylabel('Average Sentiment Probability')\n",
        "plt.title('Negative Human Stories - Average Sentiment Probability for Each Sliding Window')\n",
        "plt.grid(True)\n",
        "plt.ylim(0, 1.1)\n",
        "\n",
        "plt.tight_layout()\n",
        "\n",
        "plt.show()\n"
      ],
      "metadata": {
        "colab": {
          "base_uri": "https://localhost:8080/",
          "height": 577
        },
        "id": "TpvSxB5lCCfa",
        "outputId": "ceeefc08-2448-4177-ce3e-ce91342cbd30"
      },
      "execution_count": 63,
      "outputs": [
        {
          "output_type": "display_data",
          "data": {
            "text/plain": [
              "<Figure size 1500x600 with 2 Axes>"
            ],
            "image/png": "[encoded data removed]"
          },
          "metadata": {}
        }
      ]
    },
    {
      "cell_type": "code",
      "source": [
        "# Group by 'Sliding Window' and collect the 'Sentiment Probability' for each window as lists\n",
        "data_positive = stories_with_sentiment_label_1.groupby('Sliding Window')['Sentiment Probability'].apply(list)\n",
        "data_negative = stories_with_sentiment_label_0.groupby('Sliding Window')['Sentiment Probability'].apply(list)\n",
        "\n",
        "# Convert the index to a 1-dimensional array using .to_numpy() or .values\n",
        "positions_positive = average_probability_positive.index.to_numpy()\n",
        "positions_negative = average_probability_negative.index.to_numpy()\n",
        "\n",
        "# Create the violin plot for positive stories\n",
        "plt.figure(figsize=(10, 6))\n",
        "plt.subplot(2, 1, 1)\n",
        "plt.violinplot(data_positive, positions=positions_positive, showmedians=True, vert=True, widths=0.7, points=100)\n",
        "plt.plot(average_probability_positive.index, average_probability_positive.values, marker='o', linestyle='-', color='blue', label='Average')\n",
        "plt.xlabel('Sliding Window')\n",
        "plt.ylabel('Sentiment Probability')\n",
        "plt.title('Positive Human Stories - Sentiment Probability Distribution for Each Sliding Window')\n",
        "plt.grid(True)\n",
        "plt.ylim(0, 1.1)\n",
        "plt.legend()\n",
        "\n",
        "# Create the violin plot for negative stories\n",
        "plt.subplot(2, 1, 2)  # 2 rows, 1 column, plot 2 (bottom)\n",
        "plt.violinplot(data_negative, positions=positions_negative, showmedians=True, vert=True, widths=0.7, points=100)\n",
        "plt.plot(average_probability_negative.index, average_probability_negative.values, marker='o', linestyle='-', color='red', label='Average')\n",
        "plt.xlabel('Sliding Window')\n",
        "plt.ylabel('Sentiment Probability')\n",
        "plt.title('Negative Human Stories - Sentiment Probability Distribution for Each Sliding Window')\n",
        "plt.grid(True)\n",
        "plt.ylim(0, 1.1)\n",
        "plt.legend()\n",
        "plt.tight_layout()\n",
        "plt.show()\n"
      ],
      "metadata": {
        "colab": {
          "base_uri": "https://localhost:8080/",
          "height": 607
        },
        "id": "1duY3IYhBOs0",
        "outputId": "ca7c483a-23cc-4c8b-af52-f12a01932818"
      },
      "execution_count": 65,
      "outputs": [
        {
          "output_type": "display_data",
          "data": {
            "text/plain": [
              "<Figure size 1000x600 with 2 Axes>"
            ],
            "image/png": "[encoded data removed]"
          },
          "metadata": {}
        }
      ]
    },
    {
      "cell_type": "code",
      "source": [],
      "metadata": {
        "id": "TmGHGiAHD_8k"
      },
      "execution_count": null,
      "outputs": []
    }
  ]
}